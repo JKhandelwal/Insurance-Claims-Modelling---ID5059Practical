{
 "cells": [
  {
   "cell_type": "markdown",
   "metadata": {},
   "source": [
    "## I confirm that this is my own work, except where clearly indicated."
   ]
  },
  {
   "cell_type": "markdown",
   "metadata": {},
   "source": [
    "### Importing packages "
   ]
  },
  {
   "cell_type": "code",
   "execution_count": 462,
   "metadata": {},
   "outputs": [],
   "source": [
    "import pandas as pd\n",
    "import matplotlib.pyplot as plt \n",
    "import numpy as np \n",
    "import math\n",
    "import seaborn as sns"
   ]
  },
  {
   "cell_type": "markdown",
   "metadata": {},
   "source": [
    "### Reading the data in, and splitting into training and testing sets"
   ]
  },
  {
   "cell_type": "code",
   "execution_count": 463,
   "metadata": {},
   "outputs": [],
   "source": [
    "input_data = pd.read_csv(\"train.csv\")"
   ]
  },
  {
   "cell_type": "code",
   "execution_count": 464,
   "metadata": {},
   "outputs": [
    {
     "data": {
      "text/html": [
       "<div>\n",
       "<style scoped>\n",
       "    .dataframe tbody tr th:only-of-type {\n",
       "        vertical-align: middle;\n",
       "    }\n",
       "\n",
       "    .dataframe tbody tr th {\n",
       "        vertical-align: top;\n",
       "    }\n",
       "\n",
       "    .dataframe thead th {\n",
       "        text-align: right;\n",
       "    }\n",
       "</style>\n",
       "<table border=\"1\" class=\"dataframe\">\n",
       "  <thead>\n",
       "    <tr style=\"text-align: right;\">\n",
       "      <th></th>\n",
       "      <th>id</th>\n",
       "      <th>target</th>\n",
       "      <th>ps_ind_01</th>\n",
       "      <th>ps_ind_02_cat</th>\n",
       "      <th>ps_ind_03</th>\n",
       "      <th>ps_ind_04_cat</th>\n",
       "      <th>ps_ind_05_cat</th>\n",
       "      <th>ps_ind_06_bin</th>\n",
       "      <th>ps_ind_07_bin</th>\n",
       "      <th>ps_ind_08_bin</th>\n",
       "      <th>...</th>\n",
       "      <th>ps_calc_11</th>\n",
       "      <th>ps_calc_12</th>\n",
       "      <th>ps_calc_13</th>\n",
       "      <th>ps_calc_14</th>\n",
       "      <th>ps_calc_15_bin</th>\n",
       "      <th>ps_calc_16_bin</th>\n",
       "      <th>ps_calc_17_bin</th>\n",
       "      <th>ps_calc_18_bin</th>\n",
       "      <th>ps_calc_19_bin</th>\n",
       "      <th>ps_calc_20_bin</th>\n",
       "    </tr>\n",
       "  </thead>\n",
       "  <tbody>\n",
       "    <tr>\n",
       "      <td>0</td>\n",
       "      <td>7</td>\n",
       "      <td>0</td>\n",
       "      <td>2</td>\n",
       "      <td>2</td>\n",
       "      <td>5</td>\n",
       "      <td>1</td>\n",
       "      <td>0</td>\n",
       "      <td>0</td>\n",
       "      <td>1</td>\n",
       "      <td>0</td>\n",
       "      <td>...</td>\n",
       "      <td>9</td>\n",
       "      <td>1</td>\n",
       "      <td>5</td>\n",
       "      <td>8</td>\n",
       "      <td>0</td>\n",
       "      <td>1</td>\n",
       "      <td>1</td>\n",
       "      <td>0</td>\n",
       "      <td>0</td>\n",
       "      <td>1</td>\n",
       "    </tr>\n",
       "    <tr>\n",
       "      <td>1</td>\n",
       "      <td>9</td>\n",
       "      <td>0</td>\n",
       "      <td>1</td>\n",
       "      <td>1</td>\n",
       "      <td>7</td>\n",
       "      <td>0</td>\n",
       "      <td>0</td>\n",
       "      <td>0</td>\n",
       "      <td>0</td>\n",
       "      <td>1</td>\n",
       "      <td>...</td>\n",
       "      <td>3</td>\n",
       "      <td>1</td>\n",
       "      <td>1</td>\n",
       "      <td>9</td>\n",
       "      <td>0</td>\n",
       "      <td>1</td>\n",
       "      <td>1</td>\n",
       "      <td>0</td>\n",
       "      <td>1</td>\n",
       "      <td>0</td>\n",
       "    </tr>\n",
       "    <tr>\n",
       "      <td>2</td>\n",
       "      <td>13</td>\n",
       "      <td>0</td>\n",
       "      <td>5</td>\n",
       "      <td>4</td>\n",
       "      <td>9</td>\n",
       "      <td>1</td>\n",
       "      <td>0</td>\n",
       "      <td>0</td>\n",
       "      <td>0</td>\n",
       "      <td>1</td>\n",
       "      <td>...</td>\n",
       "      <td>4</td>\n",
       "      <td>2</td>\n",
       "      <td>7</td>\n",
       "      <td>7</td>\n",
       "      <td>0</td>\n",
       "      <td>1</td>\n",
       "      <td>1</td>\n",
       "      <td>0</td>\n",
       "      <td>1</td>\n",
       "      <td>0</td>\n",
       "    </tr>\n",
       "    <tr>\n",
       "      <td>3</td>\n",
       "      <td>16</td>\n",
       "      <td>0</td>\n",
       "      <td>0</td>\n",
       "      <td>1</td>\n",
       "      <td>2</td>\n",
       "      <td>0</td>\n",
       "      <td>0</td>\n",
       "      <td>1</td>\n",
       "      <td>0</td>\n",
       "      <td>0</td>\n",
       "      <td>...</td>\n",
       "      <td>2</td>\n",
       "      <td>2</td>\n",
       "      <td>4</td>\n",
       "      <td>9</td>\n",
       "      <td>0</td>\n",
       "      <td>0</td>\n",
       "      <td>0</td>\n",
       "      <td>0</td>\n",
       "      <td>0</td>\n",
       "      <td>0</td>\n",
       "    </tr>\n",
       "    <tr>\n",
       "      <td>4</td>\n",
       "      <td>17</td>\n",
       "      <td>0</td>\n",
       "      <td>0</td>\n",
       "      <td>2</td>\n",
       "      <td>0</td>\n",
       "      <td>1</td>\n",
       "      <td>0</td>\n",
       "      <td>1</td>\n",
       "      <td>0</td>\n",
       "      <td>0</td>\n",
       "      <td>...</td>\n",
       "      <td>3</td>\n",
       "      <td>1</td>\n",
       "      <td>1</td>\n",
       "      <td>3</td>\n",
       "      <td>0</td>\n",
       "      <td>0</td>\n",
       "      <td>0</td>\n",
       "      <td>1</td>\n",
       "      <td>1</td>\n",
       "      <td>0</td>\n",
       "    </tr>\n",
       "    <tr>\n",
       "      <td>...</td>\n",
       "      <td>...</td>\n",
       "      <td>...</td>\n",
       "      <td>...</td>\n",
       "      <td>...</td>\n",
       "      <td>...</td>\n",
       "      <td>...</td>\n",
       "      <td>...</td>\n",
       "      <td>...</td>\n",
       "      <td>...</td>\n",
       "      <td>...</td>\n",
       "      <td>...</td>\n",
       "      <td>...</td>\n",
       "      <td>...</td>\n",
       "      <td>...</td>\n",
       "      <td>...</td>\n",
       "      <td>...</td>\n",
       "      <td>...</td>\n",
       "      <td>...</td>\n",
       "      <td>...</td>\n",
       "      <td>...</td>\n",
       "      <td>...</td>\n",
       "    </tr>\n",
       "    <tr>\n",
       "      <td>595207</td>\n",
       "      <td>1488013</td>\n",
       "      <td>0</td>\n",
       "      <td>3</td>\n",
       "      <td>1</td>\n",
       "      <td>10</td>\n",
       "      <td>0</td>\n",
       "      <td>0</td>\n",
       "      <td>0</td>\n",
       "      <td>0</td>\n",
       "      <td>0</td>\n",
       "      <td>...</td>\n",
       "      <td>4</td>\n",
       "      <td>1</td>\n",
       "      <td>9</td>\n",
       "      <td>6</td>\n",
       "      <td>0</td>\n",
       "      <td>1</td>\n",
       "      <td>1</td>\n",
       "      <td>0</td>\n",
       "      <td>1</td>\n",
       "      <td>1</td>\n",
       "    </tr>\n",
       "    <tr>\n",
       "      <td>595208</td>\n",
       "      <td>1488016</td>\n",
       "      <td>0</td>\n",
       "      <td>5</td>\n",
       "      <td>1</td>\n",
       "      <td>3</td>\n",
       "      <td>0</td>\n",
       "      <td>0</td>\n",
       "      <td>0</td>\n",
       "      <td>0</td>\n",
       "      <td>0</td>\n",
       "      <td>...</td>\n",
       "      <td>4</td>\n",
       "      <td>1</td>\n",
       "      <td>3</td>\n",
       "      <td>8</td>\n",
       "      <td>1</td>\n",
       "      <td>0</td>\n",
       "      <td>1</td>\n",
       "      <td>0</td>\n",
       "      <td>1</td>\n",
       "      <td>1</td>\n",
       "    </tr>\n",
       "    <tr>\n",
       "      <td>595209</td>\n",
       "      <td>1488017</td>\n",
       "      <td>0</td>\n",
       "      <td>1</td>\n",
       "      <td>1</td>\n",
       "      <td>10</td>\n",
       "      <td>0</td>\n",
       "      <td>0</td>\n",
       "      <td>1</td>\n",
       "      <td>0</td>\n",
       "      <td>0</td>\n",
       "      <td>...</td>\n",
       "      <td>3</td>\n",
       "      <td>2</td>\n",
       "      <td>2</td>\n",
       "      <td>6</td>\n",
       "      <td>0</td>\n",
       "      <td>0</td>\n",
       "      <td>1</td>\n",
       "      <td>0</td>\n",
       "      <td>0</td>\n",
       "      <td>0</td>\n",
       "    </tr>\n",
       "    <tr>\n",
       "      <td>595210</td>\n",
       "      <td>1488021</td>\n",
       "      <td>0</td>\n",
       "      <td>5</td>\n",
       "      <td>2</td>\n",
       "      <td>3</td>\n",
       "      <td>1</td>\n",
       "      <td>0</td>\n",
       "      <td>0</td>\n",
       "      <td>0</td>\n",
       "      <td>1</td>\n",
       "      <td>...</td>\n",
       "      <td>4</td>\n",
       "      <td>1</td>\n",
       "      <td>4</td>\n",
       "      <td>2</td>\n",
       "      <td>0</td>\n",
       "      <td>1</td>\n",
       "      <td>1</td>\n",
       "      <td>1</td>\n",
       "      <td>0</td>\n",
       "      <td>0</td>\n",
       "    </tr>\n",
       "    <tr>\n",
       "      <td>595211</td>\n",
       "      <td>1488027</td>\n",
       "      <td>0</td>\n",
       "      <td>0</td>\n",
       "      <td>1</td>\n",
       "      <td>8</td>\n",
       "      <td>0</td>\n",
       "      <td>0</td>\n",
       "      <td>1</td>\n",
       "      <td>0</td>\n",
       "      <td>0</td>\n",
       "      <td>...</td>\n",
       "      <td>4</td>\n",
       "      <td>4</td>\n",
       "      <td>3</td>\n",
       "      <td>8</td>\n",
       "      <td>0</td>\n",
       "      <td>1</td>\n",
       "      <td>0</td>\n",
       "      <td>0</td>\n",
       "      <td>0</td>\n",
       "      <td>0</td>\n",
       "    </tr>\n",
       "  </tbody>\n",
       "</table>\n",
       "<p>595212 rows × 59 columns</p>\n",
       "</div>"
      ],
      "text/plain": [
       "             id  target  ps_ind_01  ps_ind_02_cat  ps_ind_03  ps_ind_04_cat  \\\n",
       "0             7       0          2              2          5              1   \n",
       "1             9       0          1              1          7              0   \n",
       "2            13       0          5              4          9              1   \n",
       "3            16       0          0              1          2              0   \n",
       "4            17       0          0              2          0              1   \n",
       "...         ...     ...        ...            ...        ...            ...   \n",
       "595207  1488013       0          3              1         10              0   \n",
       "595208  1488016       0          5              1          3              0   \n",
       "595209  1488017       0          1              1         10              0   \n",
       "595210  1488021       0          5              2          3              1   \n",
       "595211  1488027       0          0              1          8              0   \n",
       "\n",
       "        ps_ind_05_cat  ps_ind_06_bin  ps_ind_07_bin  ps_ind_08_bin  ...  \\\n",
       "0                   0              0              1              0  ...   \n",
       "1                   0              0              0              1  ...   \n",
       "2                   0              0              0              1  ...   \n",
       "3                   0              1              0              0  ...   \n",
       "4                   0              1              0              0  ...   \n",
       "...               ...            ...            ...            ...  ...   \n",
       "595207              0              0              0              0  ...   \n",
       "595208              0              0              0              0  ...   \n",
       "595209              0              1              0              0  ...   \n",
       "595210              0              0              0              1  ...   \n",
       "595211              0              1              0              0  ...   \n",
       "\n",
       "        ps_calc_11  ps_calc_12  ps_calc_13  ps_calc_14  ps_calc_15_bin  \\\n",
       "0                9           1           5           8               0   \n",
       "1                3           1           1           9               0   \n",
       "2                4           2           7           7               0   \n",
       "3                2           2           4           9               0   \n",
       "4                3           1           1           3               0   \n",
       "...            ...         ...         ...         ...             ...   \n",
       "595207           4           1           9           6               0   \n",
       "595208           4           1           3           8               1   \n",
       "595209           3           2           2           6               0   \n",
       "595210           4           1           4           2               0   \n",
       "595211           4           4           3           8               0   \n",
       "\n",
       "        ps_calc_16_bin  ps_calc_17_bin  ps_calc_18_bin  ps_calc_19_bin  \\\n",
       "0                    1               1               0               0   \n",
       "1                    1               1               0               1   \n",
       "2                    1               1               0               1   \n",
       "3                    0               0               0               0   \n",
       "4                    0               0               1               1   \n",
       "...                ...             ...             ...             ...   \n",
       "595207               1               1               0               1   \n",
       "595208               0               1               0               1   \n",
       "595209               0               1               0               0   \n",
       "595210               1               1               1               0   \n",
       "595211               1               0               0               0   \n",
       "\n",
       "        ps_calc_20_bin  \n",
       "0                    1  \n",
       "1                    0  \n",
       "2                    0  \n",
       "3                    0  \n",
       "4                    0  \n",
       "...                ...  \n",
       "595207               1  \n",
       "595208               1  \n",
       "595209               0  \n",
       "595210               0  \n",
       "595211               0  \n",
       "\n",
       "[595212 rows x 59 columns]"
      ]
     },
     "execution_count": 464,
     "metadata": {},
     "output_type": "execute_result"
    }
   ],
   "source": [
    "input_data"
   ]
  },
  {
   "cell_type": "code",
   "execution_count": 465,
   "metadata": {},
   "outputs": [],
   "source": [
    "# Drop ID \n",
    "input_data = input_data.drop(\"id\", axis=1)"
   ]
  },
  {
   "cell_type": "code",
   "execution_count": 466,
   "metadata": {},
   "outputs": [
    {
     "data": {
      "text/plain": [
       "array([0, 1])"
      ]
     },
     "execution_count": 466,
     "metadata": {},
     "output_type": "execute_result"
    }
   ],
   "source": [
    "input_data[\"target\"].unique()"
   ]
  },
  {
   "cell_type": "code",
   "execution_count": 467,
   "metadata": {},
   "outputs": [],
   "source": [
    "Y = input_data[\"target\"]\n",
    "X = input_data.iloc[:,1:]"
   ]
  },
  {
   "cell_type": "code",
   "execution_count": 468,
   "metadata": {},
   "outputs": [],
   "source": [
    "from sklearn.model_selection import train_test_split\n",
    "X_Train, X_Test, Y_Train, Y_Test = train_test_split(X, Y, stratify=Y, test_size=0.30, random_state=42)"
   ]
  },
  {
   "cell_type": "code",
   "execution_count": 469,
   "metadata": {},
   "outputs": [],
   "source": [
    "del X, Y"
   ]
  },
  {
   "cell_type": "markdown",
   "metadata": {},
   "source": [
    "Checking the training data, for any outliers, it seems mostly fine"
   ]
  },
  {
   "cell_type": "code",
   "execution_count": 470,
   "metadata": {
    "scrolled": true
   },
   "outputs": [
    {
     "data": {
      "text/html": [
       "<div>\n",
       "<style scoped>\n",
       "    .dataframe tbody tr th:only-of-type {\n",
       "        vertical-align: middle;\n",
       "    }\n",
       "\n",
       "    .dataframe tbody tr th {\n",
       "        vertical-align: top;\n",
       "    }\n",
       "\n",
       "    .dataframe thead th {\n",
       "        text-align: right;\n",
       "    }\n",
       "</style>\n",
       "<table border=\"1\" class=\"dataframe\">\n",
       "  <thead>\n",
       "    <tr style=\"text-align: right;\">\n",
       "      <th></th>\n",
       "      <th>ps_ind_01</th>\n",
       "      <th>ps_ind_02_cat</th>\n",
       "      <th>ps_ind_03</th>\n",
       "      <th>ps_ind_04_cat</th>\n",
       "      <th>ps_ind_05_cat</th>\n",
       "      <th>ps_ind_06_bin</th>\n",
       "      <th>ps_ind_07_bin</th>\n",
       "      <th>ps_ind_08_bin</th>\n",
       "      <th>ps_ind_09_bin</th>\n",
       "      <th>ps_ind_10_bin</th>\n",
       "      <th>...</th>\n",
       "      <th>ps_calc_11</th>\n",
       "      <th>ps_calc_12</th>\n",
       "      <th>ps_calc_13</th>\n",
       "      <th>ps_calc_14</th>\n",
       "      <th>ps_calc_15_bin</th>\n",
       "      <th>ps_calc_16_bin</th>\n",
       "      <th>ps_calc_17_bin</th>\n",
       "      <th>ps_calc_18_bin</th>\n",
       "      <th>ps_calc_19_bin</th>\n",
       "      <th>ps_calc_20_bin</th>\n",
       "    </tr>\n",
       "  </thead>\n",
       "  <tbody>\n",
       "    <tr>\n",
       "      <td>count</td>\n",
       "      <td>416648.000000</td>\n",
       "      <td>416648.000000</td>\n",
       "      <td>416648.000000</td>\n",
       "      <td>416648.000000</td>\n",
       "      <td>416648.000000</td>\n",
       "      <td>416648.000000</td>\n",
       "      <td>416648.000000</td>\n",
       "      <td>416648.000000</td>\n",
       "      <td>416648.000000</td>\n",
       "      <td>416648.000000</td>\n",
       "      <td>...</td>\n",
       "      <td>416648.000000</td>\n",
       "      <td>416648.000000</td>\n",
       "      <td>416648.000000</td>\n",
       "      <td>416648.000000</td>\n",
       "      <td>416648.000000</td>\n",
       "      <td>416648.000000</td>\n",
       "      <td>416648.000000</td>\n",
       "      <td>416648.000000</td>\n",
       "      <td>416648.000000</td>\n",
       "      <td>416648.000000</td>\n",
       "    </tr>\n",
       "    <tr>\n",
       "      <td>mean</td>\n",
       "      <td>1.900295</td>\n",
       "      <td>1.358888</td>\n",
       "      <td>4.421207</td>\n",
       "      <td>0.417319</td>\n",
       "      <td>0.406293</td>\n",
       "      <td>0.392898</td>\n",
       "      <td>0.257227</td>\n",
       "      <td>0.164206</td>\n",
       "      <td>0.185670</td>\n",
       "      <td>0.000391</td>\n",
       "      <td>...</td>\n",
       "      <td>5.440413</td>\n",
       "      <td>1.440869</td>\n",
       "      <td>2.873142</td>\n",
       "      <td>7.537458</td>\n",
       "      <td>0.121973</td>\n",
       "      <td>0.628420</td>\n",
       "      <td>0.554055</td>\n",
       "      <td>0.287178</td>\n",
       "      <td>0.349043</td>\n",
       "      <td>0.153153</td>\n",
       "    </tr>\n",
       "    <tr>\n",
       "      <td>std</td>\n",
       "      <td>1.984169</td>\n",
       "      <td>0.664198</td>\n",
       "      <td>2.698962</td>\n",
       "      <td>0.493380</td>\n",
       "      <td>1.352404</td>\n",
       "      <td>0.488395</td>\n",
       "      <td>0.437106</td>\n",
       "      <td>0.370463</td>\n",
       "      <td>0.388841</td>\n",
       "      <td>0.019775</td>\n",
       "      <td>...</td>\n",
       "      <td>2.330926</td>\n",
       "      <td>1.201221</td>\n",
       "      <td>1.695121</td>\n",
       "      <td>2.748044</td>\n",
       "      <td>0.327256</td>\n",
       "      <td>0.483228</td>\n",
       "      <td>0.497070</td>\n",
       "      <td>0.452446</td>\n",
       "      <td>0.476668</td>\n",
       "      <td>0.360136</td>\n",
       "    </tr>\n",
       "    <tr>\n",
       "      <td>min</td>\n",
       "      <td>0.000000</td>\n",
       "      <td>-1.000000</td>\n",
       "      <td>0.000000</td>\n",
       "      <td>-1.000000</td>\n",
       "      <td>-1.000000</td>\n",
       "      <td>0.000000</td>\n",
       "      <td>0.000000</td>\n",
       "      <td>0.000000</td>\n",
       "      <td>0.000000</td>\n",
       "      <td>0.000000</td>\n",
       "      <td>...</td>\n",
       "      <td>0.000000</td>\n",
       "      <td>0.000000</td>\n",
       "      <td>0.000000</td>\n",
       "      <td>0.000000</td>\n",
       "      <td>0.000000</td>\n",
       "      <td>0.000000</td>\n",
       "      <td>0.000000</td>\n",
       "      <td>0.000000</td>\n",
       "      <td>0.000000</td>\n",
       "      <td>0.000000</td>\n",
       "    </tr>\n",
       "    <tr>\n",
       "      <td>25%</td>\n",
       "      <td>0.000000</td>\n",
       "      <td>1.000000</td>\n",
       "      <td>2.000000</td>\n",
       "      <td>0.000000</td>\n",
       "      <td>0.000000</td>\n",
       "      <td>0.000000</td>\n",
       "      <td>0.000000</td>\n",
       "      <td>0.000000</td>\n",
       "      <td>0.000000</td>\n",
       "      <td>0.000000</td>\n",
       "      <td>...</td>\n",
       "      <td>4.000000</td>\n",
       "      <td>1.000000</td>\n",
       "      <td>2.000000</td>\n",
       "      <td>6.000000</td>\n",
       "      <td>0.000000</td>\n",
       "      <td>0.000000</td>\n",
       "      <td>0.000000</td>\n",
       "      <td>0.000000</td>\n",
       "      <td>0.000000</td>\n",
       "      <td>0.000000</td>\n",
       "    </tr>\n",
       "    <tr>\n",
       "      <td>50%</td>\n",
       "      <td>1.000000</td>\n",
       "      <td>1.000000</td>\n",
       "      <td>4.000000</td>\n",
       "      <td>0.000000</td>\n",
       "      <td>0.000000</td>\n",
       "      <td>0.000000</td>\n",
       "      <td>0.000000</td>\n",
       "      <td>0.000000</td>\n",
       "      <td>0.000000</td>\n",
       "      <td>0.000000</td>\n",
       "      <td>...</td>\n",
       "      <td>5.000000</td>\n",
       "      <td>1.000000</td>\n",
       "      <td>3.000000</td>\n",
       "      <td>7.000000</td>\n",
       "      <td>0.000000</td>\n",
       "      <td>1.000000</td>\n",
       "      <td>1.000000</td>\n",
       "      <td>0.000000</td>\n",
       "      <td>0.000000</td>\n",
       "      <td>0.000000</td>\n",
       "    </tr>\n",
       "    <tr>\n",
       "      <td>75%</td>\n",
       "      <td>3.000000</td>\n",
       "      <td>2.000000</td>\n",
       "      <td>6.000000</td>\n",
       "      <td>1.000000</td>\n",
       "      <td>0.000000</td>\n",
       "      <td>1.000000</td>\n",
       "      <td>1.000000</td>\n",
       "      <td>0.000000</td>\n",
       "      <td>0.000000</td>\n",
       "      <td>0.000000</td>\n",
       "      <td>...</td>\n",
       "      <td>7.000000</td>\n",
       "      <td>2.000000</td>\n",
       "      <td>4.000000</td>\n",
       "      <td>9.000000</td>\n",
       "      <td>0.000000</td>\n",
       "      <td>1.000000</td>\n",
       "      <td>1.000000</td>\n",
       "      <td>1.000000</td>\n",
       "      <td>1.000000</td>\n",
       "      <td>0.000000</td>\n",
       "    </tr>\n",
       "    <tr>\n",
       "      <td>max</td>\n",
       "      <td>7.000000</td>\n",
       "      <td>4.000000</td>\n",
       "      <td>11.000000</td>\n",
       "      <td>1.000000</td>\n",
       "      <td>6.000000</td>\n",
       "      <td>1.000000</td>\n",
       "      <td>1.000000</td>\n",
       "      <td>1.000000</td>\n",
       "      <td>1.000000</td>\n",
       "      <td>1.000000</td>\n",
       "      <td>...</td>\n",
       "      <td>19.000000</td>\n",
       "      <td>10.000000</td>\n",
       "      <td>13.000000</td>\n",
       "      <td>22.000000</td>\n",
       "      <td>1.000000</td>\n",
       "      <td>1.000000</td>\n",
       "      <td>1.000000</td>\n",
       "      <td>1.000000</td>\n",
       "      <td>1.000000</td>\n",
       "      <td>1.000000</td>\n",
       "    </tr>\n",
       "  </tbody>\n",
       "</table>\n",
       "<p>8 rows × 57 columns</p>\n",
       "</div>"
      ],
      "text/plain": [
       "           ps_ind_01  ps_ind_02_cat      ps_ind_03  ps_ind_04_cat  \\\n",
       "count  416648.000000  416648.000000  416648.000000  416648.000000   \n",
       "mean        1.900295       1.358888       4.421207       0.417319   \n",
       "std         1.984169       0.664198       2.698962       0.493380   \n",
       "min         0.000000      -1.000000       0.000000      -1.000000   \n",
       "25%         0.000000       1.000000       2.000000       0.000000   \n",
       "50%         1.000000       1.000000       4.000000       0.000000   \n",
       "75%         3.000000       2.000000       6.000000       1.000000   \n",
       "max         7.000000       4.000000      11.000000       1.000000   \n",
       "\n",
       "       ps_ind_05_cat  ps_ind_06_bin  ps_ind_07_bin  ps_ind_08_bin  \\\n",
       "count  416648.000000  416648.000000  416648.000000  416648.000000   \n",
       "mean        0.406293       0.392898       0.257227       0.164206   \n",
       "std         1.352404       0.488395       0.437106       0.370463   \n",
       "min        -1.000000       0.000000       0.000000       0.000000   \n",
       "25%         0.000000       0.000000       0.000000       0.000000   \n",
       "50%         0.000000       0.000000       0.000000       0.000000   \n",
       "75%         0.000000       1.000000       1.000000       0.000000   \n",
       "max         6.000000       1.000000       1.000000       1.000000   \n",
       "\n",
       "       ps_ind_09_bin  ps_ind_10_bin  ...     ps_calc_11     ps_calc_12  \\\n",
       "count  416648.000000  416648.000000  ...  416648.000000  416648.000000   \n",
       "mean        0.185670       0.000391  ...       5.440413       1.440869   \n",
       "std         0.388841       0.019775  ...       2.330926       1.201221   \n",
       "min         0.000000       0.000000  ...       0.000000       0.000000   \n",
       "25%         0.000000       0.000000  ...       4.000000       1.000000   \n",
       "50%         0.000000       0.000000  ...       5.000000       1.000000   \n",
       "75%         0.000000       0.000000  ...       7.000000       2.000000   \n",
       "max         1.000000       1.000000  ...      19.000000      10.000000   \n",
       "\n",
       "          ps_calc_13     ps_calc_14  ps_calc_15_bin  ps_calc_16_bin  \\\n",
       "count  416648.000000  416648.000000   416648.000000   416648.000000   \n",
       "mean        2.873142       7.537458        0.121973        0.628420   \n",
       "std         1.695121       2.748044        0.327256        0.483228   \n",
       "min         0.000000       0.000000        0.000000        0.000000   \n",
       "25%         2.000000       6.000000        0.000000        0.000000   \n",
       "50%         3.000000       7.000000        0.000000        1.000000   \n",
       "75%         4.000000       9.000000        0.000000        1.000000   \n",
       "max        13.000000      22.000000        1.000000        1.000000   \n",
       "\n",
       "       ps_calc_17_bin  ps_calc_18_bin  ps_calc_19_bin  ps_calc_20_bin  \n",
       "count   416648.000000   416648.000000   416648.000000   416648.000000  \n",
       "mean         0.554055        0.287178        0.349043        0.153153  \n",
       "std          0.497070        0.452446        0.476668        0.360136  \n",
       "min          0.000000        0.000000        0.000000        0.000000  \n",
       "25%          0.000000        0.000000        0.000000        0.000000  \n",
       "50%          1.000000        0.000000        0.000000        0.000000  \n",
       "75%          1.000000        1.000000        1.000000        0.000000  \n",
       "max          1.000000        1.000000        1.000000        1.000000  \n",
       "\n",
       "[8 rows x 57 columns]"
      ]
     },
     "execution_count": 470,
     "metadata": {},
     "output_type": "execute_result"
    }
   ],
   "source": [
    "X_Train.describe()"
   ]
  },
  {
   "cell_type": "markdown",
   "metadata": {},
   "source": [
    "Find the number of -1s in the data, and check the proportion of -1s in the data, also change the type of the categorical data to be categorical"
   ]
  },
  {
   "cell_type": "code",
   "execution_count": 471,
   "metadata": {},
   "outputs": [],
   "source": [
    "list_of_missing = []\n",
    "for col in X_Train.columns:\n",
    "    if \"cat\" in col:\n",
    "        X_Train[col] = pd.Categorical(X_Train[col])\n",
    "        \n",
    "    total = X_Train[X_Train[col] == -1].count()\n",
    "    if total[0] > 0: \n",
    "        list_of_missing.append((col, total[0]/len(X_Train)))"
   ]
  },
  {
   "cell_type": "code",
   "execution_count": 472,
   "metadata": {},
   "outputs": [
    {
     "data": {
      "text/plain": [
       "[('ps_car_11', 7.200322574451335e-06),\n",
       " ('ps_car_02_cat', 9.600430099268447e-06),\n",
       " ('ps_ind_04_cat', 0.00012960580634012404),\n",
       " ('ps_car_01_cat', 0.00017520784931164917),\n",
       " ('ps_ind_02_cat', 0.00033841516099921277),\n",
       " ('ps_car_09_cat', 0.0009744436550757474),\n",
       " ('ps_ind_05_cat', 0.00963163149709107),\n",
       " ('ps_car_07_cat', 0.0192296614888347),\n",
       " ('ps_car_14', 0.07168161133618786),\n",
       " ('ps_reg_03', 0.18111691403774888),\n",
       " ('ps_car_05_cat', 0.4475432499375972),\n",
       " ('ps_car_03_cat', 0.6908949520938538)]"
      ]
     },
     "execution_count": 472,
     "metadata": {},
     "output_type": "execute_result"
    }
   ],
   "source": [
    "list_of_missing.sort(key = lambda x: x[1]) \n",
    "list_of_missing"
   ]
  },
  {
   "cell_type": "code",
   "execution_count": 473,
   "metadata": {},
   "outputs": [],
   "source": [
    "# remove 3 columns with the highest -1 percentages, as the lowest is nearly 20%, and the highest has 70% missing data\n",
    "X_Train = X_Train.drop([\"ps_car_03_cat\",\"ps_car_05_cat\", \"ps_reg_03\"], axis=1)"
   ]
  },
  {
   "cell_type": "markdown",
   "metadata": {},
   "source": [
    "Remove the same columns from the \"test\" data "
   ]
  },
  {
   "cell_type": "code",
   "execution_count": 474,
   "metadata": {},
   "outputs": [],
   "source": [
    "X_Test = X_Test.drop([\"ps_car_03_cat\",\"ps_car_05_cat\", \"ps_reg_03\"], axis=1)"
   ]
  },
  {
   "cell_type": "markdown",
   "metadata": {},
   "source": [
    "Impute across the -1s for the rest of the columns with the median for categorical columns and the mean otherwise"
   ]
  },
  {
   "cell_type": "code",
   "execution_count": 475,
   "metadata": {},
   "outputs": [],
   "source": [
    "imputer_list = {}"
   ]
  },
  {
   "cell_type": "code",
   "execution_count": 476,
   "metadata": {},
   "outputs": [],
   "source": [
    "from sklearn.impute import SimpleImputer"
   ]
  },
  {
   "cell_type": "markdown",
   "metadata": {},
   "source": [
    "This trains the imputer with the means/medians of the training data, and changes the test data using that \n",
    "\n",
    "The imputers are all stored as well for the submission data, if there are -1s there, it will be transformed \n",
    "using the imputers from the training data."
   ]
  },
  {
   "cell_type": "code",
   "execution_count": 477,
   "metadata": {},
   "outputs": [],
   "source": [
    "for i in list_of_missing[0:-3]:\n",
    "    name = i[0]\n",
    "    if \"cat\" in name:\n",
    "        imp = SimpleImputer(missing_values=-1, strategy='median')\n",
    "    else:\n",
    "        imp = SimpleImputer(missing_values=-1, strategy='mean')\n",
    "        \n",
    "    X_Train[name] = imp.fit_transform(X_Train[[name]])\n",
    "    X_Test[name]  = imp.transform(X_Test[[name]])\n",
    "    imputer_list[name] = imp"
   ]
  },
  {
   "cell_type": "markdown",
   "metadata": {},
   "source": [
    "Check if there are any -1s left in the data"
   ]
  },
  {
   "cell_type": "code",
   "execution_count": 478,
   "metadata": {
    "scrolled": true
   },
   "outputs": [
    {
     "data": {
      "text/html": [
       "<div>\n",
       "<style scoped>\n",
       "    .dataframe tbody tr th:only-of-type {\n",
       "        vertical-align: middle;\n",
       "    }\n",
       "\n",
       "    .dataframe tbody tr th {\n",
       "        vertical-align: top;\n",
       "    }\n",
       "\n",
       "    .dataframe thead th {\n",
       "        text-align: right;\n",
       "    }\n",
       "</style>\n",
       "<table border=\"1\" class=\"dataframe\">\n",
       "  <thead>\n",
       "    <tr style=\"text-align: right;\">\n",
       "      <th></th>\n",
       "      <th>ps_ind_01</th>\n",
       "      <th>ps_ind_02_cat</th>\n",
       "      <th>ps_ind_03</th>\n",
       "      <th>ps_ind_04_cat</th>\n",
       "      <th>ps_ind_05_cat</th>\n",
       "      <th>ps_ind_06_bin</th>\n",
       "      <th>ps_ind_07_bin</th>\n",
       "      <th>ps_ind_08_bin</th>\n",
       "      <th>ps_ind_09_bin</th>\n",
       "      <th>ps_ind_10_bin</th>\n",
       "      <th>...</th>\n",
       "      <th>ps_calc_11</th>\n",
       "      <th>ps_calc_12</th>\n",
       "      <th>ps_calc_13</th>\n",
       "      <th>ps_calc_14</th>\n",
       "      <th>ps_calc_15_bin</th>\n",
       "      <th>ps_calc_16_bin</th>\n",
       "      <th>ps_calc_17_bin</th>\n",
       "      <th>ps_calc_18_bin</th>\n",
       "      <th>ps_calc_19_bin</th>\n",
       "      <th>ps_calc_20_bin</th>\n",
       "    </tr>\n",
       "  </thead>\n",
       "  <tbody>\n",
       "  </tbody>\n",
       "</table>\n",
       "<p>0 rows × 54 columns</p>\n",
       "</div>"
      ],
      "text/plain": [
       "Empty DataFrame\n",
       "Columns: [ps_ind_01, ps_ind_02_cat, ps_ind_03, ps_ind_04_cat, ps_ind_05_cat, ps_ind_06_bin, ps_ind_07_bin, ps_ind_08_bin, ps_ind_09_bin, ps_ind_10_bin, ps_ind_11_bin, ps_ind_12_bin, ps_ind_13_bin, ps_ind_14, ps_ind_15, ps_ind_16_bin, ps_ind_17_bin, ps_ind_18_bin, ps_reg_01, ps_reg_02, ps_car_01_cat, ps_car_02_cat, ps_car_04_cat, ps_car_06_cat, ps_car_07_cat, ps_car_08_cat, ps_car_09_cat, ps_car_10_cat, ps_car_11_cat, ps_car_11, ps_car_12, ps_car_13, ps_car_14, ps_car_15, ps_calc_01, ps_calc_02, ps_calc_03, ps_calc_04, ps_calc_05, ps_calc_06, ps_calc_07, ps_calc_08, ps_calc_09, ps_calc_10, ps_calc_11, ps_calc_12, ps_calc_13, ps_calc_14, ps_calc_15_bin, ps_calc_16_bin, ps_calc_17_bin, ps_calc_18_bin, ps_calc_19_bin, ps_calc_20_bin]\n",
       "Index: []\n",
       "\n",
       "[0 rows x 54 columns]"
      ]
     },
     "execution_count": 478,
     "metadata": {},
     "output_type": "execute_result"
    }
   ],
   "source": [
    "mask = np.column_stack([X_Train[col] == -1 for col in X_Train])\n",
    "X_Train.loc[mask.any(axis=1)]"
   ]
  },
  {
   "cell_type": "markdown",
   "metadata": {},
   "source": [
    "print the data types as they need to be reset after selecting them from the extra trees classifier"
   ]
  },
  {
   "cell_type": "code",
   "execution_count": 479,
   "metadata": {},
   "outputs": [
    {
     "data": {
      "text/plain": [
       "ps_ind_01            int64\n",
       "ps_ind_02_cat      float64\n",
       "ps_ind_03            int64\n",
       "ps_ind_04_cat      float64\n",
       "ps_ind_05_cat      float64\n",
       "ps_ind_06_bin        int64\n",
       "ps_ind_07_bin        int64\n",
       "ps_ind_08_bin        int64\n",
       "ps_ind_09_bin        int64\n",
       "ps_ind_10_bin        int64\n",
       "ps_ind_11_bin        int64\n",
       "ps_ind_12_bin        int64\n",
       "ps_ind_13_bin        int64\n",
       "ps_ind_14            int64\n",
       "ps_ind_15            int64\n",
       "ps_ind_16_bin        int64\n",
       "ps_ind_17_bin        int64\n",
       "ps_ind_18_bin        int64\n",
       "ps_reg_01          float64\n",
       "ps_reg_02          float64\n",
       "ps_car_01_cat      float64\n",
       "ps_car_02_cat      float64\n",
       "ps_car_04_cat     category\n",
       "ps_car_06_cat     category\n",
       "ps_car_07_cat      float64\n",
       "ps_car_08_cat     category\n",
       "ps_car_09_cat      float64\n",
       "ps_car_10_cat     category\n",
       "ps_car_11_cat     category\n",
       "ps_car_11          float64\n",
       "ps_car_12          float64\n",
       "ps_car_13          float64\n",
       "ps_car_14          float64\n",
       "ps_car_15          float64\n",
       "ps_calc_01         float64\n",
       "ps_calc_02         float64\n",
       "ps_calc_03         float64\n",
       "ps_calc_04           int64\n",
       "ps_calc_05           int64\n",
       "ps_calc_06           int64\n",
       "ps_calc_07           int64\n",
       "ps_calc_08           int64\n",
       "ps_calc_09           int64\n",
       "ps_calc_10           int64\n",
       "ps_calc_11           int64\n",
       "ps_calc_12           int64\n",
       "ps_calc_13           int64\n",
       "ps_calc_14           int64\n",
       "ps_calc_15_bin       int64\n",
       "ps_calc_16_bin       int64\n",
       "ps_calc_17_bin       int64\n",
       "ps_calc_18_bin       int64\n",
       "ps_calc_19_bin       int64\n",
       "ps_calc_20_bin       int64\n",
       "dtype: object"
      ]
     },
     "execution_count": 479,
     "metadata": {},
     "output_type": "execute_result"
    }
   ],
   "source": [
    "X_Train.dtypes"
   ]
  },
  {
   "cell_type": "markdown",
   "metadata": {},
   "source": [
    "## Perform Feature Selection"
   ]
  },
  {
   "cell_type": "markdown",
   "metadata": {},
   "source": [
    "#### Using Extra Trees"
   ]
  },
  {
   "cell_type": "markdown",
   "metadata": {},
   "source": [
    "This performs feature selection using the extra trees classifier, the code is adapted from \n",
    "\n",
    "https://scikit-learn.org/stable/modules/feature_selection.html#tree-based-feature-selection\n",
    "and\n",
    "https://scikit-learn.org/stable/auto_examples/ensemble/plot_forest_importances.html#sphx-glr-auto-examples-ensemble-plot-forest-importances-py\n",
    "\n"
   ]
  },
  {
   "cell_type": "code",
   "execution_count": 480,
   "metadata": {},
   "outputs": [],
   "source": [
    "from sklearn.ensemble import ExtraTreesClassifier\n",
    "from sklearn.feature_selection import SelectFromModel"
   ]
  },
  {
   "cell_type": "code",
   "execution_count": 481,
   "metadata": {},
   "outputs": [],
   "source": [
    "clf = ExtraTreesClassifier(n_estimators=50)"
   ]
  },
  {
   "cell_type": "markdown",
   "metadata": {},
   "source": [
    "Fit training data"
   ]
  },
  {
   "cell_type": "code",
   "execution_count": 482,
   "metadata": {
    "scrolled": true
   },
   "outputs": [],
   "source": [
    "clf = clf.fit(X_Train, Y_Train)"
   ]
  },
  {
   "cell_type": "markdown",
   "metadata": {},
   "source": [
    "Calculate and display importances"
   ]
  },
  {
   "cell_type": "code",
   "execution_count": 483,
   "metadata": {},
   "outputs": [
    {
     "data": {
      "image/png": "[encoded data removed]",
      "text/plain": [
       "<Figure size 432x288 with 1 Axes>"
      ]
     },
     "metadata": {
      "needs_background": "light"
     },
     "output_type": "display_data"
    }
   ],
   "source": [
    "importances = clf.feature_importances_\n",
    "std = np.std([tree.feature_importances_ for tree in clf.estimators_],\n",
    "             axis=0)\n",
    "indices = np.argsort(importances)[::-1]\n",
    "\n",
    "# Plot the feature importances of the forest\n",
    "plt.figure()\n",
    "plt.title(\"Feature importances\")\n",
    "plt.bar(range(X_Train.shape[1]), importances[indices],\n",
    "       color=\"r\", yerr=std[indices], align=\"center\")\n",
    "plt.xticks(range(X_Train.shape[1]), indices)\n",
    "plt.xlim([-1, X_Train.shape[1]])\n",
    "plt.show()"
   ]
  },
  {
   "cell_type": "markdown",
   "metadata": {},
   "source": [
    "The mean importance is the threshold when selecting, so checking what the mean is"
   ]
  },
  {
   "cell_type": "code",
   "execution_count": 484,
   "metadata": {},
   "outputs": [
    {
     "data": {
      "text/plain": [
       "0.01851851851851852"
      ]
     },
     "execution_count": 484,
     "metadata": {},
     "output_type": "execute_result"
    }
   ],
   "source": [
    "np.mean(importances)"
   ]
  },
  {
   "cell_type": "markdown",
   "metadata": {},
   "source": [
    "Selecting features based on the feature importances"
   ]
  },
  {
   "cell_type": "code",
   "execution_count": 485,
   "metadata": {},
   "outputs": [],
   "source": [
    "model = SelectFromModel(clf, prefit=True)"
   ]
  },
  {
   "cell_type": "markdown",
   "metadata": {},
   "source": [
    "Fetching the column names which were kept"
   ]
  },
  {
   "cell_type": "code",
   "execution_count": 486,
   "metadata": {},
   "outputs": [
    {
     "data": {
      "text/plain": [
       "Index(['ps_ind_01', 'ps_ind_03', 'ps_ind_15', 'ps_reg_01', 'ps_reg_02',\n",
       "       'ps_car_01_cat', 'ps_car_06_cat', 'ps_car_09_cat', 'ps_car_11_cat',\n",
       "       'ps_car_11', 'ps_car_12', 'ps_car_13', 'ps_car_14', 'ps_car_15',\n",
       "       'ps_calc_01', 'ps_calc_02', 'ps_calc_03', 'ps_calc_04', 'ps_calc_05',\n",
       "       'ps_calc_06', 'ps_calc_07', 'ps_calc_08', 'ps_calc_09', 'ps_calc_10',\n",
       "       'ps_calc_11', 'ps_calc_12', 'ps_calc_13', 'ps_calc_14'],\n",
       "      dtype='object')"
      ]
     },
     "execution_count": 486,
     "metadata": {},
     "output_type": "execute_result"
    }
   ],
   "source": [
    "# this will return boolean mask for the columns\n",
    "column_indices = model.get_support(indices=False)    \n",
    "X_new = X_Train.loc[:, column_indices]                      \n",
    "# the sliced dataframe, keeping selected columns\n",
    "col_names = X_new.columns   \n",
    "col_names"
   ]
  },
  {
   "cell_type": "markdown",
   "metadata": {},
   "source": [
    "Only keep the selected columns"
   ]
  },
  {
   "cell_type": "code",
   "execution_count": 487,
   "metadata": {},
   "outputs": [
    {
     "data": {
      "text/plain": [
       "(416648, 28)"
      ]
     },
     "execution_count": 487,
     "metadata": {},
     "output_type": "execute_result"
    }
   ],
   "source": [
    "X_Train_Shaped = model.transform(X_Train)\n",
    "X_Train_Shaped.shape    "
   ]
  },
  {
   "cell_type": "code",
   "execution_count": 488,
   "metadata": {},
   "outputs": [
    {
     "data": {
      "text/plain": [
       "array([[1, 7, 7, ..., 3, 3, 7],\n",
       "       [5, 3, 7, ..., 3, 3, 7],\n",
       "       [3, 7, 11, ..., 4, 2, 7],\n",
       "       ...,\n",
       "       [1, 2, 8, ..., 0, 0, 6],\n",
       "       [3, 3, 7, ..., 0, 2, 9],\n",
       "       [2, 7, 6, ..., 0, 2, 14]], dtype=object)"
      ]
     },
     "execution_count": 488,
     "metadata": {},
     "output_type": "execute_result"
    }
   ],
   "source": [
    "X_Train_Shaped"
   ]
  },
  {
   "cell_type": "markdown",
   "metadata": {},
   "source": [
    "Select the same columns for the test set"
   ]
  },
  {
   "cell_type": "code",
   "execution_count": 489,
   "metadata": {},
   "outputs": [],
   "source": [
    "X_Test_Shaped = model.transform(X_Test)"
   ]
  },
  {
   "cell_type": "markdown",
   "metadata": {},
   "source": [
    "Convert back to a dataframe and add column names"
   ]
  },
  {
   "cell_type": "code",
   "execution_count": 490,
   "metadata": {},
   "outputs": [],
   "source": [
    "X_Train_Shaped = pd.DataFrame(X_Train_Shaped)\n",
    "X_Test_Shaped = pd.DataFrame(X_Test_Shaped)"
   ]
  },
  {
   "cell_type": "code",
   "execution_count": 491,
   "metadata": {},
   "outputs": [],
   "source": [
    "X_Test_Shaped.columns = col_names\n",
    "X_Train_Shaped.columns = col_names"
   ]
  },
  {
   "cell_type": "markdown",
   "metadata": {},
   "source": [
    "Get the list of columns to one hot encode"
   ]
  },
  {
   "cell_type": "code",
   "execution_count": 492,
   "metadata": {},
   "outputs": [],
   "source": [
    "list_of_cols = [x for x in X_Train_Shaped.columns if \"cat\" in x]"
   ]
  },
  {
   "cell_type": "markdown",
   "metadata": {},
   "source": [
    "### Using Spearman Correlation to Perform Further Feature removal"
   ]
  },
  {
   "cell_type": "code",
   "execution_count": 493,
   "metadata": {},
   "outputs": [],
   "source": [
    "import scipy.stats as st"
   ]
  },
  {
   "cell_type": "markdown",
   "metadata": {},
   "source": [
    "Calculate the Spearman Correlation for each column and the target and plot the p values"
   ]
  },
  {
   "cell_type": "code",
   "execution_count": 494,
   "metadata": {},
   "outputs": [],
   "source": [
    "spearman_corr = []\n",
    "for col in X_Train_Shaped.columns:\n",
    "    spearman_corr.append((col, st.spearmanr(X_Train_Shaped[col], Y_Train)[1]))                       "
   ]
  },
  {
   "cell_type": "code",
   "execution_count": 495,
   "metadata": {},
   "outputs": [
    {
     "data": {
      "text/plain": [
       "Text(0, 0.5, 'Correlation')"
      ]
     },
     "execution_count": 495,
     "metadata": {},
     "output_type": "execute_result"
    },
    {
     "data": {
      "image/png": "[encoded data removed]",
      "text/plain": [
       "<Figure size 432x288 with 1 Axes>"
      ]
     },
     "metadata": {
      "needs_background": "light"
     },
     "output_type": "display_data"
    }
   ],
   "source": [
    "plt.scatter(X_Train_Shaped.columns, [x[1] for x in spearman_corr])\n",
    "plt.title(\"Spearman\")\n",
    "plt.xlabel(\"Feature\")\n",
    "plt.ylabel(\"Correlation\")"
   ]
  },
  {
   "cell_type": "markdown",
   "metadata": {},
   "source": [
    "This suggests to remove all calculated fields effectively bar 1"
   ]
  },
  {
   "cell_type": "code",
   "execution_count": 496,
   "metadata": {},
   "outputs": [],
   "source": [
    "list_to_remove = []\n",
    "for i in filter(lambda x: x[1] >=0.05,spearman_corr):\n",
    "    list_to_remove.append(i[0])"
   ]
  },
  {
   "cell_type": "code",
   "execution_count": 497,
   "metadata": {},
   "outputs": [
    {
     "data": {
      "text/plain": [
       "['ps_car_11',\n",
       " 'ps_calc_01',\n",
       " 'ps_calc_02',\n",
       " 'ps_calc_04',\n",
       " 'ps_calc_05',\n",
       " 'ps_calc_06',\n",
       " 'ps_calc_07',\n",
       " 'ps_calc_08',\n",
       " 'ps_calc_09',\n",
       " 'ps_calc_10',\n",
       " 'ps_calc_11',\n",
       " 'ps_calc_12',\n",
       " 'ps_calc_13',\n",
       " 'ps_calc_14']"
      ]
     },
     "execution_count": 497,
     "metadata": {},
     "output_type": "execute_result"
    }
   ],
   "source": [
    "list_to_remove"
   ]
  },
  {
   "cell_type": "markdown",
   "metadata": {},
   "source": [
    "Remove the Fields Spearman p values suggest to remove from both the training and the test data"
   ]
  },
  {
   "cell_type": "code",
   "execution_count": 498,
   "metadata": {},
   "outputs": [],
   "source": [
    "X_Train_Shaped = X_Train_Shaped.drop(list_to_remove, axis=1)"
   ]
  },
  {
   "cell_type": "code",
   "execution_count": 499,
   "metadata": {},
   "outputs": [
    {
     "data": {
      "text/html": [
       "<div>\n",
       "<style scoped>\n",
       "    .dataframe tbody tr th:only-of-type {\n",
       "        vertical-align: middle;\n",
       "    }\n",
       "\n",
       "    .dataframe tbody tr th {\n",
       "        vertical-align: top;\n",
       "    }\n",
       "\n",
       "    .dataframe thead th {\n",
       "        text-align: right;\n",
       "    }\n",
       "</style>\n",
       "<table border=\"1\" class=\"dataframe\">\n",
       "  <thead>\n",
       "    <tr style=\"text-align: right;\">\n",
       "      <th></th>\n",
       "      <th>ps_ind_01</th>\n",
       "      <th>ps_ind_03</th>\n",
       "      <th>ps_ind_15</th>\n",
       "      <th>ps_reg_01</th>\n",
       "      <th>ps_reg_02</th>\n",
       "      <th>ps_car_01_cat</th>\n",
       "      <th>ps_car_06_cat</th>\n",
       "      <th>ps_car_09_cat</th>\n",
       "      <th>ps_car_11_cat</th>\n",
       "      <th>ps_car_12</th>\n",
       "      <th>ps_car_13</th>\n",
       "      <th>ps_car_14</th>\n",
       "      <th>ps_car_15</th>\n",
       "      <th>ps_calc_03</th>\n",
       "    </tr>\n",
       "  </thead>\n",
       "  <tbody>\n",
       "    <tr>\n",
       "      <td>0</td>\n",
       "      <td>1</td>\n",
       "      <td>7</td>\n",
       "      <td>7</td>\n",
       "      <td>0.9</td>\n",
       "      <td>0.3</td>\n",
       "      <td>11</td>\n",
       "      <td>9</td>\n",
       "      <td>2</td>\n",
       "      <td>104</td>\n",
       "      <td>0.4</td>\n",
       "      <td>0.970058</td>\n",
       "      <td>0.374672</td>\n",
       "      <td>3.74166</td>\n",
       "      <td>0.2</td>\n",
       "    </tr>\n",
       "    <tr>\n",
       "      <td>1</td>\n",
       "      <td>5</td>\n",
       "      <td>3</td>\n",
       "      <td>7</td>\n",
       "      <td>0.7</td>\n",
       "      <td>0.2</td>\n",
       "      <td>7</td>\n",
       "      <td>11</td>\n",
       "      <td>2</td>\n",
       "      <td>104</td>\n",
       "      <td>0.447214</td>\n",
       "      <td>0.805033</td>\n",
       "      <td>0.424617</td>\n",
       "      <td>3</td>\n",
       "      <td>0.9</td>\n",
       "    </tr>\n",
       "    <tr>\n",
       "      <td>2</td>\n",
       "      <td>3</td>\n",
       "      <td>7</td>\n",
       "      <td>11</td>\n",
       "      <td>0.2</td>\n",
       "      <td>0.3</td>\n",
       "      <td>11</td>\n",
       "      <td>6</td>\n",
       "      <td>0</td>\n",
       "      <td>27</td>\n",
       "      <td>0.374166</td>\n",
       "      <td>0.784443</td>\n",
       "      <td>0.390768</td>\n",
       "      <td>3.31662</td>\n",
       "      <td>0.3</td>\n",
       "    </tr>\n",
       "    <tr>\n",
       "      <td>3</td>\n",
       "      <td>2</td>\n",
       "      <td>5</td>\n",
       "      <td>11</td>\n",
       "      <td>0.6</td>\n",
       "      <td>0.2</td>\n",
       "      <td>11</td>\n",
       "      <td>0</td>\n",
       "      <td>2</td>\n",
       "      <td>37</td>\n",
       "      <td>0.316228</td>\n",
       "      <td>0.757518</td>\n",
       "      <td>0.3755</td>\n",
       "      <td>3.31662</td>\n",
       "      <td>0</td>\n",
       "    </tr>\n",
       "    <tr>\n",
       "      <td>4</td>\n",
       "      <td>5</td>\n",
       "      <td>5</td>\n",
       "      <td>6</td>\n",
       "      <td>0.9</td>\n",
       "      <td>0.3</td>\n",
       "      <td>7</td>\n",
       "      <td>1</td>\n",
       "      <td>2</td>\n",
       "      <td>104</td>\n",
       "      <td>0.43589</td>\n",
       "      <td>0.830289</td>\n",
       "      <td>0.414126</td>\n",
       "      <td>3.16228</td>\n",
       "      <td>0.5</td>\n",
       "    </tr>\n",
       "    <tr>\n",
       "      <td>...</td>\n",
       "      <td>...</td>\n",
       "      <td>...</td>\n",
       "      <td>...</td>\n",
       "      <td>...</td>\n",
       "      <td>...</td>\n",
       "      <td>...</td>\n",
       "      <td>...</td>\n",
       "      <td>...</td>\n",
       "      <td>...</td>\n",
       "      <td>...</td>\n",
       "      <td>...</td>\n",
       "      <td>...</td>\n",
       "      <td>...</td>\n",
       "      <td>...</td>\n",
       "    </tr>\n",
       "    <tr>\n",
       "      <td>416643</td>\n",
       "      <td>1</td>\n",
       "      <td>3</td>\n",
       "      <td>8</td>\n",
       "      <td>0.5</td>\n",
       "      <td>0.2</td>\n",
       "      <td>7</td>\n",
       "      <td>0</td>\n",
       "      <td>2</td>\n",
       "      <td>87</td>\n",
       "      <td>0.316228</td>\n",
       "      <td>0.720637</td>\n",
       "      <td>0.294449</td>\n",
       "      <td>3.4641</td>\n",
       "      <td>0.5</td>\n",
       "    </tr>\n",
       "    <tr>\n",
       "      <td>416644</td>\n",
       "      <td>2</td>\n",
       "      <td>7</td>\n",
       "      <td>5</td>\n",
       "      <td>0.3</td>\n",
       "      <td>0.1</td>\n",
       "      <td>11</td>\n",
       "      <td>15</td>\n",
       "      <td>2</td>\n",
       "      <td>41</td>\n",
       "      <td>0.547723</td>\n",
       "      <td>1.38223</td>\n",
       "      <td>0.532917</td>\n",
       "      <td>3</td>\n",
       "      <td>0.7</td>\n",
       "    </tr>\n",
       "    <tr>\n",
       "      <td>416645</td>\n",
       "      <td>1</td>\n",
       "      <td>2</td>\n",
       "      <td>8</td>\n",
       "      <td>0.4</td>\n",
       "      <td>0</td>\n",
       "      <td>6</td>\n",
       "      <td>1</td>\n",
       "      <td>0</td>\n",
       "      <td>74</td>\n",
       "      <td>0.374166</td>\n",
       "      <td>0.777193</td>\n",
       "      <td>0.371618</td>\n",
       "      <td>3.4641</td>\n",
       "      <td>0.5</td>\n",
       "    </tr>\n",
       "    <tr>\n",
       "      <td>416646</td>\n",
       "      <td>3</td>\n",
       "      <td>3</td>\n",
       "      <td>7</td>\n",
       "      <td>0.3</td>\n",
       "      <td>0</td>\n",
       "      <td>0</td>\n",
       "      <td>1</td>\n",
       "      <td>0</td>\n",
       "      <td>90</td>\n",
       "      <td>0.374166</td>\n",
       "      <td>0.740533</td>\n",
       "      <td>0.416653</td>\n",
       "      <td>3.16228</td>\n",
       "      <td>0.1</td>\n",
       "    </tr>\n",
       "    <tr>\n",
       "      <td>416647</td>\n",
       "      <td>2</td>\n",
       "      <td>7</td>\n",
       "      <td>6</td>\n",
       "      <td>0.3</td>\n",
       "      <td>0</td>\n",
       "      <td>6</td>\n",
       "      <td>13</td>\n",
       "      <td>0</td>\n",
       "      <td>20</td>\n",
       "      <td>0.447214</td>\n",
       "      <td>1.04693</td>\n",
       "      <td>0.429535</td>\n",
       "      <td>3.16228</td>\n",
       "      <td>0.8</td>\n",
       "    </tr>\n",
       "  </tbody>\n",
       "</table>\n",
       "<p>416648 rows × 14 columns</p>\n",
       "</div>"
      ],
      "text/plain": [
       "       ps_ind_01 ps_ind_03 ps_ind_15 ps_reg_01 ps_reg_02 ps_car_01_cat  \\\n",
       "0              1         7         7       0.9       0.3            11   \n",
       "1              5         3         7       0.7       0.2             7   \n",
       "2              3         7        11       0.2       0.3            11   \n",
       "3              2         5        11       0.6       0.2            11   \n",
       "4              5         5         6       0.9       0.3             7   \n",
       "...          ...       ...       ...       ...       ...           ...   \n",
       "416643         1         3         8       0.5       0.2             7   \n",
       "416644         2         7         5       0.3       0.1            11   \n",
       "416645         1         2         8       0.4         0             6   \n",
       "416646         3         3         7       0.3         0             0   \n",
       "416647         2         7         6       0.3         0             6   \n",
       "\n",
       "       ps_car_06_cat ps_car_09_cat ps_car_11_cat ps_car_12 ps_car_13  \\\n",
       "0                  9             2           104       0.4  0.970058   \n",
       "1                 11             2           104  0.447214  0.805033   \n",
       "2                  6             0            27  0.374166  0.784443   \n",
       "3                  0             2            37  0.316228  0.757518   \n",
       "4                  1             2           104   0.43589  0.830289   \n",
       "...              ...           ...           ...       ...       ...   \n",
       "416643             0             2            87  0.316228  0.720637   \n",
       "416644            15             2            41  0.547723   1.38223   \n",
       "416645             1             0            74  0.374166  0.777193   \n",
       "416646             1             0            90  0.374166  0.740533   \n",
       "416647            13             0            20  0.447214   1.04693   \n",
       "\n",
       "       ps_car_14 ps_car_15 ps_calc_03  \n",
       "0       0.374672   3.74166        0.2  \n",
       "1       0.424617         3        0.9  \n",
       "2       0.390768   3.31662        0.3  \n",
       "3         0.3755   3.31662          0  \n",
       "4       0.414126   3.16228        0.5  \n",
       "...          ...       ...        ...  \n",
       "416643  0.294449    3.4641        0.5  \n",
       "416644  0.532917         3        0.7  \n",
       "416645  0.371618    3.4641        0.5  \n",
       "416646  0.416653   3.16228        0.1  \n",
       "416647  0.429535   3.16228        0.8  \n",
       "\n",
       "[416648 rows x 14 columns]"
      ]
     },
     "execution_count": 499,
     "metadata": {},
     "output_type": "execute_result"
    }
   ],
   "source": [
    "X_Train_Shaped"
   ]
  },
  {
   "cell_type": "code",
   "execution_count": 500,
   "metadata": {},
   "outputs": [],
   "source": [
    "X_Test_Shaped = X_Test_Shaped.drop(list_to_remove, axis=1)"
   ]
  },
  {
   "cell_type": "markdown",
   "metadata": {},
   "source": [
    "Data types were changed to object, and thus were reset manually to be what they should be from earlier"
   ]
  },
  {
   "cell_type": "code",
   "execution_count": 501,
   "metadata": {},
   "outputs": [
    {
     "data": {
      "text/plain": [
       "ps_ind_01        object\n",
       "ps_ind_03        object\n",
       "ps_ind_15        object\n",
       "ps_reg_01        object\n",
       "ps_reg_02        object\n",
       "ps_car_01_cat    object\n",
       "ps_car_06_cat    object\n",
       "ps_car_09_cat    object\n",
       "ps_car_11_cat    object\n",
       "ps_car_12        object\n",
       "ps_car_13        object\n",
       "ps_car_14        object\n",
       "ps_car_15        object\n",
       "ps_calc_03       object\n",
       "dtype: object"
      ]
     },
     "execution_count": 501,
     "metadata": {},
     "output_type": "execute_result"
    }
   ],
   "source": [
    "X_Train_Shaped.dtypes"
   ]
  },
  {
   "cell_type": "code",
   "execution_count": 502,
   "metadata": {},
   "outputs": [],
   "source": [
    "for col in X_Train_Shaped.columns:\n",
    "    if \"cat\" in col:\n",
    "        X_Train_Shaped[col] = pd.Categorical(X_Train_Shaped[col])\n",
    "    elif \"ind\" in col:\n",
    "        X_Train_Shaped[col] = X_Train_Shaped[col].astype(\"int64\")\n",
    "    else:\n",
    "        X_Train_Shaped[col] = X_Train_Shaped[col].astype(\"float64\")"
   ]
  },
  {
   "cell_type": "markdown",
   "metadata": {},
   "source": [
    "### Check correlation among remaining features"
   ]
  },
  {
   "cell_type": "markdown",
   "metadata": {},
   "source": [
    "Vectorise the data, so that it shows on the correlation chart"
   ]
  },
  {
   "cell_type": "code",
   "execution_count": 503,
   "metadata": {},
   "outputs": [
    {
     "data": {
      "image/png": "[encoded data removed]",
      "text/plain": [
       "<Figure size 432x288 with 2 Axes>"
      ]
     },
     "metadata": {
      "needs_background": "light"
     },
     "output_type": "display_data"
    }
   ],
   "source": [
    "corr = X_Train_Shaped.apply(lambda x : pd.factorize(x)[0]).corr()\n",
    "\n",
    "ax = sns.heatmap(\n",
    "    corr, \n",
    "    vmin=-1, vmax=1, center=0,\n",
    "    cmap=sns.diverging_palette(20, 220, n=200),\n",
    ")\n",
    "ax.set_xticklabels(\n",
    "    ax.get_xticklabels(),\n",
    "    rotation=45,\n",
    "    horizontalalignment='right'\n",
    ");"
   ]
  },
  {
   "cell_type": "markdown",
   "metadata": {},
   "source": [
    "There doesn't appear to be any bad correlation, but checking for sure\n",
    "code for this cell taken from: \n",
    "https://stackoverflow.com/a/42323184"
   ]
  },
  {
   "cell_type": "code",
   "execution_count": 504,
   "metadata": {},
   "outputs": [
    {
     "data": {
      "text/html": [
       "<style  type=\"text/css\" >\n",
       "    #T_79c51ae4_7fd3_11ea_ad12_f40f2436eaa9 th {\n",
       "          font-size: 7pt;\n",
       "    }    #T_79c51ae4_7fd3_11ea_ad12_f40f2436eaa9 td {\n",
       "          padding: 0em 0em;\n",
       "    }    #T_79c51ae4_7fd3_11ea_ad12_f40f2436eaa9 th:hover {\n",
       "          font-size: 12pt;\n",
       "    }    #T_79c51ae4_7fd3_11ea_ad12_f40f2436eaa9 tr:hover td:hover {\n",
       "          max-width: 200px;\n",
       "          font-size: 12pt;\n",
       "    }    #T_79c51ae4_7fd3_11ea_ad12_f40f2436eaa9row0_col0 {\n",
       "            background-color:  #4479bb;\n",
       "            color:  #000000;\n",
       "            max-width:  80px;\n",
       "            font-size:  10pt;\n",
       "        }    #T_79c51ae4_7fd3_11ea_ad12_f40f2436eaa9row0_col1 {\n",
       "            background-color:  #db4d69;\n",
       "            color:  #000000;\n",
       "            max-width:  80px;\n",
       "            font-size:  10pt;\n",
       "        }    #T_79c51ae4_7fd3_11ea_ad12_f40f2436eaa9row0_col2 {\n",
       "            background-color:  #db4f6b;\n",
       "            color:  #000000;\n",
       "            max-width:  80px;\n",
       "            font-size:  10pt;\n",
       "        }    #T_79c51ae4_7fd3_11ea_ad12_f40f2436eaa9row0_col3 {\n",
       "            background-color:  #db4e6a;\n",
       "            color:  #000000;\n",
       "            max-width:  80px;\n",
       "            font-size:  10pt;\n",
       "        }    #T_79c51ae4_7fd3_11ea_ad12_f40f2436eaa9row0_col4 {\n",
       "            background-color:  #dc5570;\n",
       "            color:  #000000;\n",
       "            max-width:  80px;\n",
       "            font-size:  10pt;\n",
       "        }    #T_79c51ae4_7fd3_11ea_ad12_f40f2436eaa9row0_col5 {\n",
       "            background-color:  #e06880;\n",
       "            color:  #000000;\n",
       "            max-width:  80px;\n",
       "            font-size:  10pt;\n",
       "        }    #T_79c51ae4_7fd3_11ea_ad12_f40f2436eaa9row0_col6 {\n",
       "            background-color:  #dc546f;\n",
       "            color:  #000000;\n",
       "            max-width:  80px;\n",
       "            font-size:  10pt;\n",
       "        }    #T_79c51ae4_7fd3_11ea_ad12_f40f2436eaa9row0_col7 {\n",
       "            background-color:  #df637c;\n",
       "            color:  #000000;\n",
       "            max-width:  80px;\n",
       "            font-size:  10pt;\n",
       "        }    #T_79c51ae4_7fd3_11ea_ad12_f40f2436eaa9row0_col8 {\n",
       "            background-color:  #dc546f;\n",
       "            color:  #000000;\n",
       "            max-width:  80px;\n",
       "            font-size:  10pt;\n",
       "        }    #T_79c51ae4_7fd3_11ea_ad12_f40f2436eaa9row0_col9 {\n",
       "            background-color:  #dc5570;\n",
       "            color:  #000000;\n",
       "            max-width:  80px;\n",
       "            font-size:  10pt;\n",
       "        }    #T_79c51ae4_7fd3_11ea_ad12_f40f2436eaa9row0_col10 {\n",
       "            background-color:  #dc5570;\n",
       "            color:  #000000;\n",
       "            max-width:  80px;\n",
       "            font-size:  10pt;\n",
       "        }    #T_79c51ae4_7fd3_11ea_ad12_f40f2436eaa9row0_col11 {\n",
       "            background-color:  #dd5872;\n",
       "            color:  #000000;\n",
       "            max-width:  80px;\n",
       "            font-size:  10pt;\n",
       "        }    #T_79c51ae4_7fd3_11ea_ad12_f40f2436eaa9row0_col12 {\n",
       "            background-color:  #d73c5b;\n",
       "            color:  #f1f1f1;\n",
       "            max-width:  80px;\n",
       "            font-size:  10pt;\n",
       "        }    #T_79c51ae4_7fd3_11ea_ad12_f40f2436eaa9row0_col13 {\n",
       "            background-color:  #db4e6a;\n",
       "            color:  #000000;\n",
       "            max-width:  80px;\n",
       "            font-size:  10pt;\n",
       "        }    #T_79c51ae4_7fd3_11ea_ad12_f40f2436eaa9row1_col0 {\n",
       "            background-color:  #d94462;\n",
       "            color:  #f1f1f1;\n",
       "            max-width:  80px;\n",
       "            font-size:  10pt;\n",
       "        }    #T_79c51ae4_7fd3_11ea_ad12_f40f2436eaa9row1_col1 {\n",
       "            background-color:  #4479bb;\n",
       "            color:  #000000;\n",
       "            max-width:  80px;\n",
       "            font-size:  10pt;\n",
       "        }    #T_79c51ae4_7fd3_11ea_ad12_f40f2436eaa9row1_col2 {\n",
       "            background-color:  #d73c5b;\n",
       "            color:  #f1f1f1;\n",
       "            max-width:  80px;\n",
       "            font-size:  10pt;\n",
       "        }    #T_79c51ae4_7fd3_11ea_ad12_f40f2436eaa9row1_col3 {\n",
       "            background-color:  #da4865;\n",
       "            color:  #000000;\n",
       "            max-width:  80px;\n",
       "            font-size:  10pt;\n",
       "        }    #T_79c51ae4_7fd3_11ea_ad12_f40f2436eaa9row1_col4 {\n",
       "            background-color:  #dc516d;\n",
       "            color:  #000000;\n",
       "            max-width:  80px;\n",
       "            font-size:  10pt;\n",
       "        }    #T_79c51ae4_7fd3_11ea_ad12_f40f2436eaa9row1_col5 {\n",
       "            background-color:  #d94462;\n",
       "            color:  #f1f1f1;\n",
       "            max-width:  80px;\n",
       "            font-size:  10pt;\n",
       "        }    #T_79c51ae4_7fd3_11ea_ad12_f40f2436eaa9row1_col6 {\n",
       "            background-color:  #d8405e;\n",
       "            color:  #f1f1f1;\n",
       "            max-width:  80px;\n",
       "            font-size:  10pt;\n",
       "        }    #T_79c51ae4_7fd3_11ea_ad12_f40f2436eaa9row1_col7 {\n",
       "            background-color:  #d8405e;\n",
       "            color:  #f1f1f1;\n",
       "            max-width:  80px;\n",
       "            font-size:  10pt;\n",
       "        }    #T_79c51ae4_7fd3_11ea_ad12_f40f2436eaa9row1_col8 {\n",
       "            background-color:  #d8405e;\n",
       "            color:  #f1f1f1;\n",
       "            max-width:  80px;\n",
       "            font-size:  10pt;\n",
       "        }    #T_79c51ae4_7fd3_11ea_ad12_f40f2436eaa9row1_col9 {\n",
       "            background-color:  #d94261;\n",
       "            color:  #f1f1f1;\n",
       "            max-width:  80px;\n",
       "            font-size:  10pt;\n",
       "        }    #T_79c51ae4_7fd3_11ea_ad12_f40f2436eaa9row1_col10 {\n",
       "            background-color:  #d73d5c;\n",
       "            color:  #f1f1f1;\n",
       "            max-width:  80px;\n",
       "            font-size:  10pt;\n",
       "        }    #T_79c51ae4_7fd3_11ea_ad12_f40f2436eaa9row1_col11 {\n",
       "            background-color:  #d73c5b;\n",
       "            color:  #f1f1f1;\n",
       "            max-width:  80px;\n",
       "            font-size:  10pt;\n",
       "        }    #T_79c51ae4_7fd3_11ea_ad12_f40f2436eaa9row1_col12 {\n",
       "            background-color:  #da4b68;\n",
       "            color:  #000000;\n",
       "            max-width:  80px;\n",
       "            font-size:  10pt;\n",
       "        }    #T_79c51ae4_7fd3_11ea_ad12_f40f2436eaa9row1_col13 {\n",
       "            background-color:  #d94764;\n",
       "            color:  #f1f1f1;\n",
       "            max-width:  80px;\n",
       "            font-size:  10pt;\n",
       "        }    #T_79c51ae4_7fd3_11ea_ad12_f40f2436eaa9row2_col0 {\n",
       "            background-color:  #d94764;\n",
       "            color:  #f1f1f1;\n",
       "            max-width:  80px;\n",
       "            font-size:  10pt;\n",
       "        }    #T_79c51ae4_7fd3_11ea_ad12_f40f2436eaa9row2_col1 {\n",
       "            background-color:  #d73c5b;\n",
       "            color:  #f1f1f1;\n",
       "            max-width:  80px;\n",
       "            font-size:  10pt;\n",
       "        }    #T_79c51ae4_7fd3_11ea_ad12_f40f2436eaa9row2_col2 {\n",
       "            background-color:  #4479bb;\n",
       "            color:  #000000;\n",
       "            max-width:  80px;\n",
       "            font-size:  10pt;\n",
       "        }    #T_79c51ae4_7fd3_11ea_ad12_f40f2436eaa9row2_col3 {\n",
       "            background-color:  #d94764;\n",
       "            color:  #f1f1f1;\n",
       "            max-width:  80px;\n",
       "            font-size:  10pt;\n",
       "        }    #T_79c51ae4_7fd3_11ea_ad12_f40f2436eaa9row2_col4 {\n",
       "            background-color:  #d83e5d;\n",
       "            color:  #f1f1f1;\n",
       "            max-width:  80px;\n",
       "            font-size:  10pt;\n",
       "        }    #T_79c51ae4_7fd3_11ea_ad12_f40f2436eaa9row2_col5 {\n",
       "            background-color:  #da4865;\n",
       "            color:  #000000;\n",
       "            max-width:  80px;\n",
       "            font-size:  10pt;\n",
       "        }    #T_79c51ae4_7fd3_11ea_ad12_f40f2436eaa9row2_col6 {\n",
       "            background-color:  #d94462;\n",
       "            color:  #f1f1f1;\n",
       "            max-width:  80px;\n",
       "            font-size:  10pt;\n",
       "        }    #T_79c51ae4_7fd3_11ea_ad12_f40f2436eaa9row2_col7 {\n",
       "            background-color:  #db4d69;\n",
       "            color:  #000000;\n",
       "            max-width:  80px;\n",
       "            font-size:  10pt;\n",
       "        }    #T_79c51ae4_7fd3_11ea_ad12_f40f2436eaa9row2_col8 {\n",
       "            background-color:  #d94563;\n",
       "            color:  #f1f1f1;\n",
       "            max-width:  80px;\n",
       "            font-size:  10pt;\n",
       "        }    #T_79c51ae4_7fd3_11ea_ad12_f40f2436eaa9row2_col9 {\n",
       "            background-color:  #da4966;\n",
       "            color:  #000000;\n",
       "            max-width:  80px;\n",
       "            font-size:  10pt;\n",
       "        }    #T_79c51ae4_7fd3_11ea_ad12_f40f2436eaa9row2_col10 {\n",
       "            background-color:  #d94563;\n",
       "            color:  #f1f1f1;\n",
       "            max-width:  80px;\n",
       "            font-size:  10pt;\n",
       "        }    #T_79c51ae4_7fd3_11ea_ad12_f40f2436eaa9row2_col11 {\n",
       "            background-color:  #d94563;\n",
       "            color:  #f1f1f1;\n",
       "            max-width:  80px;\n",
       "            font-size:  10pt;\n",
       "        }    #T_79c51ae4_7fd3_11ea_ad12_f40f2436eaa9row2_col12 {\n",
       "            background-color:  #db4e6a;\n",
       "            color:  #000000;\n",
       "            max-width:  80px;\n",
       "            font-size:  10pt;\n",
       "        }    #T_79c51ae4_7fd3_11ea_ad12_f40f2436eaa9row2_col13 {\n",
       "            background-color:  #d94563;\n",
       "            color:  #f1f1f1;\n",
       "            max-width:  80px;\n",
       "            font-size:  10pt;\n",
       "        }    #T_79c51ae4_7fd3_11ea_ad12_f40f2436eaa9row3_col0 {\n",
       "            background-color:  #e47c91;\n",
       "            color:  #000000;\n",
       "            max-width:  80px;\n",
       "            font-size:  10pt;\n",
       "        }    #T_79c51ae4_7fd3_11ea_ad12_f40f2436eaa9row3_col1 {\n",
       "            background-color:  #e57f93;\n",
       "            color:  #000000;\n",
       "            max-width:  80px;\n",
       "            font-size:  10pt;\n",
       "        }    #T_79c51ae4_7fd3_11ea_ad12_f40f2436eaa9row3_col2 {\n",
       "            background-color:  #e57d92;\n",
       "            color:  #000000;\n",
       "            max-width:  80px;\n",
       "            font-size:  10pt;\n",
       "        }    #T_79c51ae4_7fd3_11ea_ad12_f40f2436eaa9row3_col3 {\n",
       "            background-color:  #4479bb;\n",
       "            color:  #000000;\n",
       "            max-width:  80px;\n",
       "            font-size:  10pt;\n",
       "        }    #T_79c51ae4_7fd3_11ea_ad12_f40f2436eaa9row3_col4 {\n",
       "            background-color:  #d73c5b;\n",
       "            color:  #f1f1f1;\n",
       "            max-width:  80px;\n",
       "            font-size:  10pt;\n",
       "        }    #T_79c51ae4_7fd3_11ea_ad12_f40f2436eaa9row3_col5 {\n",
       "            background-color:  #e88ea0;\n",
       "            color:  #000000;\n",
       "            max-width:  80px;\n",
       "            font-size:  10pt;\n",
       "        }    #T_79c51ae4_7fd3_11ea_ad12_f40f2436eaa9row3_col6 {\n",
       "            background-color:  #e16c84;\n",
       "            color:  #000000;\n",
       "            max-width:  80px;\n",
       "            font-size:  10pt;\n",
       "        }    #T_79c51ae4_7fd3_11ea_ad12_f40f2436eaa9row3_col7 {\n",
       "            background-color:  #e06880;\n",
       "            color:  #000000;\n",
       "            max-width:  80px;\n",
       "            font-size:  10pt;\n",
       "        }    #T_79c51ae4_7fd3_11ea_ad12_f40f2436eaa9row3_col8 {\n",
       "            background-color:  #e4798e;\n",
       "            color:  #000000;\n",
       "            max-width:  80px;\n",
       "            font-size:  10pt;\n",
       "        }    #T_79c51ae4_7fd3_11ea_ad12_f40f2436eaa9row3_col9 {\n",
       "            background-color:  #e4798e;\n",
       "            color:  #000000;\n",
       "            max-width:  80px;\n",
       "            font-size:  10pt;\n",
       "        }    #T_79c51ae4_7fd3_11ea_ad12_f40f2436eaa9row3_col10 {\n",
       "            background-color:  #e47a90;\n",
       "            color:  #000000;\n",
       "            max-width:  80px;\n",
       "            font-size:  10pt;\n",
       "        }    #T_79c51ae4_7fd3_11ea_ad12_f40f2436eaa9row3_col11 {\n",
       "            background-color:  #e3768c;\n",
       "            color:  #000000;\n",
       "            max-width:  80px;\n",
       "            font-size:  10pt;\n",
       "        }    #T_79c51ae4_7fd3_11ea_ad12_f40f2436eaa9row3_col12 {\n",
       "            background-color:  #e4798e;\n",
       "            color:  #000000;\n",
       "            max-width:  80px;\n",
       "            font-size:  10pt;\n",
       "        }    #T_79c51ae4_7fd3_11ea_ad12_f40f2436eaa9row3_col13 {\n",
       "            background-color:  #e57d92;\n",
       "            color:  #000000;\n",
       "            max-width:  80px;\n",
       "            font-size:  10pt;\n",
       "        }    #T_79c51ae4_7fd3_11ea_ad12_f40f2436eaa9row4_col0 {\n",
       "            background-color:  #e58195;\n",
       "            color:  #000000;\n",
       "            max-width:  80px;\n",
       "            font-size:  10pt;\n",
       "        }    #T_79c51ae4_7fd3_11ea_ad12_f40f2436eaa9row4_col1 {\n",
       "            background-color:  #e68598;\n",
       "            color:  #000000;\n",
       "            max-width:  80px;\n",
       "            font-size:  10pt;\n",
       "        }    #T_79c51ae4_7fd3_11ea_ad12_f40f2436eaa9row4_col2 {\n",
       "            background-color:  #e3768c;\n",
       "            color:  #000000;\n",
       "            max-width:  80px;\n",
       "            font-size:  10pt;\n",
       "        }    #T_79c51ae4_7fd3_11ea_ad12_f40f2436eaa9row4_col3 {\n",
       "            background-color:  #d73c5b;\n",
       "            color:  #f1f1f1;\n",
       "            max-width:  80px;\n",
       "            font-size:  10pt;\n",
       "        }    #T_79c51ae4_7fd3_11ea_ad12_f40f2436eaa9row4_col4 {\n",
       "            background-color:  #4479bb;\n",
       "            color:  #000000;\n",
       "            max-width:  80px;\n",
       "            font-size:  10pt;\n",
       "        }    #T_79c51ae4_7fd3_11ea_ad12_f40f2436eaa9row4_col5 {\n",
       "            background-color:  #e4798e;\n",
       "            color:  #000000;\n",
       "            max-width:  80px;\n",
       "            font-size:  10pt;\n",
       "        }    #T_79c51ae4_7fd3_11ea_ad12_f40f2436eaa9row4_col6 {\n",
       "            background-color:  #eda8b6;\n",
       "            color:  #000000;\n",
       "            max-width:  80px;\n",
       "            font-size:  10pt;\n",
       "        }    #T_79c51ae4_7fd3_11ea_ad12_f40f2436eaa9row4_col7 {\n",
       "            background-color:  #e57d92;\n",
       "            color:  #000000;\n",
       "            max-width:  80px;\n",
       "            font-size:  10pt;\n",
       "        }    #T_79c51ae4_7fd3_11ea_ad12_f40f2436eaa9row4_col8 {\n",
       "            background-color:  #e47c91;\n",
       "            color:  #000000;\n",
       "            max-width:  80px;\n",
       "            font-size:  10pt;\n",
       "        }    #T_79c51ae4_7fd3_11ea_ad12_f40f2436eaa9row4_col9 {\n",
       "            background-color:  #e68396;\n",
       "            color:  #000000;\n",
       "            max-width:  80px;\n",
       "            font-size:  10pt;\n",
       "        }    #T_79c51ae4_7fd3_11ea_ad12_f40f2436eaa9row4_col10 {\n",
       "            background-color:  #e993a4;\n",
       "            color:  #000000;\n",
       "            max-width:  80px;\n",
       "            font-size:  10pt;\n",
       "        }    #T_79c51ae4_7fd3_11ea_ad12_f40f2436eaa9row4_col11 {\n",
       "            background-color:  #e993a4;\n",
       "            color:  #000000;\n",
       "            max-width:  80px;\n",
       "            font-size:  10pt;\n",
       "        }    #T_79c51ae4_7fd3_11ea_ad12_f40f2436eaa9row4_col12 {\n",
       "            background-color:  #e26f86;\n",
       "            color:  #000000;\n",
       "            max-width:  80px;\n",
       "            font-size:  10pt;\n",
       "        }    #T_79c51ae4_7fd3_11ea_ad12_f40f2436eaa9row4_col13 {\n",
       "            background-color:  #e57d92;\n",
       "            color:  #000000;\n",
       "            max-width:  80px;\n",
       "            font-size:  10pt;\n",
       "        }    #T_79c51ae4_7fd3_11ea_ad12_f40f2436eaa9row5_col0 {\n",
       "            background-color:  #dd5a74;\n",
       "            color:  #000000;\n",
       "            max-width:  80px;\n",
       "            font-size:  10pt;\n",
       "        }    #T_79c51ae4_7fd3_11ea_ad12_f40f2436eaa9row5_col1 {\n",
       "            background-color:  #d73d5c;\n",
       "            color:  #f1f1f1;\n",
       "            max-width:  80px;\n",
       "            font-size:  10pt;\n",
       "        }    #T_79c51ae4_7fd3_11ea_ad12_f40f2436eaa9row5_col2 {\n",
       "            background-color:  #d8415f;\n",
       "            color:  #f1f1f1;\n",
       "            max-width:  80px;\n",
       "            font-size:  10pt;\n",
       "        }    #T_79c51ae4_7fd3_11ea_ad12_f40f2436eaa9row5_col3 {\n",
       "            background-color:  #dd5671;\n",
       "            color:  #000000;\n",
       "            max-width:  80px;\n",
       "            font-size:  10pt;\n",
       "        }    #T_79c51ae4_7fd3_11ea_ad12_f40f2436eaa9row5_col4 {\n",
       "            background-color:  #d73c5b;\n",
       "            color:  #f1f1f1;\n",
       "            max-width:  80px;\n",
       "            font-size:  10pt;\n",
       "        }    #T_79c51ae4_7fd3_11ea_ad12_f40f2436eaa9row5_col5 {\n",
       "            background-color:  #4479bb;\n",
       "            color:  #000000;\n",
       "            max-width:  80px;\n",
       "            font-size:  10pt;\n",
       "        }    #T_79c51ae4_7fd3_11ea_ad12_f40f2436eaa9row5_col6 {\n",
       "            background-color:  #d8405e;\n",
       "            color:  #f1f1f1;\n",
       "            max-width:  80px;\n",
       "            font-size:  10pt;\n",
       "        }    #T_79c51ae4_7fd3_11ea_ad12_f40f2436eaa9row5_col7 {\n",
       "            background-color:  #e78a9d;\n",
       "            color:  #000000;\n",
       "            max-width:  80px;\n",
       "            font-size:  10pt;\n",
       "        }    #T_79c51ae4_7fd3_11ea_ad12_f40f2436eaa9row5_col8 {\n",
       "            background-color:  #d73c5b;\n",
       "            color:  #f1f1f1;\n",
       "            max-width:  80px;\n",
       "            font-size:  10pt;\n",
       "        }    #T_79c51ae4_7fd3_11ea_ad12_f40f2436eaa9row5_col9 {\n",
       "            background-color:  #da4865;\n",
       "            color:  #000000;\n",
       "            max-width:  80px;\n",
       "            font-size:  10pt;\n",
       "        }    #T_79c51ae4_7fd3_11ea_ad12_f40f2436eaa9row5_col10 {\n",
       "            background-color:  #d94261;\n",
       "            color:  #f1f1f1;\n",
       "            max-width:  80px;\n",
       "            font-size:  10pt;\n",
       "        }    #T_79c51ae4_7fd3_11ea_ad12_f40f2436eaa9row5_col11 {\n",
       "            background-color:  #d8405e;\n",
       "            color:  #f1f1f1;\n",
       "            max-width:  80px;\n",
       "            font-size:  10pt;\n",
       "        }    #T_79c51ae4_7fd3_11ea_ad12_f40f2436eaa9row5_col12 {\n",
       "            background-color:  #d94261;\n",
       "            color:  #f1f1f1;\n",
       "            max-width:  80px;\n",
       "            font-size:  10pt;\n",
       "        }    #T_79c51ae4_7fd3_11ea_ad12_f40f2436eaa9row5_col13 {\n",
       "            background-color:  #d8405e;\n",
       "            color:  #f1f1f1;\n",
       "            max-width:  80px;\n",
       "            font-size:  10pt;\n",
       "        }    #T_79c51ae4_7fd3_11ea_ad12_f40f2436eaa9row6_col0 {\n",
       "            background-color:  #dd5872;\n",
       "            color:  #000000;\n",
       "            max-width:  80px;\n",
       "            font-size:  10pt;\n",
       "        }    #T_79c51ae4_7fd3_11ea_ad12_f40f2436eaa9row6_col1 {\n",
       "            background-color:  #da4b68;\n",
       "            color:  #000000;\n",
       "            max-width:  80px;\n",
       "            font-size:  10pt;\n",
       "        }    #T_79c51ae4_7fd3_11ea_ad12_f40f2436eaa9row6_col2 {\n",
       "            background-color:  #dc516d;\n",
       "            color:  #000000;\n",
       "            max-width:  80px;\n",
       "            font-size:  10pt;\n",
       "        }    #T_79c51ae4_7fd3_11ea_ad12_f40f2436eaa9row6_col3 {\n",
       "            background-color:  #d8405e;\n",
       "            color:  #f1f1f1;\n",
       "            max-width:  80px;\n",
       "            font-size:  10pt;\n",
       "        }    #T_79c51ae4_7fd3_11ea_ad12_f40f2436eaa9row6_col4 {\n",
       "            background-color:  #e68598;\n",
       "            color:  #000000;\n",
       "            max-width:  80px;\n",
       "            font-size:  10pt;\n",
       "        }    #T_79c51ae4_7fd3_11ea_ad12_f40f2436eaa9row6_col5 {\n",
       "            background-color:  #dc526e;\n",
       "            color:  #000000;\n",
       "            max-width:  80px;\n",
       "            font-size:  10pt;\n",
       "        }    #T_79c51ae4_7fd3_11ea_ad12_f40f2436eaa9row6_col6 {\n",
       "            background-color:  #4479bb;\n",
       "            color:  #000000;\n",
       "            max-width:  80px;\n",
       "            font-size:  10pt;\n",
       "        }    #T_79c51ae4_7fd3_11ea_ad12_f40f2436eaa9row6_col7 {\n",
       "            background-color:  #dc5570;\n",
       "            color:  #000000;\n",
       "            max-width:  80px;\n",
       "            font-size:  10pt;\n",
       "        }    #T_79c51ae4_7fd3_11ea_ad12_f40f2436eaa9row6_col8 {\n",
       "            background-color:  #d73c5b;\n",
       "            color:  #f1f1f1;\n",
       "            max-width:  80px;\n",
       "            font-size:  10pt;\n",
       "        }    #T_79c51ae4_7fd3_11ea_ad12_f40f2436eaa9row6_col9 {\n",
       "            background-color:  #e57d92;\n",
       "            color:  #000000;\n",
       "            max-width:  80px;\n",
       "            font-size:  10pt;\n",
       "        }    #T_79c51ae4_7fd3_11ea_ad12_f40f2436eaa9row6_col10 {\n",
       "            background-color:  #e68699;\n",
       "            color:  #000000;\n",
       "            max-width:  80px;\n",
       "            font-size:  10pt;\n",
       "        }    #T_79c51ae4_7fd3_11ea_ad12_f40f2436eaa9row6_col11 {\n",
       "            background-color:  #eb9dac;\n",
       "            color:  #000000;\n",
       "            max-width:  80px;\n",
       "            font-size:  10pt;\n",
       "        }    #T_79c51ae4_7fd3_11ea_ad12_f40f2436eaa9row6_col12 {\n",
       "            background-color:  #da4966;\n",
       "            color:  #000000;\n",
       "            max-width:  80px;\n",
       "            font-size:  10pt;\n",
       "        }    #T_79c51ae4_7fd3_11ea_ad12_f40f2436eaa9row6_col13 {\n",
       "            background-color:  #dc526e;\n",
       "            color:  #000000;\n",
       "            max-width:  80px;\n",
       "            font-size:  10pt;\n",
       "        }    #T_79c51ae4_7fd3_11ea_ad12_f40f2436eaa9row7_col0 {\n",
       "            background-color:  #e0667e;\n",
       "            color:  #000000;\n",
       "            max-width:  80px;\n",
       "            font-size:  10pt;\n",
       "        }    #T_79c51ae4_7fd3_11ea_ad12_f40f2436eaa9row7_col1 {\n",
       "            background-color:  #da4b68;\n",
       "            color:  #000000;\n",
       "            max-width:  80px;\n",
       "            font-size:  10pt;\n",
       "        }    #T_79c51ae4_7fd3_11ea_ad12_f40f2436eaa9row7_col2 {\n",
       "            background-color:  #dd5872;\n",
       "            color:  #000000;\n",
       "            max-width:  80px;\n",
       "            font-size:  10pt;\n",
       "        }    #T_79c51ae4_7fd3_11ea_ad12_f40f2436eaa9row7_col3 {\n",
       "            background-color:  #d73c5b;\n",
       "            color:  #f1f1f1;\n",
       "            max-width:  80px;\n",
       "            font-size:  10pt;\n",
       "        }    #T_79c51ae4_7fd3_11ea_ad12_f40f2436eaa9row7_col4 {\n",
       "            background-color:  #dc526e;\n",
       "            color:  #000000;\n",
       "            max-width:  80px;\n",
       "            font-size:  10pt;\n",
       "        }    #T_79c51ae4_7fd3_11ea_ad12_f40f2436eaa9row7_col5 {\n",
       "            background-color:  #ea99a9;\n",
       "            color:  #000000;\n",
       "            max-width:  80px;\n",
       "            font-size:  10pt;\n",
       "        }    #T_79c51ae4_7fd3_11ea_ad12_f40f2436eaa9row7_col6 {\n",
       "            background-color:  #dc5570;\n",
       "            color:  #000000;\n",
       "            max-width:  80px;\n",
       "            font-size:  10pt;\n",
       "        }    #T_79c51ae4_7fd3_11ea_ad12_f40f2436eaa9row7_col7 {\n",
       "            background-color:  #4479bb;\n",
       "            color:  #000000;\n",
       "            max-width:  80px;\n",
       "            font-size:  10pt;\n",
       "        }    #T_79c51ae4_7fd3_11ea_ad12_f40f2436eaa9row7_col8 {\n",
       "            background-color:  #db4d69;\n",
       "            color:  #000000;\n",
       "            max-width:  80px;\n",
       "            font-size:  10pt;\n",
       "        }    #T_79c51ae4_7fd3_11ea_ad12_f40f2436eaa9row7_col9 {\n",
       "            background-color:  #e16b82;\n",
       "            color:  #000000;\n",
       "            max-width:  80px;\n",
       "            font-size:  10pt;\n",
       "        }    #T_79c51ae4_7fd3_11ea_ad12_f40f2436eaa9row7_col10 {\n",
       "            background-color:  #dd5872;\n",
       "            color:  #000000;\n",
       "            max-width:  80px;\n",
       "            font-size:  10pt;\n",
       "        }    #T_79c51ae4_7fd3_11ea_ad12_f40f2436eaa9row7_col11 {\n",
       "            background-color:  #dd5671;\n",
       "            color:  #000000;\n",
       "            max-width:  80px;\n",
       "            font-size:  10pt;\n",
       "        }    #T_79c51ae4_7fd3_11ea_ad12_f40f2436eaa9row7_col12 {\n",
       "            background-color:  #e27288;\n",
       "            color:  #000000;\n",
       "            max-width:  80px;\n",
       "            font-size:  10pt;\n",
       "        }    #T_79c51ae4_7fd3_11ea_ad12_f40f2436eaa9row7_col13 {\n",
       "            background-color:  #dc516d;\n",
       "            color:  #000000;\n",
       "            max-width:  80px;\n",
       "            font-size:  10pt;\n",
       "        }    #T_79c51ae4_7fd3_11ea_ad12_f40f2436eaa9row8_col0 {\n",
       "            background-color:  #dd5872;\n",
       "            color:  #000000;\n",
       "            max-width:  80px;\n",
       "            font-size:  10pt;\n",
       "        }    #T_79c51ae4_7fd3_11ea_ad12_f40f2436eaa9row8_col1 {\n",
       "            background-color:  #db4d69;\n",
       "            color:  #000000;\n",
       "            max-width:  80px;\n",
       "            font-size:  10pt;\n",
       "        }    #T_79c51ae4_7fd3_11ea_ad12_f40f2436eaa9row8_col2 {\n",
       "            background-color:  #dc516d;\n",
       "            color:  #000000;\n",
       "            max-width:  80px;\n",
       "            font-size:  10pt;\n",
       "        }    #T_79c51ae4_7fd3_11ea_ad12_f40f2436eaa9row8_col3 {\n",
       "            background-color:  #db4e6a;\n",
       "            color:  #000000;\n",
       "            max-width:  80px;\n",
       "            font-size:  10pt;\n",
       "        }    #T_79c51ae4_7fd3_11ea_ad12_f40f2436eaa9row8_col4 {\n",
       "            background-color:  #dc516d;\n",
       "            color:  #000000;\n",
       "            max-width:  80px;\n",
       "            font-size:  10pt;\n",
       "        }    #T_79c51ae4_7fd3_11ea_ad12_f40f2436eaa9row8_col5 {\n",
       "            background-color:  #db4e6a;\n",
       "            color:  #000000;\n",
       "            max-width:  80px;\n",
       "            font-size:  10pt;\n",
       "        }    #T_79c51ae4_7fd3_11ea_ad12_f40f2436eaa9row8_col6 {\n",
       "            background-color:  #d73c5b;\n",
       "            color:  #f1f1f1;\n",
       "            max-width:  80px;\n",
       "            font-size:  10pt;\n",
       "        }    #T_79c51ae4_7fd3_11ea_ad12_f40f2436eaa9row8_col7 {\n",
       "            background-color:  #db4e6a;\n",
       "            color:  #000000;\n",
       "            max-width:  80px;\n",
       "            font-size:  10pt;\n",
       "        }    #T_79c51ae4_7fd3_11ea_ad12_f40f2436eaa9row8_col8 {\n",
       "            background-color:  #4479bb;\n",
       "            color:  #000000;\n",
       "            max-width:  80px;\n",
       "            font-size:  10pt;\n",
       "        }    #T_79c51ae4_7fd3_11ea_ad12_f40f2436eaa9row8_col9 {\n",
       "            background-color:  #da4865;\n",
       "            color:  #000000;\n",
       "            max-width:  80px;\n",
       "            font-size:  10pt;\n",
       "        }    #T_79c51ae4_7fd3_11ea_ad12_f40f2436eaa9row8_col10 {\n",
       "            background-color:  #d94261;\n",
       "            color:  #f1f1f1;\n",
       "            max-width:  80px;\n",
       "            font-size:  10pt;\n",
       "        }    #T_79c51ae4_7fd3_11ea_ad12_f40f2436eaa9row8_col11 {\n",
       "            background-color:  #e27288;\n",
       "            color:  #000000;\n",
       "            max-width:  80px;\n",
       "            font-size:  10pt;\n",
       "        }    #T_79c51ae4_7fd3_11ea_ad12_f40f2436eaa9row8_col12 {\n",
       "            background-color:  #d73d5c;\n",
       "            color:  #f1f1f1;\n",
       "            max-width:  80px;\n",
       "            font-size:  10pt;\n",
       "        }    #T_79c51ae4_7fd3_11ea_ad12_f40f2436eaa9row8_col13 {\n",
       "            background-color:  #dc526e;\n",
       "            color:  #000000;\n",
       "            max-width:  80px;\n",
       "            font-size:  10pt;\n",
       "        }    #T_79c51ae4_7fd3_11ea_ad12_f40f2436eaa9row9_col0 {\n",
       "            background-color:  #da4b68;\n",
       "            color:  #000000;\n",
       "            max-width:  80px;\n",
       "            font-size:  10pt;\n",
       "        }    #T_79c51ae4_7fd3_11ea_ad12_f40f2436eaa9row9_col1 {\n",
       "            background-color:  #d8415f;\n",
       "            color:  #f1f1f1;\n",
       "            max-width:  80px;\n",
       "            font-size:  10pt;\n",
       "        }    #T_79c51ae4_7fd3_11ea_ad12_f40f2436eaa9row9_col2 {\n",
       "            background-color:  #da4865;\n",
       "            color:  #000000;\n",
       "            max-width:  80px;\n",
       "            font-size:  10pt;\n",
       "        }    #T_79c51ae4_7fd3_11ea_ad12_f40f2436eaa9row9_col3 {\n",
       "            background-color:  #d8415f;\n",
       "            color:  #f1f1f1;\n",
       "            max-width:  80px;\n",
       "            font-size:  10pt;\n",
       "        }    #T_79c51ae4_7fd3_11ea_ad12_f40f2436eaa9row9_col4 {\n",
       "            background-color:  #db4d69;\n",
       "            color:  #000000;\n",
       "            max-width:  80px;\n",
       "            font-size:  10pt;\n",
       "        }    #T_79c51ae4_7fd3_11ea_ad12_f40f2436eaa9row9_col5 {\n",
       "            background-color:  #db4d69;\n",
       "            color:  #000000;\n",
       "            max-width:  80px;\n",
       "            font-size:  10pt;\n",
       "        }    #T_79c51ae4_7fd3_11ea_ad12_f40f2436eaa9row9_col6 {\n",
       "            background-color:  #e27087;\n",
       "            color:  #000000;\n",
       "            max-width:  80px;\n",
       "            font-size:  10pt;\n",
       "        }    #T_79c51ae4_7fd3_11ea_ad12_f40f2436eaa9row9_col7 {\n",
       "            background-color:  #de5f79;\n",
       "            color:  #000000;\n",
       "            max-width:  80px;\n",
       "            font-size:  10pt;\n",
       "        }    #T_79c51ae4_7fd3_11ea_ad12_f40f2436eaa9row9_col8 {\n",
       "            background-color:  #d73c5b;\n",
       "            color:  #f1f1f1;\n",
       "            max-width:  80px;\n",
       "            font-size:  10pt;\n",
       "        }    #T_79c51ae4_7fd3_11ea_ad12_f40f2436eaa9row9_col9 {\n",
       "            background-color:  #4479bb;\n",
       "            color:  #000000;\n",
       "            max-width:  80px;\n",
       "            font-size:  10pt;\n",
       "        }    #T_79c51ae4_7fd3_11ea_ad12_f40f2436eaa9row9_col10 {\n",
       "            background-color:  #e47c91;\n",
       "            color:  #000000;\n",
       "            max-width:  80px;\n",
       "            font-size:  10pt;\n",
       "        }    #T_79c51ae4_7fd3_11ea_ad12_f40f2436eaa9row9_col11 {\n",
       "            background-color:  #e68396;\n",
       "            color:  #000000;\n",
       "            max-width:  80px;\n",
       "            font-size:  10pt;\n",
       "        }    #T_79c51ae4_7fd3_11ea_ad12_f40f2436eaa9row9_col12 {\n",
       "            background-color:  #e994a5;\n",
       "            color:  #000000;\n",
       "            max-width:  80px;\n",
       "            font-size:  10pt;\n",
       "        }    #T_79c51ae4_7fd3_11ea_ad12_f40f2436eaa9row9_col13 {\n",
       "            background-color:  #d94462;\n",
       "            color:  #f1f1f1;\n",
       "            max-width:  80px;\n",
       "            font-size:  10pt;\n",
       "        }    #T_79c51ae4_7fd3_11ea_ad12_f40f2436eaa9row10_col0 {\n",
       "            background-color:  #dc516d;\n",
       "            color:  #000000;\n",
       "            max-width:  80px;\n",
       "            font-size:  10pt;\n",
       "        }    #T_79c51ae4_7fd3_11ea_ad12_f40f2436eaa9row10_col1 {\n",
       "            background-color:  #d8415f;\n",
       "            color:  #f1f1f1;\n",
       "            max-width:  80px;\n",
       "            font-size:  10pt;\n",
       "        }    #T_79c51ae4_7fd3_11ea_ad12_f40f2436eaa9row10_col2 {\n",
       "            background-color:  #da4966;\n",
       "            color:  #000000;\n",
       "            max-width:  80px;\n",
       "            font-size:  10pt;\n",
       "        }    #T_79c51ae4_7fd3_11ea_ad12_f40f2436eaa9row10_col3 {\n",
       "            background-color:  #da4865;\n",
       "            color:  #000000;\n",
       "            max-width:  80px;\n",
       "            font-size:  10pt;\n",
       "        }    #T_79c51ae4_7fd3_11ea_ad12_f40f2436eaa9row10_col4 {\n",
       "            background-color:  #e0657d;\n",
       "            color:  #000000;\n",
       "            max-width:  80px;\n",
       "            font-size:  10pt;\n",
       "        }    #T_79c51ae4_7fd3_11ea_ad12_f40f2436eaa9row10_col5 {\n",
       "            background-color:  #db4d69;\n",
       "            color:  #000000;\n",
       "            max-width:  80px;\n",
       "            font-size:  10pt;\n",
       "        }    #T_79c51ae4_7fd3_11ea_ad12_f40f2436eaa9row10_col6 {\n",
       "            background-color:  #e58094;\n",
       "            color:  #000000;\n",
       "            max-width:  80px;\n",
       "            font-size:  10pt;\n",
       "        }    #T_79c51ae4_7fd3_11ea_ad12_f40f2436eaa9row10_col7 {\n",
       "            background-color:  #dc526e;\n",
       "            color:  #000000;\n",
       "            max-width:  80px;\n",
       "            font-size:  10pt;\n",
       "        }    #T_79c51ae4_7fd3_11ea_ad12_f40f2436eaa9row10_col8 {\n",
       "            background-color:  #d73c5b;\n",
       "            color:  #f1f1f1;\n",
       "            max-width:  80px;\n",
       "            font-size:  10pt;\n",
       "        }    #T_79c51ae4_7fd3_11ea_ad12_f40f2436eaa9row10_col9 {\n",
       "            background-color:  #e58195;\n",
       "            color:  #000000;\n",
       "            max-width:  80px;\n",
       "            font-size:  10pt;\n",
       "        }    #T_79c51ae4_7fd3_11ea_ad12_f40f2436eaa9row10_col10 {\n",
       "            background-color:  #4479bb;\n",
       "            color:  #000000;\n",
       "            max-width:  80px;\n",
       "            font-size:  10pt;\n",
       "        }    #T_79c51ae4_7fd3_11ea_ad12_f40f2436eaa9row10_col11 {\n",
       "            background-color:  #e993a4;\n",
       "            color:  #000000;\n",
       "            max-width:  80px;\n",
       "            font-size:  10pt;\n",
       "        }    #T_79c51ae4_7fd3_11ea_ad12_f40f2436eaa9row10_col12 {\n",
       "            background-color:  #d94563;\n",
       "            color:  #f1f1f1;\n",
       "            max-width:  80px;\n",
       "            font-size:  10pt;\n",
       "        }    #T_79c51ae4_7fd3_11ea_ad12_f40f2436eaa9row10_col13 {\n",
       "            background-color:  #da4966;\n",
       "            color:  #000000;\n",
       "            max-width:  80px;\n",
       "            font-size:  10pt;\n",
       "        }    #T_79c51ae4_7fd3_11ea_ad12_f40f2436eaa9row11_col0 {\n",
       "            background-color:  #dc516d;\n",
       "            color:  #000000;\n",
       "            max-width:  80px;\n",
       "            font-size:  10pt;\n",
       "        }    #T_79c51ae4_7fd3_11ea_ad12_f40f2436eaa9row11_col1 {\n",
       "            background-color:  #d73c5b;\n",
       "            color:  #f1f1f1;\n",
       "            max-width:  80px;\n",
       "            font-size:  10pt;\n",
       "        }    #T_79c51ae4_7fd3_11ea_ad12_f40f2436eaa9row11_col2 {\n",
       "            background-color:  #d94563;\n",
       "            color:  #f1f1f1;\n",
       "            max-width:  80px;\n",
       "            font-size:  10pt;\n",
       "        }    #T_79c51ae4_7fd3_11ea_ad12_f40f2436eaa9row11_col3 {\n",
       "            background-color:  #d83e5d;\n",
       "            color:  #f1f1f1;\n",
       "            max-width:  80px;\n",
       "            font-size:  10pt;\n",
       "        }    #T_79c51ae4_7fd3_11ea_ad12_f40f2436eaa9row11_col4 {\n",
       "            background-color:  #df617a;\n",
       "            color:  #000000;\n",
       "            max-width:  80px;\n",
       "            font-size:  10pt;\n",
       "        }    #T_79c51ae4_7fd3_11ea_ad12_f40f2436eaa9row11_col5 {\n",
       "            background-color:  #d94764;\n",
       "            color:  #f1f1f1;\n",
       "            max-width:  80px;\n",
       "            font-size:  10pt;\n",
       "        }    #T_79c51ae4_7fd3_11ea_ad12_f40f2436eaa9row11_col6 {\n",
       "            background-color:  #e994a5;\n",
       "            color:  #000000;\n",
       "            max-width:  80px;\n",
       "            font-size:  10pt;\n",
       "        }    #T_79c51ae4_7fd3_11ea_ad12_f40f2436eaa9row11_col7 {\n",
       "            background-color:  #da4b68;\n",
       "            color:  #000000;\n",
       "            max-width:  80px;\n",
       "            font-size:  10pt;\n",
       "        }    #T_79c51ae4_7fd3_11ea_ad12_f40f2436eaa9row11_col8 {\n",
       "            background-color:  #e06880;\n",
       "            color:  #000000;\n",
       "            max-width:  80px;\n",
       "            font-size:  10pt;\n",
       "        }    #T_79c51ae4_7fd3_11ea_ad12_f40f2436eaa9row11_col9 {\n",
       "            background-color:  #e68598;\n",
       "            color:  #000000;\n",
       "            max-width:  80px;\n",
       "            font-size:  10pt;\n",
       "        }    #T_79c51ae4_7fd3_11ea_ad12_f40f2436eaa9row11_col10 {\n",
       "            background-color:  #e890a1;\n",
       "            color:  #000000;\n",
       "            max-width:  80px;\n",
       "            font-size:  10pt;\n",
       "        }    #T_79c51ae4_7fd3_11ea_ad12_f40f2436eaa9row11_col11 {\n",
       "            background-color:  #4479bb;\n",
       "            color:  #000000;\n",
       "            max-width:  80px;\n",
       "            font-size:  10pt;\n",
       "        }    #T_79c51ae4_7fd3_11ea_ad12_f40f2436eaa9row11_col12 {\n",
       "            background-color:  #da4966;\n",
       "            color:  #000000;\n",
       "            max-width:  80px;\n",
       "            font-size:  10pt;\n",
       "        }    #T_79c51ae4_7fd3_11ea_ad12_f40f2436eaa9row11_col13 {\n",
       "            background-color:  #d94563;\n",
       "            color:  #f1f1f1;\n",
       "            max-width:  80px;\n",
       "            font-size:  10pt;\n",
       "        }    #T_79c51ae4_7fd3_11ea_ad12_f40f2436eaa9row12_col0 {\n",
       "            background-color:  #d73c5b;\n",
       "            color:  #f1f1f1;\n",
       "            max-width:  80px;\n",
       "            font-size:  10pt;\n",
       "        }    #T_79c51ae4_7fd3_11ea_ad12_f40f2436eaa9row12_col1 {\n",
       "            background-color:  #dc5570;\n",
       "            color:  #000000;\n",
       "            max-width:  80px;\n",
       "            font-size:  10pt;\n",
       "        }    #T_79c51ae4_7fd3_11ea_ad12_f40f2436eaa9row12_col2 {\n",
       "            background-color:  #dd5872;\n",
       "            color:  #000000;\n",
       "            max-width:  80px;\n",
       "            font-size:  10pt;\n",
       "        }    #T_79c51ae4_7fd3_11ea_ad12_f40f2436eaa9row12_col3 {\n",
       "            background-color:  #db4d69;\n",
       "            color:  #000000;\n",
       "            max-width:  80px;\n",
       "            font-size:  10pt;\n",
       "        }    #T_79c51ae4_7fd3_11ea_ad12_f40f2436eaa9row12_col4 {\n",
       "            background-color:  #d8415f;\n",
       "            color:  #f1f1f1;\n",
       "            max-width:  80px;\n",
       "            font-size:  10pt;\n",
       "        }    #T_79c51ae4_7fd3_11ea_ad12_f40f2436eaa9row12_col5 {\n",
       "            background-color:  #dc526e;\n",
       "            color:  #000000;\n",
       "            max-width:  80px;\n",
       "            font-size:  10pt;\n",
       "        }    #T_79c51ae4_7fd3_11ea_ad12_f40f2436eaa9row12_col6 {\n",
       "            background-color:  #d94764;\n",
       "            color:  #f1f1f1;\n",
       "            max-width:  80px;\n",
       "            font-size:  10pt;\n",
       "        }    #T_79c51ae4_7fd3_11ea_ad12_f40f2436eaa9row12_col7 {\n",
       "            background-color:  #e27087;\n",
       "            color:  #000000;\n",
       "            max-width:  80px;\n",
       "            font-size:  10pt;\n",
       "        }    #T_79c51ae4_7fd3_11ea_ad12_f40f2436eaa9row12_col8 {\n",
       "            background-color:  #d73c5b;\n",
       "            color:  #f1f1f1;\n",
       "            max-width:  80px;\n",
       "            font-size:  10pt;\n",
       "        }    #T_79c51ae4_7fd3_11ea_ad12_f40f2436eaa9row12_col9 {\n",
       "            background-color:  #eb9dac;\n",
       "            color:  #000000;\n",
       "            max-width:  80px;\n",
       "            font-size:  10pt;\n",
       "        }    #T_79c51ae4_7fd3_11ea_ad12_f40f2436eaa9row12_col10 {\n",
       "            background-color:  #da4b68;\n",
       "            color:  #000000;\n",
       "            max-width:  80px;\n",
       "            font-size:  10pt;\n",
       "        }    #T_79c51ae4_7fd3_11ea_ad12_f40f2436eaa9row12_col11 {\n",
       "            background-color:  #dc546f;\n",
       "            color:  #000000;\n",
       "            max-width:  80px;\n",
       "            font-size:  10pt;\n",
       "        }    #T_79c51ae4_7fd3_11ea_ad12_f40f2436eaa9row12_col12 {\n",
       "            background-color:  #4479bb;\n",
       "            color:  #000000;\n",
       "            max-width:  80px;\n",
       "            font-size:  10pt;\n",
       "        }    #T_79c51ae4_7fd3_11ea_ad12_f40f2436eaa9row12_col13 {\n",
       "            background-color:  #db4f6b;\n",
       "            color:  #000000;\n",
       "            max-width:  80px;\n",
       "            font-size:  10pt;\n",
       "        }    #T_79c51ae4_7fd3_11ea_ad12_f40f2436eaa9row13_col0 {\n",
       "            background-color:  #d73c5b;\n",
       "            color:  #f1f1f1;\n",
       "            max-width:  80px;\n",
       "            font-size:  10pt;\n",
       "        }    #T_79c51ae4_7fd3_11ea_ad12_f40f2436eaa9row13_col1 {\n",
       "            background-color:  #d73c5b;\n",
       "            color:  #f1f1f1;\n",
       "            max-width:  80px;\n",
       "            font-size:  10pt;\n",
       "        }    #T_79c51ae4_7fd3_11ea_ad12_f40f2436eaa9row13_col2 {\n",
       "            background-color:  #d73c5b;\n",
       "            color:  #f1f1f1;\n",
       "            max-width:  80px;\n",
       "            font-size:  10pt;\n",
       "        }    #T_79c51ae4_7fd3_11ea_ad12_f40f2436eaa9row13_col3 {\n",
       "            background-color:  #d73d5c;\n",
       "            color:  #f1f1f1;\n",
       "            max-width:  80px;\n",
       "            font-size:  10pt;\n",
       "        }    #T_79c51ae4_7fd3_11ea_ad12_f40f2436eaa9row13_col4 {\n",
       "            background-color:  #d73d5c;\n",
       "            color:  #f1f1f1;\n",
       "            max-width:  80px;\n",
       "            font-size:  10pt;\n",
       "        }    #T_79c51ae4_7fd3_11ea_ad12_f40f2436eaa9row13_col5 {\n",
       "            background-color:  #d73c5b;\n",
       "            color:  #f1f1f1;\n",
       "            max-width:  80px;\n",
       "            font-size:  10pt;\n",
       "        }    #T_79c51ae4_7fd3_11ea_ad12_f40f2436eaa9row13_col6 {\n",
       "            background-color:  #d73c5b;\n",
       "            color:  #f1f1f1;\n",
       "            max-width:  80px;\n",
       "            font-size:  10pt;\n",
       "        }    #T_79c51ae4_7fd3_11ea_ad12_f40f2436eaa9row13_col7 {\n",
       "            background-color:  #d73c5b;\n",
       "            color:  #f1f1f1;\n",
       "            max-width:  80px;\n",
       "            font-size:  10pt;\n",
       "        }    #T_79c51ae4_7fd3_11ea_ad12_f40f2436eaa9row13_col8 {\n",
       "            background-color:  #d73d5c;\n",
       "            color:  #f1f1f1;\n",
       "            max-width:  80px;\n",
       "            font-size:  10pt;\n",
       "        }    #T_79c51ae4_7fd3_11ea_ad12_f40f2436eaa9row13_col9 {\n",
       "            background-color:  #d73c5b;\n",
       "            color:  #f1f1f1;\n",
       "            max-width:  80px;\n",
       "            font-size:  10pt;\n",
       "        }    #T_79c51ae4_7fd3_11ea_ad12_f40f2436eaa9row13_col10 {\n",
       "            background-color:  #d73c5b;\n",
       "            color:  #f1f1f1;\n",
       "            max-width:  80px;\n",
       "            font-size:  10pt;\n",
       "        }    #T_79c51ae4_7fd3_11ea_ad12_f40f2436eaa9row13_col11 {\n",
       "            background-color:  #d73c5b;\n",
       "            color:  #f1f1f1;\n",
       "            max-width:  80px;\n",
       "            font-size:  10pt;\n",
       "        }    #T_79c51ae4_7fd3_11ea_ad12_f40f2436eaa9row13_col12 {\n",
       "            background-color:  #d73c5b;\n",
       "            color:  #f1f1f1;\n",
       "            max-width:  80px;\n",
       "            font-size:  10pt;\n",
       "        }    #T_79c51ae4_7fd3_11ea_ad12_f40f2436eaa9row13_col13 {\n",
       "            background-color:  #4479bb;\n",
       "            color:  #000000;\n",
       "            max-width:  80px;\n",
       "            font-size:  10pt;\n",
       "        }</style><table id=\"T_79c51ae4_7fd3_11ea_ad12_f40f2436eaa9\" ><caption>Hover to magify</caption><thead>    <tr>        <th class=\"blank level0\" ></th>        <th class=\"col_heading level0 col0\" >ps_ind_01</th>        <th class=\"col_heading level0 col1\" >ps_ind_03</th>        <th class=\"col_heading level0 col2\" >ps_ind_15</th>        <th class=\"col_heading level0 col3\" >ps_reg_01</th>        <th class=\"col_heading level0 col4\" >ps_reg_02</th>        <th class=\"col_heading level0 col5\" >ps_car_01_cat</th>        <th class=\"col_heading level0 col6\" >ps_car_06_cat</th>        <th class=\"col_heading level0 col7\" >ps_car_09_cat</th>        <th class=\"col_heading level0 col8\" >ps_car_11_cat</th>        <th class=\"col_heading level0 col9\" >ps_car_12</th>        <th class=\"col_heading level0 col10\" >ps_car_13</th>        <th class=\"col_heading level0 col11\" >ps_car_14</th>        <th class=\"col_heading level0 col12\" >ps_car_15</th>        <th class=\"col_heading level0 col13\" >ps_calc_03</th>    </tr></thead><tbody>\n",
       "                <tr>\n",
       "                        <th id=\"T_79c51ae4_7fd3_11ea_ad12_f40f2436eaa9level0_row0\" class=\"row_heading level0 row0\" >ps_ind_01</th>\n",
       "                        <td id=\"T_79c51ae4_7fd3_11ea_ad12_f40f2436eaa9row0_col0\" class=\"data row0 col0\" >1</td>\n",
       "                        <td id=\"T_79c51ae4_7fd3_11ea_ad12_f40f2436eaa9row0_col1\" class=\"data row0 col1\" >-0.0038</td>\n",
       "                        <td id=\"T_79c51ae4_7fd3_11ea_ad12_f40f2436eaa9row0_col2\" class=\"data row0 col2\" >0.0039</td>\n",
       "                        <td id=\"T_79c51ae4_7fd3_11ea_ad12_f40f2436eaa9row0_col3\" class=\"data row0 col3\" >-0.0025</td>\n",
       "                        <td id=\"T_79c51ae4_7fd3_11ea_ad12_f40f2436eaa9row0_col4\" class=\"data row0 col4\" >0.018</td>\n",
       "                        <td id=\"T_79c51ae4_7fd3_11ea_ad12_f40f2436eaa9row0_col5\" class=\"data row0 col5\" >0.072</td>\n",
       "                        <td id=\"T_79c51ae4_7fd3_11ea_ad12_f40f2436eaa9row0_col6\" class=\"data row0 col6\" >0.017</td>\n",
       "                        <td id=\"T_79c51ae4_7fd3_11ea_ad12_f40f2436eaa9row0_col7\" class=\"data row0 col7\" >0.062</td>\n",
       "                        <td id=\"T_79c51ae4_7fd3_11ea_ad12_f40f2436eaa9row0_col8\" class=\"data row0 col8\" >0.016</td>\n",
       "                        <td id=\"T_79c51ae4_7fd3_11ea_ad12_f40f2436eaa9row0_col9\" class=\"data row0 col9\" >0.019</td>\n",
       "                        <td id=\"T_79c51ae4_7fd3_11ea_ad12_f40f2436eaa9row0_col10\" class=\"data row0 col10\" >0.02</td>\n",
       "                        <td id=\"T_79c51ae4_7fd3_11ea_ad12_f40f2436eaa9row0_col11\" class=\"data row0 col11\" >0.03</td>\n",
       "                        <td id=\"T_79c51ae4_7fd3_11ea_ad12_f40f2436eaa9row0_col12\" class=\"data row0 col12\" >-0.057</td>\n",
       "                        <td id=\"T_79c51ae4_7fd3_11ea_ad12_f40f2436eaa9row0_col13\" class=\"data row0 col13\" >-0.0024</td>\n",
       "            </tr>\n",
       "            <tr>\n",
       "                        <th id=\"T_79c51ae4_7fd3_11ea_ad12_f40f2436eaa9level0_row1\" class=\"row_heading level0 row1\" >ps_ind_03</th>\n",
       "                        <td id=\"T_79c51ae4_7fd3_11ea_ad12_f40f2436eaa9row1_col0\" class=\"data row1 col0\" >-0.0038</td>\n",
       "                        <td id=\"T_79c51ae4_7fd3_11ea_ad12_f40f2436eaa9row1_col1\" class=\"data row1 col1\" >1</td>\n",
       "                        <td id=\"T_79c51ae4_7fd3_11ea_ad12_f40f2436eaa9row1_col2\" class=\"data row1 col2\" >-0.03</td>\n",
       "                        <td id=\"T_79c51ae4_7fd3_11ea_ad12_f40f2436eaa9row1_col3\" class=\"data row1 col3\" >0.0076</td>\n",
       "                        <td id=\"T_79c51ae4_7fd3_11ea_ad12_f40f2436eaa9row1_col4\" class=\"data row1 col4\" >0.029</td>\n",
       "                        <td id=\"T_79c51ae4_7fd3_11ea_ad12_f40f2436eaa9row1_col5\" class=\"data row1 col5\" >-0.005</td>\n",
       "                        <td id=\"T_79c51ae4_7fd3_11ea_ad12_f40f2436eaa9row1_col6\" class=\"data row1 col6\" >-0.019</td>\n",
       "                        <td id=\"T_79c51ae4_7fd3_11ea_ad12_f40f2436eaa9row1_col7\" class=\"data row1 col7\" >-0.016</td>\n",
       "                        <td id=\"T_79c51ae4_7fd3_11ea_ad12_f40f2436eaa9row1_col8\" class=\"data row1 col8\" >-0.017</td>\n",
       "                        <td id=\"T_79c51ae4_7fd3_11ea_ad12_f40f2436eaa9row1_col9\" class=\"data row1 col9\" >-0.0094</td>\n",
       "                        <td id=\"T_79c51ae4_7fd3_11ea_ad12_f40f2436eaa9row1_col10\" class=\"data row1 col10\" >-0.026</td>\n",
       "                        <td id=\"T_79c51ae4_7fd3_11ea_ad12_f40f2436eaa9row1_col11\" class=\"data row1 col11\" >-0.032</td>\n",
       "                        <td id=\"T_79c51ae4_7fd3_11ea_ad12_f40f2436eaa9row1_col12\" class=\"data row1 col12\" >0.016</td>\n",
       "                        <td id=\"T_79c51ae4_7fd3_11ea_ad12_f40f2436eaa9row1_col13\" class=\"data row1 col13\" >0.0007</td>\n",
       "            </tr>\n",
       "            <tr>\n",
       "                        <th id=\"T_79c51ae4_7fd3_11ea_ad12_f40f2436eaa9level0_row2\" class=\"row_heading level0 row2\" >ps_ind_15</th>\n",
       "                        <td id=\"T_79c51ae4_7fd3_11ea_ad12_f40f2436eaa9row2_col0\" class=\"data row2 col0\" >0.0039</td>\n",
       "                        <td id=\"T_79c51ae4_7fd3_11ea_ad12_f40f2436eaa9row2_col1\" class=\"data row2 col1\" >-0.03</td>\n",
       "                        <td id=\"T_79c51ae4_7fd3_11ea_ad12_f40f2436eaa9row2_col2\" class=\"data row2 col2\" >1</td>\n",
       "                        <td id=\"T_79c51ae4_7fd3_11ea_ad12_f40f2436eaa9row2_col3\" class=\"data row2 col3\" >0.0053</td>\n",
       "                        <td id=\"T_79c51ae4_7fd3_11ea_ad12_f40f2436eaa9row2_col4\" class=\"data row2 col4\" >-0.019</td>\n",
       "                        <td id=\"T_79c51ae4_7fd3_11ea_ad12_f40f2436eaa9row2_col5\" class=\"data row2 col5\" >0.0074</td>\n",
       "                        <td id=\"T_79c51ae4_7fd3_11ea_ad12_f40f2436eaa9row2_col6\" class=\"data row2 col6\" >-0.0025</td>\n",
       "                        <td id=\"T_79c51ae4_7fd3_11ea_ad12_f40f2436eaa9row2_col7\" class=\"data row2 col7\" >0.022</td>\n",
       "                        <td id=\"T_79c51ae4_7fd3_11ea_ad12_f40f2436eaa9row2_col8\" class=\"data row2 col8\" >-0.0016</td>\n",
       "                        <td id=\"T_79c51ae4_7fd3_11ea_ad12_f40f2436eaa9row2_col9\" class=\"data row2 col9\" >0.013</td>\n",
       "                        <td id=\"T_79c51ae4_7fd3_11ea_ad12_f40f2436eaa9row2_col10\" class=\"data row2 col10\" >-2.3e-05</td>\n",
       "                        <td id=\"T_79c51ae4_7fd3_11ea_ad12_f40f2436eaa9row2_col11\" class=\"data row2 col11\" >-0.0013</td>\n",
       "                        <td id=\"T_79c51ae4_7fd3_11ea_ad12_f40f2436eaa9row2_col12\" class=\"data row2 col12\" >0.025</td>\n",
       "                        <td id=\"T_79c51ae4_7fd3_11ea_ad12_f40f2436eaa9row2_col13\" class=\"data row2 col13\" >0.0012</td>\n",
       "            </tr>\n",
       "            <tr>\n",
       "                        <th id=\"T_79c51ae4_7fd3_11ea_ad12_f40f2436eaa9level0_row3\" class=\"row_heading level0 row3\" >ps_reg_01</th>\n",
       "                        <td id=\"T_79c51ae4_7fd3_11ea_ad12_f40f2436eaa9row3_col0\" class=\"data row3 col0\" >-0.0025</td>\n",
       "                        <td id=\"T_79c51ae4_7fd3_11ea_ad12_f40f2436eaa9row3_col1\" class=\"data row3 col1\" >0.0076</td>\n",
       "                        <td id=\"T_79c51ae4_7fd3_11ea_ad12_f40f2436eaa9row3_col2\" class=\"data row3 col2\" >0.0053</td>\n",
       "                        <td id=\"T_79c51ae4_7fd3_11ea_ad12_f40f2436eaa9row3_col3\" class=\"data row3 col3\" >1</td>\n",
       "                        <td id=\"T_79c51ae4_7fd3_11ea_ad12_f40f2436eaa9row3_col4\" class=\"data row3 col4\" >-0.22</td>\n",
       "                        <td id=\"T_79c51ae4_7fd3_11ea_ad12_f40f2436eaa9row3_col5\" class=\"data row3 col5\" >0.063</td>\n",
       "                        <td id=\"T_79c51ae4_7fd3_11ea_ad12_f40f2436eaa9row3_col6\" class=\"data row3 col6\" >-0.052</td>\n",
       "                        <td id=\"T_79c51ae4_7fd3_11ea_ad12_f40f2436eaa9row3_col7\" class=\"data row3 col7\" >-0.065</td>\n",
       "                        <td id=\"T_79c51ae4_7fd3_11ea_ad12_f40f2436eaa9row3_col8\" class=\"data row3 col8\" >-0.011</td>\n",
       "                        <td id=\"T_79c51ae4_7fd3_11ea_ad12_f40f2436eaa9row3_col9\" class=\"data row3 col9\" >-0.0085</td>\n",
       "                        <td id=\"T_79c51ae4_7fd3_11ea_ad12_f40f2436eaa9row3_col10\" class=\"data row3 col10\" >-0.0036</td>\n",
       "                        <td id=\"T_79c51ae4_7fd3_11ea_ad12_f40f2436eaa9row3_col11\" class=\"data row3 col11\" >-0.02</td>\n",
       "                        <td id=\"T_79c51ae4_7fd3_11ea_ad12_f40f2436eaa9row3_col12\" class=\"data row3 col12\" >-0.0089</td>\n",
       "                        <td id=\"T_79c51ae4_7fd3_11ea_ad12_f40f2436eaa9row3_col13\" class=\"data row3 col13\" >0.0021</td>\n",
       "            </tr>\n",
       "            <tr>\n",
       "                        <th id=\"T_79c51ae4_7fd3_11ea_ad12_f40f2436eaa9level0_row4\" class=\"row_heading level0 row4\" >ps_reg_02</th>\n",
       "                        <td id=\"T_79c51ae4_7fd3_11ea_ad12_f40f2436eaa9row4_col0\" class=\"data row4 col0\" >0.018</td>\n",
       "                        <td id=\"T_79c51ae4_7fd3_11ea_ad12_f40f2436eaa9row4_col1\" class=\"data row4 col1\" >0.029</td>\n",
       "                        <td id=\"T_79c51ae4_7fd3_11ea_ad12_f40f2436eaa9row4_col2\" class=\"data row4 col2\" >-0.019</td>\n",
       "                        <td id=\"T_79c51ae4_7fd3_11ea_ad12_f40f2436eaa9row4_col3\" class=\"data row4 col3\" >-0.22</td>\n",
       "                        <td id=\"T_79c51ae4_7fd3_11ea_ad12_f40f2436eaa9row4_col4\" class=\"data row4 col4\" >1</td>\n",
       "                        <td id=\"T_79c51ae4_7fd3_11ea_ad12_f40f2436eaa9row4_col5\" class=\"data row4 col5\" >-0.012</td>\n",
       "                        <td id=\"T_79c51ae4_7fd3_11ea_ad12_f40f2436eaa9row4_col6\" class=\"data row4 col6\" >0.15</td>\n",
       "                        <td id=\"T_79c51ae4_7fd3_11ea_ad12_f40f2436eaa9row4_col7\" class=\"data row4 col7\" >0.0045</td>\n",
       "                        <td id=\"T_79c51ae4_7fd3_11ea_ad12_f40f2436eaa9row4_col8\" class=\"data row4 col8\" >-0.0027</td>\n",
       "                        <td id=\"T_79c51ae4_7fd3_11ea_ad12_f40f2436eaa9row4_col9\" class=\"data row4 col9\" >0.025</td>\n",
       "                        <td id=\"T_79c51ae4_7fd3_11ea_ad12_f40f2436eaa9row4_col10\" class=\"data row4 col10\" >0.077</td>\n",
       "                        <td id=\"T_79c51ae4_7fd3_11ea_ad12_f40f2436eaa9row4_col11\" class=\"data row4 col11\" >0.074</td>\n",
       "                        <td id=\"T_79c51ae4_7fd3_11ea_ad12_f40f2436eaa9row4_col12\" class=\"data row4 col12\" >-0.042</td>\n",
       "                        <td id=\"T_79c51ae4_7fd3_11ea_ad12_f40f2436eaa9row4_col13\" class=\"data row4 col13\" >0.0016</td>\n",
       "            </tr>\n",
       "            <tr>\n",
       "                        <th id=\"T_79c51ae4_7fd3_11ea_ad12_f40f2436eaa9level0_row5\" class=\"row_heading level0 row5\" >ps_car_01_cat</th>\n",
       "                        <td id=\"T_79c51ae4_7fd3_11ea_ad12_f40f2436eaa9row5_col0\" class=\"data row5 col0\" >0.072</td>\n",
       "                        <td id=\"T_79c51ae4_7fd3_11ea_ad12_f40f2436eaa9row5_col1\" class=\"data row5 col1\" >-0.005</td>\n",
       "                        <td id=\"T_79c51ae4_7fd3_11ea_ad12_f40f2436eaa9row5_col2\" class=\"data row5 col2\" >0.0074</td>\n",
       "                        <td id=\"T_79c51ae4_7fd3_11ea_ad12_f40f2436eaa9row5_col3\" class=\"data row5 col3\" >0.063</td>\n",
       "                        <td id=\"T_79c51ae4_7fd3_11ea_ad12_f40f2436eaa9row5_col4\" class=\"data row5 col4\" >-0.012</td>\n",
       "                        <td id=\"T_79c51ae4_7fd3_11ea_ad12_f40f2436eaa9row5_col5\" class=\"data row5 col5\" >1</td>\n",
       "                        <td id=\"T_79c51ae4_7fd3_11ea_ad12_f40f2436eaa9row5_col6\" class=\"data row5 col6\" >0.0031</td>\n",
       "                        <td id=\"T_79c51ae4_7fd3_11ea_ad12_f40f2436eaa9row5_col7\" class=\"data row5 col7\" >0.21</td>\n",
       "                        <td id=\"T_79c51ae4_7fd3_11ea_ad12_f40f2436eaa9row5_col8\" class=\"data row5 col8\" >-0.012</td>\n",
       "                        <td id=\"T_79c51ae4_7fd3_11ea_ad12_f40f2436eaa9row5_col9\" class=\"data row5 col9\" >0.024</td>\n",
       "                        <td id=\"T_79c51ae4_7fd3_11ea_ad12_f40f2436eaa9row5_col10\" class=\"data row5 col10\" >0.0093</td>\n",
       "                        <td id=\"T_79c51ae4_7fd3_11ea_ad12_f40f2436eaa9row5_col11\" class=\"data row5 col11\" >0.0022</td>\n",
       "                        <td id=\"T_79c51ae4_7fd3_11ea_ad12_f40f2436eaa9row5_col12\" class=\"data row5 col12\" >0.0087</td>\n",
       "                        <td id=\"T_79c51ae4_7fd3_11ea_ad12_f40f2436eaa9row5_col13\" class=\"data row5 col13\" >0.00048</td>\n",
       "            </tr>\n",
       "            <tr>\n",
       "                        <th id=\"T_79c51ae4_7fd3_11ea_ad12_f40f2436eaa9level0_row6\" class=\"row_heading level0 row6\" >ps_car_06_cat</th>\n",
       "                        <td id=\"T_79c51ae4_7fd3_11ea_ad12_f40f2436eaa9row6_col0\" class=\"data row6 col0\" >0.017</td>\n",
       "                        <td id=\"T_79c51ae4_7fd3_11ea_ad12_f40f2436eaa9row6_col1\" class=\"data row6 col1\" >-0.019</td>\n",
       "                        <td id=\"T_79c51ae4_7fd3_11ea_ad12_f40f2436eaa9row6_col2\" class=\"data row6 col2\" >-0.0025</td>\n",
       "                        <td id=\"T_79c51ae4_7fd3_11ea_ad12_f40f2436eaa9row6_col3\" class=\"data row6 col3\" >-0.052</td>\n",
       "                        <td id=\"T_79c51ae4_7fd3_11ea_ad12_f40f2436eaa9row6_col4\" class=\"data row6 col4\" >0.15</td>\n",
       "                        <td id=\"T_79c51ae4_7fd3_11ea_ad12_f40f2436eaa9row6_col5\" class=\"data row6 col5\" >0.0031</td>\n",
       "                        <td id=\"T_79c51ae4_7fd3_11ea_ad12_f40f2436eaa9row6_col6\" class=\"data row6 col6\" >1</td>\n",
       "                        <td id=\"T_79c51ae4_7fd3_11ea_ad12_f40f2436eaa9row6_col7\" class=\"data row6 col7\" >0.01</td>\n",
       "                        <td id=\"T_79c51ae4_7fd3_11ea_ad12_f40f2436eaa9row6_col8\" class=\"data row6 col8\" >-0.068</td>\n",
       "                        <td id=\"T_79c51ae4_7fd3_11ea_ad12_f40f2436eaa9row6_col9\" class=\"data row6 col9\" >0.13</td>\n",
       "                        <td id=\"T_79c51ae4_7fd3_11ea_ad12_f40f2436eaa9row6_col10\" class=\"data row6 col10\" >0.15</td>\n",
       "                        <td id=\"T_79c51ae4_7fd3_11ea_ad12_f40f2436eaa9row6_col11\" class=\"data row6 col11\" >0.22</td>\n",
       "                        <td id=\"T_79c51ae4_7fd3_11ea_ad12_f40f2436eaa9row6_col12\" class=\"data row6 col12\" >-0.025</td>\n",
       "                        <td id=\"T_79c51ae4_7fd3_11ea_ad12_f40f2436eaa9row6_col13\" class=\"data row6 col13\" >0.00032</td>\n",
       "            </tr>\n",
       "            <tr>\n",
       "                        <th id=\"T_79c51ae4_7fd3_11ea_ad12_f40f2436eaa9level0_row7\" class=\"row_heading level0 row7\" >ps_car_09_cat</th>\n",
       "                        <td id=\"T_79c51ae4_7fd3_11ea_ad12_f40f2436eaa9row7_col0\" class=\"data row7 col0\" >0.062</td>\n",
       "                        <td id=\"T_79c51ae4_7fd3_11ea_ad12_f40f2436eaa9row7_col1\" class=\"data row7 col1\" >-0.016</td>\n",
       "                        <td id=\"T_79c51ae4_7fd3_11ea_ad12_f40f2436eaa9row7_col2\" class=\"data row7 col2\" >0.022</td>\n",
       "                        <td id=\"T_79c51ae4_7fd3_11ea_ad12_f40f2436eaa9row7_col3\" class=\"data row7 col3\" >-0.065</td>\n",
       "                        <td id=\"T_79c51ae4_7fd3_11ea_ad12_f40f2436eaa9row7_col4\" class=\"data row7 col4\" >0.0045</td>\n",
       "                        <td id=\"T_79c51ae4_7fd3_11ea_ad12_f40f2436eaa9row7_col5\" class=\"data row7 col5\" >0.21</td>\n",
       "                        <td id=\"T_79c51ae4_7fd3_11ea_ad12_f40f2436eaa9row7_col6\" class=\"data row7 col6\" >0.01</td>\n",
       "                        <td id=\"T_79c51ae4_7fd3_11ea_ad12_f40f2436eaa9row7_col7\" class=\"data row7 col7\" >1</td>\n",
       "                        <td id=\"T_79c51ae4_7fd3_11ea_ad12_f40f2436eaa9row7_col8\" class=\"data row7 col8\" >-0.013</td>\n",
       "                        <td id=\"T_79c51ae4_7fd3_11ea_ad12_f40f2436eaa9row7_col9\" class=\"data row7 col9\" >0.075</td>\n",
       "                        <td id=\"T_79c51ae4_7fd3_11ea_ad12_f40f2436eaa9row7_col10\" class=\"data row7 col10\" >0.022</td>\n",
       "                        <td id=\"T_79c51ae4_7fd3_11ea_ad12_f40f2436eaa9row7_col11\" class=\"data row7 col11\" >0.015</td>\n",
       "                        <td id=\"T_79c51ae4_7fd3_11ea_ad12_f40f2436eaa9row7_col12\" class=\"data row7 col12\" >0.095</td>\n",
       "                        <td id=\"T_79c51ae4_7fd3_11ea_ad12_f40f2436eaa9row7_col13\" class=\"data row7 col13\" >-0.00056</td>\n",
       "            </tr>\n",
       "            <tr>\n",
       "                        <th id=\"T_79c51ae4_7fd3_11ea_ad12_f40f2436eaa9level0_row8\" class=\"row_heading level0 row8\" >ps_car_11_cat</th>\n",
       "                        <td id=\"T_79c51ae4_7fd3_11ea_ad12_f40f2436eaa9row8_col0\" class=\"data row8 col0\" >0.016</td>\n",
       "                        <td id=\"T_79c51ae4_7fd3_11ea_ad12_f40f2436eaa9row8_col1\" class=\"data row8 col1\" >-0.017</td>\n",
       "                        <td id=\"T_79c51ae4_7fd3_11ea_ad12_f40f2436eaa9row8_col2\" class=\"data row8 col2\" >-0.0016</td>\n",
       "                        <td id=\"T_79c51ae4_7fd3_11ea_ad12_f40f2436eaa9row8_col3\" class=\"data row8 col3\" >-0.011</td>\n",
       "                        <td id=\"T_79c51ae4_7fd3_11ea_ad12_f40f2436eaa9row8_col4\" class=\"data row8 col4\" >-0.0027</td>\n",
       "                        <td id=\"T_79c51ae4_7fd3_11ea_ad12_f40f2436eaa9row8_col5\" class=\"data row8 col5\" >-0.012</td>\n",
       "                        <td id=\"T_79c51ae4_7fd3_11ea_ad12_f40f2436eaa9row8_col6\" class=\"data row8 col6\" >-0.068</td>\n",
       "                        <td id=\"T_79c51ae4_7fd3_11ea_ad12_f40f2436eaa9row8_col7\" class=\"data row8 col7\" >-0.013</td>\n",
       "                        <td id=\"T_79c51ae4_7fd3_11ea_ad12_f40f2436eaa9row8_col8\" class=\"data row8 col8\" >1</td>\n",
       "                        <td id=\"T_79c51ae4_7fd3_11ea_ad12_f40f2436eaa9row8_col9\" class=\"data row8 col9\" >-0.026</td>\n",
       "                        <td id=\"T_79c51ae4_7fd3_11ea_ad12_f40f2436eaa9row8_col10\" class=\"data row8 col10\" >-0.043</td>\n",
       "                        <td id=\"T_79c51ae4_7fd3_11ea_ad12_f40f2436eaa9row8_col11\" class=\"data row8 col11\" >0.094</td>\n",
       "                        <td id=\"T_79c51ae4_7fd3_11ea_ad12_f40f2436eaa9row8_col12\" class=\"data row8 col12\" >-0.06</td>\n",
       "                        <td id=\"T_79c51ae4_7fd3_11ea_ad12_f40f2436eaa9row8_col13\" class=\"data row8 col13\" >0.0029</td>\n",
       "            </tr>\n",
       "            <tr>\n",
       "                        <th id=\"T_79c51ae4_7fd3_11ea_ad12_f40f2436eaa9level0_row9\" class=\"row_heading level0 row9\" >ps_car_12</th>\n",
       "                        <td id=\"T_79c51ae4_7fd3_11ea_ad12_f40f2436eaa9row9_col0\" class=\"data row9 col0\" >0.019</td>\n",
       "                        <td id=\"T_79c51ae4_7fd3_11ea_ad12_f40f2436eaa9row9_col1\" class=\"data row9 col1\" >-0.0094</td>\n",
       "                        <td id=\"T_79c51ae4_7fd3_11ea_ad12_f40f2436eaa9row9_col2\" class=\"data row9 col2\" >0.013</td>\n",
       "                        <td id=\"T_79c51ae4_7fd3_11ea_ad12_f40f2436eaa9row9_col3\" class=\"data row9 col3\" >-0.0085</td>\n",
       "                        <td id=\"T_79c51ae4_7fd3_11ea_ad12_f40f2436eaa9row9_col4\" class=\"data row9 col4\" >0.025</td>\n",
       "                        <td id=\"T_79c51ae4_7fd3_11ea_ad12_f40f2436eaa9row9_col5\" class=\"data row9 col5\" >0.024</td>\n",
       "                        <td id=\"T_79c51ae4_7fd3_11ea_ad12_f40f2436eaa9row9_col6\" class=\"data row9 col6\" >0.13</td>\n",
       "                        <td id=\"T_79c51ae4_7fd3_11ea_ad12_f40f2436eaa9row9_col7\" class=\"data row9 col7\" >0.075</td>\n",
       "                        <td id=\"T_79c51ae4_7fd3_11ea_ad12_f40f2436eaa9row9_col8\" class=\"data row9 col8\" >-0.026</td>\n",
       "                        <td id=\"T_79c51ae4_7fd3_11ea_ad12_f40f2436eaa9row9_col9\" class=\"data row9 col9\" >1</td>\n",
       "                        <td id=\"T_79c51ae4_7fd3_11ea_ad12_f40f2436eaa9row9_col10\" class=\"data row9 col10\" >0.16</td>\n",
       "                        <td id=\"T_79c51ae4_7fd3_11ea_ad12_f40f2436eaa9row9_col11\" class=\"data row9 col11\" >0.17</td>\n",
       "                        <td id=\"T_79c51ae4_7fd3_11ea_ad12_f40f2436eaa9row9_col12\" class=\"data row9 col12\" >0.23</td>\n",
       "                        <td id=\"T_79c51ae4_7fd3_11ea_ad12_f40f2436eaa9row9_col13\" class=\"data row9 col13\" >-0.00035</td>\n",
       "            </tr>\n",
       "            <tr>\n",
       "                        <th id=\"T_79c51ae4_7fd3_11ea_ad12_f40f2436eaa9level0_row10\" class=\"row_heading level0 row10\" >ps_car_13</th>\n",
       "                        <td id=\"T_79c51ae4_7fd3_11ea_ad12_f40f2436eaa9row10_col0\" class=\"data row10 col0\" >0.02</td>\n",
       "                        <td id=\"T_79c51ae4_7fd3_11ea_ad12_f40f2436eaa9row10_col1\" class=\"data row10 col1\" >-0.026</td>\n",
       "                        <td id=\"T_79c51ae4_7fd3_11ea_ad12_f40f2436eaa9row10_col2\" class=\"data row10 col2\" >-2.3e-05</td>\n",
       "                        <td id=\"T_79c51ae4_7fd3_11ea_ad12_f40f2436eaa9row10_col3\" class=\"data row10 col3\" >-0.0036</td>\n",
       "                        <td id=\"T_79c51ae4_7fd3_11ea_ad12_f40f2436eaa9row10_col4\" class=\"data row10 col4\" >0.077</td>\n",
       "                        <td id=\"T_79c51ae4_7fd3_11ea_ad12_f40f2436eaa9row10_col5\" class=\"data row10 col5\" >0.0093</td>\n",
       "                        <td id=\"T_79c51ae4_7fd3_11ea_ad12_f40f2436eaa9row10_col6\" class=\"data row10 col6\" >0.15</td>\n",
       "                        <td id=\"T_79c51ae4_7fd3_11ea_ad12_f40f2436eaa9row10_col7\" class=\"data row10 col7\" >0.022</td>\n",
       "                        <td id=\"T_79c51ae4_7fd3_11ea_ad12_f40f2436eaa9row10_col8\" class=\"data row10 col8\" >-0.043</td>\n",
       "                        <td id=\"T_79c51ae4_7fd3_11ea_ad12_f40f2436eaa9row10_col9\" class=\"data row10 col9\" >0.16</td>\n",
       "                        <td id=\"T_79c51ae4_7fd3_11ea_ad12_f40f2436eaa9row10_col10\" class=\"data row10 col10\" >1</td>\n",
       "                        <td id=\"T_79c51ae4_7fd3_11ea_ad12_f40f2436eaa9row10_col11\" class=\"data row10 col11\" >0.21</td>\n",
       "                        <td id=\"T_79c51ae4_7fd3_11ea_ad12_f40f2436eaa9row10_col12\" class=\"data row10 col12\" >-0.011</td>\n",
       "                        <td id=\"T_79c51ae4_7fd3_11ea_ad12_f40f2436eaa9row10_col13\" class=\"data row10 col13\" >0.00013</td>\n",
       "            </tr>\n",
       "            <tr>\n",
       "                        <th id=\"T_79c51ae4_7fd3_11ea_ad12_f40f2436eaa9level0_row11\" class=\"row_heading level0 row11\" >ps_car_14</th>\n",
       "                        <td id=\"T_79c51ae4_7fd3_11ea_ad12_f40f2436eaa9row11_col0\" class=\"data row11 col0\" >0.03</td>\n",
       "                        <td id=\"T_79c51ae4_7fd3_11ea_ad12_f40f2436eaa9row11_col1\" class=\"data row11 col1\" >-0.032</td>\n",
       "                        <td id=\"T_79c51ae4_7fd3_11ea_ad12_f40f2436eaa9row11_col2\" class=\"data row11 col2\" >-0.0013</td>\n",
       "                        <td id=\"T_79c51ae4_7fd3_11ea_ad12_f40f2436eaa9row11_col3\" class=\"data row11 col3\" >-0.02</td>\n",
       "                        <td id=\"T_79c51ae4_7fd3_11ea_ad12_f40f2436eaa9row11_col4\" class=\"data row11 col4\" >0.074</td>\n",
       "                        <td id=\"T_79c51ae4_7fd3_11ea_ad12_f40f2436eaa9row11_col5\" class=\"data row11 col5\" >0.0022</td>\n",
       "                        <td id=\"T_79c51ae4_7fd3_11ea_ad12_f40f2436eaa9row11_col6\" class=\"data row11 col6\" >0.22</td>\n",
       "                        <td id=\"T_79c51ae4_7fd3_11ea_ad12_f40f2436eaa9row11_col7\" class=\"data row11 col7\" >0.015</td>\n",
       "                        <td id=\"T_79c51ae4_7fd3_11ea_ad12_f40f2436eaa9row11_col8\" class=\"data row11 col8\" >0.094</td>\n",
       "                        <td id=\"T_79c51ae4_7fd3_11ea_ad12_f40f2436eaa9row11_col9\" class=\"data row11 col9\" >0.17</td>\n",
       "                        <td id=\"T_79c51ae4_7fd3_11ea_ad12_f40f2436eaa9row11_col10\" class=\"data row11 col10\" >0.21</td>\n",
       "                        <td id=\"T_79c51ae4_7fd3_11ea_ad12_f40f2436eaa9row11_col11\" class=\"data row11 col11\" >1</td>\n",
       "                        <td id=\"T_79c51ae4_7fd3_11ea_ad12_f40f2436eaa9row11_col12\" class=\"data row11 col12\" >0.011</td>\n",
       "                        <td id=\"T_79c51ae4_7fd3_11ea_ad12_f40f2436eaa9row11_col13\" class=\"data row11 col13\" >-0.0021</td>\n",
       "            </tr>\n",
       "            <tr>\n",
       "                        <th id=\"T_79c51ae4_7fd3_11ea_ad12_f40f2436eaa9level0_row12\" class=\"row_heading level0 row12\" >ps_car_15</th>\n",
       "                        <td id=\"T_79c51ae4_7fd3_11ea_ad12_f40f2436eaa9row12_col0\" class=\"data row12 col0\" >-0.057</td>\n",
       "                        <td id=\"T_79c51ae4_7fd3_11ea_ad12_f40f2436eaa9row12_col1\" class=\"data row12 col1\" >0.016</td>\n",
       "                        <td id=\"T_79c51ae4_7fd3_11ea_ad12_f40f2436eaa9row12_col2\" class=\"data row12 col2\" >0.025</td>\n",
       "                        <td id=\"T_79c51ae4_7fd3_11ea_ad12_f40f2436eaa9row12_col3\" class=\"data row12 col3\" >-0.0089</td>\n",
       "                        <td id=\"T_79c51ae4_7fd3_11ea_ad12_f40f2436eaa9row12_col4\" class=\"data row12 col4\" >-0.042</td>\n",
       "                        <td id=\"T_79c51ae4_7fd3_11ea_ad12_f40f2436eaa9row12_col5\" class=\"data row12 col5\" >0.0087</td>\n",
       "                        <td id=\"T_79c51ae4_7fd3_11ea_ad12_f40f2436eaa9row12_col6\" class=\"data row12 col6\" >-0.025</td>\n",
       "                        <td id=\"T_79c51ae4_7fd3_11ea_ad12_f40f2436eaa9row12_col7\" class=\"data row12 col7\" >0.095</td>\n",
       "                        <td id=\"T_79c51ae4_7fd3_11ea_ad12_f40f2436eaa9row12_col8\" class=\"data row12 col8\" >-0.06</td>\n",
       "                        <td id=\"T_79c51ae4_7fd3_11ea_ad12_f40f2436eaa9row12_col9\" class=\"data row12 col9\" >0.23</td>\n",
       "                        <td id=\"T_79c51ae4_7fd3_11ea_ad12_f40f2436eaa9row12_col10\" class=\"data row12 col10\" >-0.011</td>\n",
       "                        <td id=\"T_79c51ae4_7fd3_11ea_ad12_f40f2436eaa9row12_col11\" class=\"data row12 col11\" >0.011</td>\n",
       "                        <td id=\"T_79c51ae4_7fd3_11ea_ad12_f40f2436eaa9row12_col12\" class=\"data row12 col12\" >1</td>\n",
       "                        <td id=\"T_79c51ae4_7fd3_11ea_ad12_f40f2436eaa9row12_col13\" class=\"data row12 col13\" >-0.0005</td>\n",
       "            </tr>\n",
       "            <tr>\n",
       "                        <th id=\"T_79c51ae4_7fd3_11ea_ad12_f40f2436eaa9level0_row13\" class=\"row_heading level0 row13\" >ps_calc_03</th>\n",
       "                        <td id=\"T_79c51ae4_7fd3_11ea_ad12_f40f2436eaa9row13_col0\" class=\"data row13 col0\" >-0.0024</td>\n",
       "                        <td id=\"T_79c51ae4_7fd3_11ea_ad12_f40f2436eaa9row13_col1\" class=\"data row13 col1\" >0.0007</td>\n",
       "                        <td id=\"T_79c51ae4_7fd3_11ea_ad12_f40f2436eaa9row13_col2\" class=\"data row13 col2\" >0.0012</td>\n",
       "                        <td id=\"T_79c51ae4_7fd3_11ea_ad12_f40f2436eaa9row13_col3\" class=\"data row13 col3\" >0.0021</td>\n",
       "                        <td id=\"T_79c51ae4_7fd3_11ea_ad12_f40f2436eaa9row13_col4\" class=\"data row13 col4\" >0.0016</td>\n",
       "                        <td id=\"T_79c51ae4_7fd3_11ea_ad12_f40f2436eaa9row13_col5\" class=\"data row13 col5\" >0.00048</td>\n",
       "                        <td id=\"T_79c51ae4_7fd3_11ea_ad12_f40f2436eaa9row13_col6\" class=\"data row13 col6\" >0.00032</td>\n",
       "                        <td id=\"T_79c51ae4_7fd3_11ea_ad12_f40f2436eaa9row13_col7\" class=\"data row13 col7\" >-0.00056</td>\n",
       "                        <td id=\"T_79c51ae4_7fd3_11ea_ad12_f40f2436eaa9row13_col8\" class=\"data row13 col8\" >0.0029</td>\n",
       "                        <td id=\"T_79c51ae4_7fd3_11ea_ad12_f40f2436eaa9row13_col9\" class=\"data row13 col9\" >-0.00035</td>\n",
       "                        <td id=\"T_79c51ae4_7fd3_11ea_ad12_f40f2436eaa9row13_col10\" class=\"data row13 col10\" >0.00013</td>\n",
       "                        <td id=\"T_79c51ae4_7fd3_11ea_ad12_f40f2436eaa9row13_col11\" class=\"data row13 col11\" >-0.0021</td>\n",
       "                        <td id=\"T_79c51ae4_7fd3_11ea_ad12_f40f2436eaa9row13_col12\" class=\"data row13 col12\" >-0.0005</td>\n",
       "                        <td id=\"T_79c51ae4_7fd3_11ea_ad12_f40f2436eaa9row13_col13\" class=\"data row13 col13\" >1</td>\n",
       "            </tr>\n",
       "    </tbody></table>"
      ],
      "text/plain": [
       "<pandas.io.formats.style.Styler at 0x1293a0a50>"
      ]
     },
     "execution_count": 504,
     "metadata": {},
     "output_type": "execute_result"
    }
   ],
   "source": [
    "cmap=sns.diverging_palette(5, 250, as_cmap=True)\n",
    "\n",
    "def magnify():\n",
    "    return [dict(selector=\"th\",\n",
    "                 props=[(\"font-size\", \"7pt\")]),\n",
    "            dict(selector=\"td\",\n",
    "                 props=[('padding', \"0em 0em\")]),\n",
    "            dict(selector=\"th:hover\",\n",
    "                 props=[(\"font-size\", \"12pt\")]),\n",
    "            dict(selector=\"tr:hover td:hover\",\n",
    "                 props=[('max-width', '200px'),\n",
    "                        ('font-size', '12pt')])\n",
    "]\n",
    "\n",
    "corr.style.background_gradient(cmap, axis=1)\\\n",
    "    .set_properties(**{'max-width': '80px', 'font-size': '10pt'})\\\n",
    "    .set_caption(\"Hover to magify\")\\\n",
    "    .set_precision(2)\\\n",
    "    .set_table_styles(magnify())"
   ]
  },
  {
   "cell_type": "markdown",
   "metadata": {},
   "source": [
    "## One Hot Encoding"
   ]
  },
  {
   "cell_type": "markdown",
   "metadata": {},
   "source": [
    "Save the column names to filter the submission data"
   ]
  },
  {
   "cell_type": "code",
   "execution_count": 505,
   "metadata": {},
   "outputs": [],
   "source": [
    "submission_test_columns = X_Train_Shaped.columns"
   ]
  },
  {
   "cell_type": "code",
   "execution_count": 506,
   "metadata": {},
   "outputs": [
    {
     "data": {
      "text/plain": [
       "(416648, 14)"
      ]
     },
     "execution_count": 506,
     "metadata": {},
     "output_type": "execute_result"
    }
   ],
   "source": [
    "X_Train_Shaped.shape"
   ]
  },
  {
   "cell_type": "markdown",
   "metadata": {},
   "source": [
    "Use pd.get_dummies with the list of categorical columns"
   ]
  },
  {
   "cell_type": "code",
   "execution_count": 508,
   "metadata": {},
   "outputs": [],
   "source": [
    "X_Train_Shaped = pd.get_dummies(X_Train_Shaped, \n",
    "                                columns=list_of_cols)\n",
    "X_Test_Shaped = pd.get_dummies(X_Test_Shaped, columns=list_of_cols)"
   ]
  },
  {
   "cell_type": "code",
   "execution_count": 509,
   "metadata": {},
   "outputs": [
    {
     "data": {
      "text/plain": [
       "(416648, 149)"
      ]
     },
     "execution_count": 509,
     "metadata": {},
     "output_type": "execute_result"
    }
   ],
   "source": [
    "X_Train_Shaped.shape"
   ]
  },
  {
   "cell_type": "markdown",
   "metadata": {},
   "source": [
    "# More Imports and code"
   ]
  },
  {
   "cell_type": "code",
   "execution_count": 46,
   "metadata": {},
   "outputs": [],
   "source": [
    "from sklearn import tree \n",
    "from sklearn.model_selection import cross_val_score\n",
    "from sklearn.metrics import confusion_matrix\n",
    "from sklearn.ensemble import RandomForestClassifier\n",
    "from sklearn.linear_model import LogisticRegression\n",
    "from sklearn.svm import SVC\n",
    "from plotml import * "
   ]
  },
  {
   "cell_type": "markdown",
   "metadata": {},
   "source": [
    "Code to make a confusion matrix look nicer taken from the plotml library"
   ]
  },
  {
   "cell_type": "code",
   "execution_count": 47,
   "metadata": {},
   "outputs": [],
   "source": [
    "def make_confusion_matrix(Y_Test, Y_Pred, title=\"Confusion Matrix Of Target Accuracy\"):\n",
    "    cm = confusion_matrix(Y_Test, Y_Pred)\n",
    "    plot_confusion_matrix(cm, labels=[0,1], \n",
    "                          title=title, \n",
    "                          cmap=plt.cm.Blues)"
   ]
  },
  {
   "cell_type": "markdown",
   "metadata": {},
   "source": [
    "The main metric used is the Normalised Gini Coefficient (Gini) as used in the kaggle competition evaluation \n",
    "(https://www.kaggle.com/c/porto-seguro-safe-driver-prediction/discussion/41029) \n",
    "and this requires the calculation of the Area under the Receiver Operating Characteristic Curve (AUC)\n",
    "which was was displayed for the training (can be converted to gini trivially: Gini = (2 * AUC - 1).\n",
    "                                          \n",
    "the Gini was displayed for the predictions on the test sets as this was the main metric to compare models by \n",
    "as the best model on the test set would generalise best which is what would be required for unseen data.\n",
    "\n",
    "Auc code adapted from (https://scikit-learn.org/stable/modules/generated/sklearn.metrics.auc.html)"
   ]
  },
  {
   "cell_type": "code",
   "execution_count": 48,
   "metadata": {},
   "outputs": [],
   "source": [
    "from sklearn.metrics import auc\n",
    "from sklearn.metrics import roc_curve\n",
    "\n",
    "def get_gini(Y_Test, Y_Pred):\n",
    "    fpr, tpr, thresholds = roc_curve(Y_Test, Y_Pred)\n",
    "    AUC = auc(fpr, tpr)\n",
    "    gini = 2*AUC - 1\n",
    "    print(gini)"
   ]
  },
  {
   "cell_type": "markdown",
   "metadata": {},
   "source": [
    "# Classification"
   ]
  },
  {
   "cell_type": "markdown",
   "metadata": {},
   "source": [
    "There were 4 approaches for classification\n",
    "\n",
    "1. Classic ML algorithms, Decision Trees/Random Forests/Logistic Regresison with Class weights added to the loss function \n",
    "2. The best of these algorithms run on Under and Over Sampled data\n",
    "3. Using Bagging and Random Forests which have been designed for unbalanced data \n",
    "4. Using Neural Networks\n",
    "\n",
    "In each of the first 3 cases, the models were fitted to the x and y data, and then cross validated on the same training data. \n",
    "\n",
    "To evaluate the model, the confusion matrix was plotted and the Gini metric was displayed for results of predicting on the \"test\" data"
   ]
  },
  {
   "cell_type": "markdown",
   "metadata": {},
   "source": [
    "The class weights were calculated as per \n",
    "(https://scikit-learn.org/stable/modules/generated/sklearn.utils.class_weight.compute_class_weight.html)\n",
    "and they estimate the class weights for the unbalanced data, which is shown as '0' is only weighted at about 0.5 \n",
    "whereas 1 is weighted at 13.7"
   ]
  },
  {
   "cell_type": "code",
   "execution_count": 49,
   "metadata": {},
   "outputs": [
    {
     "name": "stdout",
     "output_type": "stream",
     "text": [
      "[ 0.51891337 13.71816146]\n"
     ]
    }
   ],
   "source": [
    "from sklearn.utils import class_weight\n",
    "class_weights = class_weight.compute_class_weight('balanced',\n",
    "                                                 np.unique(Y_Train),\n",
    "                                                 Y_Train)\n",
    "\n",
    "print(class_weights)"
   ]
  },
  {
   "cell_type": "code",
   "execution_count": 50,
   "metadata": {},
   "outputs": [],
   "source": [
    "class_weights = dict(enumerate(class_weights))"
   ]
  },
  {
   "cell_type": "markdown",
   "metadata": {},
   "source": [
    "## Class Imbalance"
   ]
  },
  {
   "cell_type": "markdown",
   "metadata": {},
   "source": [
    "The class imbalance is shown below, there are many more 0s than there are 1s"
   ]
  },
  {
   "cell_type": "code",
   "execution_count": 529,
   "metadata": {},
   "outputs": [
    {
     "data": {
      "image/png": "[encoded data removed]",
      "text/plain": [
       "<Figure size 576x576 with 1 Axes>"
      ]
     },
     "metadata": {
      "needs_background": "light"
     },
     "output_type": "display_data"
    }
   ],
   "source": [
    "plt.figure(figsize=(8, 8))\n",
    "sns.countplot('target', data=input_data)\n",
    "plt.title('Balanced Classes')\n",
    "plt.show()"
   ]
  },
  {
   "cell_type": "markdown",
   "metadata": {},
   "source": [
    "## Class Weighted Decision Tree "
   ]
  },
  {
   "cell_type": "code",
   "execution_count": 51,
   "metadata": {},
   "outputs": [
    {
     "data": {
      "text/plain": [
       "DecisionTreeClassifier(ccp_alpha=0.0,\n",
       "                       class_weight={0: 0.5189133716267044,\n",
       "                                     1: 13.718161464506782},\n",
       "                       criterion='gini', max_depth=None, max_features=None,\n",
       "                       max_leaf_nodes=None, min_impurity_decrease=0.0,\n",
       "                       min_impurity_split=None, min_samples_leaf=1,\n",
       "                       min_samples_split=2, min_weight_fraction_leaf=0.0,\n",
       "                       presort='deprecated', random_state=None,\n",
       "                       splitter='best')"
      ]
     },
     "execution_count": 51,
     "metadata": {},
     "output_type": "execute_result"
    }
   ],
   "source": [
    "tree_class_weights = tree.DecisionTreeClassifier(class_weight = class_weights)\n",
    "tree_class_weights.fit(X_Train_Shaped, Y_Train)"
   ]
  },
  {
   "cell_type": "markdown",
   "metadata": {},
   "source": [
    "Cross Validate using the ROC_AUC metric for the test data"
   ]
  },
  {
   "cell_type": "code",
   "execution_count": 52,
   "metadata": {
    "scrolled": true
   },
   "outputs": [
    {
     "name": "stdout",
     "output_type": "stream",
     "text": [
      "[0.50777041 0.50457732 0.5036818  0.50576416 0.50321639]\n"
     ]
    }
   ],
   "source": [
    "K = 5\n",
    "scores = cross_val_score(tree_class_weights, \n",
    "                         X_Train_Shaped, \n",
    "                         Y_Train, \n",
    "                         scoring='roc_auc', \n",
    "                         n_jobs=-1, \n",
    "                         cv=K)\n",
    "print(scores)"
   ]
  },
  {
   "cell_type": "code",
   "execution_count": 53,
   "metadata": {
    "scrolled": true
   },
   "outputs": [
    {
     "data": {
      "image/png": "[encoded data removed]",
      "text/plain": [
       "<Figure size 576x504 with 3 Axes>"
      ]
     },
     "metadata": {
      "needs_background": "light"
     },
     "output_type": "display_data"
    }
   ],
   "source": [
    "Y_Pred_tree_class_weights = tree_class_weights.predict(X_Test_Shaped)\n",
    "make_confusion_matrix(Y_Test, Y_Pred_tree_class_weights)"
   ]
  },
  {
   "cell_type": "markdown",
   "metadata": {},
   "source": [
    "The confusion matric reveals the accuracy is very high, but thats because its predicting lots more 0s than 1s,\n",
    "both the false positive and false negative rates are high\n",
    "\n",
    "The gini reveals a correspondingly poor result"
   ]
  },
  {
   "cell_type": "code",
   "execution_count": 54,
   "metadata": {},
   "outputs": [
    {
     "name": "stdout",
     "output_type": "stream",
     "text": [
      "0.009876010123374801\n"
     ]
    }
   ],
   "source": [
    "get_gini(Y_Test, Y_Pred_tree_class_weights)"
   ]
  },
  {
   "cell_type": "markdown",
   "metadata": {},
   "source": [
    "##  Class Weighted Random Forest "
   ]
  },
  {
   "cell_type": "markdown",
   "metadata": {},
   "source": [
    "Running a Random Forest Classifier on the same data"
   ]
  },
  {
   "cell_type": "code",
   "execution_count": 55,
   "metadata": {},
   "outputs": [],
   "source": [
    "forest = RandomForestClassifier(class_weight=class_weights)"
   ]
  },
  {
   "cell_type": "code",
   "execution_count": 56,
   "metadata": {
    "scrolled": true
   },
   "outputs": [
    {
     "data": {
      "text/plain": [
       "RandomForestClassifier(bootstrap=True, ccp_alpha=0.0,\n",
       "                       class_weight={0: 0.5189133716267044,\n",
       "                                     1: 13.718161464506782},\n",
       "                       criterion='gini', max_depth=None, max_features='auto',\n",
       "                       max_leaf_nodes=None, max_samples=None,\n",
       "                       min_impurity_decrease=0.0, min_impurity_split=None,\n",
       "                       min_samples_leaf=1, min_samples_split=2,\n",
       "                       min_weight_fraction_leaf=0.0, n_estimators=100,\n",
       "                       n_jobs=None, oob_score=False, random_state=None,\n",
       "                       verbose=0, warm_start=False)"
      ]
     },
     "execution_count": 56,
     "metadata": {},
     "output_type": "execute_result"
    }
   ],
   "source": [
    "forest.fit(X_Train_Shaped, Y_Train)"
   ]
  },
  {
   "cell_type": "code",
   "execution_count": 57,
   "metadata": {},
   "outputs": [
    {
     "data": {
      "text/plain": [
       "array([0.56073427, 0.56368775, 0.55912909, 0.57230769, 0.56128611])"
      ]
     },
     "execution_count": 57,
     "metadata": {},
     "output_type": "execute_result"
    }
   ],
   "source": [
    "K = 5\n",
    "scores = cross_val_score(forest, \n",
    "                         X_Train_Shaped, \n",
    "                         Y_Train,scoring='roc_auc', \n",
    "                         cv=K)\n",
    "scores"
   ]
  },
  {
   "cell_type": "code",
   "execution_count": 58,
   "metadata": {},
   "outputs": [
    {
     "data": {
      "image/png": "[encoded data removed]",
      "text/plain": [
       "<Figure size 576x504 with 3 Axes>"
      ]
     },
     "metadata": {
      "needs_background": "light"
     },
     "output_type": "display_data"
    }
   ],
   "source": [
    "forest_pred = forest.predict(X_Test_Shaped)\n",
    "make_confusion_matrix(Y_Test, forest_pred)"
   ]
  },
  {
   "cell_type": "markdown",
   "metadata": {},
   "source": [
    "Similar to the decision tree, the accuraacy is even better, but that is due to it almost entirely predicting 0s, and \n",
    "unsurprisingly this is punished in the Gini metric, which becomes negative"
   ]
  },
  {
   "cell_type": "code",
   "execution_count": 59,
   "metadata": {
    "scrolled": true
   },
   "outputs": [
    {
     "name": "stdout",
     "output_type": "stream",
     "text": [
      "-5.812061189325313e-06\n"
     ]
    }
   ],
   "source": [
    "get_gini(Y_Test, forest_pred)"
   ]
  },
  {
   "cell_type": "markdown",
   "metadata": {},
   "source": [
    "## Class Weighted Logistic regression"
   ]
  },
  {
   "cell_type": "markdown",
   "metadata": {},
   "source": [
    "The logistic regression for time reasons was restricted to 500 iterations"
   ]
  },
  {
   "cell_type": "code",
   "execution_count": 60,
   "metadata": {},
   "outputs": [
    {
     "data": {
      "text/plain": [
       "LogisticRegression(C=1.0,\n",
       "                   class_weight={0: 0.5189133716267044, 1: 13.718161464506782},\n",
       "                   dual=False, fit_intercept=True, intercept_scaling=1,\n",
       "                   l1_ratio=None, max_iter=500, multi_class='auto', n_jobs=None,\n",
       "                   penalty='l2', random_state=None, solver='lbfgs', tol=0.0001,\n",
       "                   verbose=0, warm_start=False)"
      ]
     },
     "execution_count": 60,
     "metadata": {},
     "output_type": "execute_result"
    }
   ],
   "source": [
    "regr = LogisticRegression(class_weight=class_weights, max_iter=500)\n",
    "regr.fit(X_Train_Shaped, Y_Train)"
   ]
  },
  {
   "cell_type": "code",
   "execution_count": 61,
   "metadata": {},
   "outputs": [
    {
     "name": "stderr",
     "output_type": "stream",
     "text": [
      "/Users/jalajkhandelwal/Library/Python/3.7/lib/python/site-packages/sklearn/linear_model/_logistic.py:940: ConvergenceWarning: lbfgs failed to converge (status=1):\n",
      "STOP: TOTAL NO. of ITERATIONS REACHED LIMIT.\n",
      "\n",
      "Increase the number of iterations (max_iter) or scale the data as shown in:\n",
      "    https://scikit-learn.org/stable/modules/preprocessing.html\n",
      "Please also refer to the documentation for alternative solver options:\n",
      "    https://scikit-learn.org/stable/modules/linear_model.html#logistic-regression\n",
      "  extra_warning_msg=_LOGISTIC_SOLVER_CONVERGENCE_MSG)\n",
      "/Users/jalajkhandelwal/Library/Python/3.7/lib/python/site-packages/sklearn/linear_model/_logistic.py:940: ConvergenceWarning: lbfgs failed to converge (status=1):\n",
      "STOP: TOTAL NO. of ITERATIONS REACHED LIMIT.\n",
      "\n",
      "Increase the number of iterations (max_iter) or scale the data as shown in:\n",
      "    https://scikit-learn.org/stable/modules/preprocessing.html\n",
      "Please also refer to the documentation for alternative solver options:\n",
      "    https://scikit-learn.org/stable/modules/linear_model.html#logistic-regression\n",
      "  extra_warning_msg=_LOGISTIC_SOLVER_CONVERGENCE_MSG)\n"
     ]
    },
    {
     "data": {
      "text/plain": [
       "array([0.60536835, 0.61189043, 0.6081237 , 0.60374961, 0.59833797])"
      ]
     },
     "execution_count": 61,
     "metadata": {},
     "output_type": "execute_result"
    }
   ],
   "source": [
    "K = 5\n",
    "scores = cross_val_score(regr, \n",
    "                         X_Train_Shaped, \n",
    "                         Y_Train, \n",
    "                         scoring='roc_auc', \n",
    "                         cv=K)\n",
    "scores"
   ]
  },
  {
   "cell_type": "code",
   "execution_count": 62,
   "metadata": {},
   "outputs": [
    {
     "data": {
      "image/png": "[encoded data removed]",
      "text/plain": [
       "<Figure size 576x504 with 3 Axes>"
      ]
     },
     "metadata": {
      "needs_background": "light"
     },
     "output_type": "display_data"
    }
   ],
   "source": [
    "pred_regr = regr.predict(X_Test_Shaped)\n",
    "make_confusion_matrix(Y_Test, pred_regr)"
   ]
  },
  {
   "cell_type": "markdown",
   "metadata": {},
   "source": [
    "Interestingly, the Logistic Regression exhibits a much lower accuracy score, and has a larger number of\n",
    "false positives, but much lower false negatives, and many more true positives. \n",
    "\n",
    "This is mirrored in the gini calculation, and this has a MUCH higher result than either the Decision Tree \n",
    "or the Random Forest"
   ]
  },
  {
   "cell_type": "code",
   "execution_count": 63,
   "metadata": {},
   "outputs": [
    {
     "name": "stdout",
     "output_type": "stream",
     "text": [
      "0.15045920713225858\n"
     ]
    }
   ],
   "source": [
    "get_gini(Y_Test, pred_regr)"
   ]
  },
  {
   "cell_type": "markdown",
   "metadata": {},
   "source": [
    "# Now oversampling/Undersampling the data"
   ]
  },
  {
   "cell_type": "markdown",
   "metadata": {},
   "source": [
    "The second approach was to over and under sample the data and see if the best classifier above would perform better.\n",
    "\n",
    "Under and Over sampling code is taken from (https://towardsdatascience.com/having-an-imbalanced-dataset-here-is-how-you-can-solve-it-1640568947eb)"
   ]
  },
  {
   "cell_type": "markdown",
   "metadata": {},
   "source": [
    "This uses the Synthetic Minority Over-sampling Technique to generate more data for the \"1\" target"
   ]
  },
  {
   "cell_type": "code",
   "execution_count": 64,
   "metadata": {},
   "outputs": [],
   "source": [
    "from imblearn.over_sampling import SMOTE\n",
    "\n",
    "sm = SMOTE(sampling_strategy='minority', random_state=7)\n",
    "over_x, over_y = sm.fit_sample(X_Train_Shaped, Y_Train)\n"
   ]
  },
  {
   "cell_type": "code",
   "execution_count": 67,
   "metadata": {
    "scrolled": true
   },
   "outputs": [],
   "source": [
    "over_y = pd.DataFrame(over_y)\n",
    "over_y.columns = [\"target\"]"
   ]
  },
  {
   "cell_type": "markdown",
   "metadata": {},
   "source": [
    "Plotting the new distribution shows its even now"
   ]
  },
  {
   "cell_type": "code",
   "execution_count": 69,
   "metadata": {},
   "outputs": [
    {
     "data": {
      "image/png": "[encoded data removed]",
      "text/plain": [
       "<Figure size 576x576 with 1 Axes>"
      ]
     },
     "metadata": {
      "needs_background": "light"
     },
     "output_type": "display_data"
    }
   ],
   "source": [
    "plt.figure(figsize=(8, 8))\n",
    "sns.countplot('target', data=over_y)\n",
    "plt.title('Balanced Classes')\n",
    "plt.show()"
   ]
  },
  {
   "cell_type": "markdown",
   "metadata": {},
   "source": [
    "## Undersampling"
   ]
  },
  {
   "cell_type": "markdown",
   "metadata": {},
   "source": [
    "Undersampling just takes as many 0s as there are 1s in the data, from the existing data, i.e. reduces the data size\n",
    "\n",
    "It achieved this by merging the training x and y datasets, and then filtering the target=1 rows, and then \n",
    "sampling that many rows from the dataset where the target = 0"
   ]
  },
  {
   "cell_type": "code",
   "execution_count": 70,
   "metadata": {},
   "outputs": [],
   "source": [
    "merged = pd.concat([X_Train_Shaped.reset_index(drop=True), Y_Train.reset_index(drop=True)], axis=1)"
   ]
  },
  {
   "cell_type": "code",
   "execution_count": 71,
   "metadata": {},
   "outputs": [
    {
     "data": {
      "text/html": [
       "<div>\n",
       "<style scoped>\n",
       "    .dataframe tbody tr th:only-of-type {\n",
       "        vertical-align: middle;\n",
       "    }\n",
       "\n",
       "    .dataframe tbody tr th {\n",
       "        vertical-align: top;\n",
       "    }\n",
       "\n",
       "    .dataframe thead th {\n",
       "        text-align: right;\n",
       "    }\n",
       "</style>\n",
       "<table border=\"1\" class=\"dataframe\">\n",
       "  <thead>\n",
       "    <tr style=\"text-align: right;\">\n",
       "      <th></th>\n",
       "      <th>ps_ind_01</th>\n",
       "      <th>ps_ind_03</th>\n",
       "      <th>ps_ind_15</th>\n",
       "      <th>ps_reg_01</th>\n",
       "      <th>ps_reg_02</th>\n",
       "      <th>ps_car_12</th>\n",
       "      <th>ps_car_13</th>\n",
       "      <th>ps_car_14</th>\n",
       "      <th>ps_car_15</th>\n",
       "      <th>ps_calc_03</th>\n",
       "      <th>...</th>\n",
       "      <th>ps_car_11_cat_96</th>\n",
       "      <th>ps_car_11_cat_97</th>\n",
       "      <th>ps_car_11_cat_98</th>\n",
       "      <th>ps_car_11_cat_99</th>\n",
       "      <th>ps_car_11_cat_100</th>\n",
       "      <th>ps_car_11_cat_101</th>\n",
       "      <th>ps_car_11_cat_102</th>\n",
       "      <th>ps_car_11_cat_103</th>\n",
       "      <th>ps_car_11_cat_104</th>\n",
       "      <th>target</th>\n",
       "    </tr>\n",
       "  </thead>\n",
       "  <tbody>\n",
       "    <tr>\n",
       "      <td>0</td>\n",
       "      <td>1</td>\n",
       "      <td>7</td>\n",
       "      <td>7</td>\n",
       "      <td>0.9</td>\n",
       "      <td>0.3</td>\n",
       "      <td>0.400000</td>\n",
       "      <td>0.970058</td>\n",
       "      <td>0.374672</td>\n",
       "      <td>3.741657</td>\n",
       "      <td>0.2</td>\n",
       "      <td>...</td>\n",
       "      <td>0</td>\n",
       "      <td>0</td>\n",
       "      <td>0</td>\n",
       "      <td>0</td>\n",
       "      <td>0</td>\n",
       "      <td>0</td>\n",
       "      <td>0</td>\n",
       "      <td>0</td>\n",
       "      <td>1</td>\n",
       "      <td>0</td>\n",
       "    </tr>\n",
       "    <tr>\n",
       "      <td>1</td>\n",
       "      <td>5</td>\n",
       "      <td>3</td>\n",
       "      <td>7</td>\n",
       "      <td>0.7</td>\n",
       "      <td>0.2</td>\n",
       "      <td>0.447214</td>\n",
       "      <td>0.805033</td>\n",
       "      <td>0.424617</td>\n",
       "      <td>3.000000</td>\n",
       "      <td>0.9</td>\n",
       "      <td>...</td>\n",
       "      <td>0</td>\n",
       "      <td>0</td>\n",
       "      <td>0</td>\n",
       "      <td>0</td>\n",
       "      <td>0</td>\n",
       "      <td>0</td>\n",
       "      <td>0</td>\n",
       "      <td>0</td>\n",
       "      <td>1</td>\n",
       "      <td>0</td>\n",
       "    </tr>\n",
       "    <tr>\n",
       "      <td>2</td>\n",
       "      <td>3</td>\n",
       "      <td>7</td>\n",
       "      <td>11</td>\n",
       "      <td>0.2</td>\n",
       "      <td>0.3</td>\n",
       "      <td>0.374166</td>\n",
       "      <td>0.784443</td>\n",
       "      <td>0.390768</td>\n",
       "      <td>3.316625</td>\n",
       "      <td>0.3</td>\n",
       "      <td>...</td>\n",
       "      <td>0</td>\n",
       "      <td>0</td>\n",
       "      <td>0</td>\n",
       "      <td>0</td>\n",
       "      <td>0</td>\n",
       "      <td>0</td>\n",
       "      <td>0</td>\n",
       "      <td>0</td>\n",
       "      <td>0</td>\n",
       "      <td>0</td>\n",
       "    </tr>\n",
       "    <tr>\n",
       "      <td>3</td>\n",
       "      <td>2</td>\n",
       "      <td>5</td>\n",
       "      <td>11</td>\n",
       "      <td>0.6</td>\n",
       "      <td>0.2</td>\n",
       "      <td>0.316228</td>\n",
       "      <td>0.757518</td>\n",
       "      <td>0.375500</td>\n",
       "      <td>3.316625</td>\n",
       "      <td>0.0</td>\n",
       "      <td>...</td>\n",
       "      <td>0</td>\n",
       "      <td>0</td>\n",
       "      <td>0</td>\n",
       "      <td>0</td>\n",
       "      <td>0</td>\n",
       "      <td>0</td>\n",
       "      <td>0</td>\n",
       "      <td>0</td>\n",
       "      <td>0</td>\n",
       "      <td>0</td>\n",
       "    </tr>\n",
       "    <tr>\n",
       "      <td>4</td>\n",
       "      <td>5</td>\n",
       "      <td>5</td>\n",
       "      <td>6</td>\n",
       "      <td>0.9</td>\n",
       "      <td>0.3</td>\n",
       "      <td>0.435890</td>\n",
       "      <td>0.830289</td>\n",
       "      <td>0.414126</td>\n",
       "      <td>3.162278</td>\n",
       "      <td>0.5</td>\n",
       "      <td>...</td>\n",
       "      <td>0</td>\n",
       "      <td>0</td>\n",
       "      <td>0</td>\n",
       "      <td>0</td>\n",
       "      <td>0</td>\n",
       "      <td>0</td>\n",
       "      <td>0</td>\n",
       "      <td>0</td>\n",
       "      <td>1</td>\n",
       "      <td>1</td>\n",
       "    </tr>\n",
       "    <tr>\n",
       "      <td>...</td>\n",
       "      <td>...</td>\n",
       "      <td>...</td>\n",
       "      <td>...</td>\n",
       "      <td>...</td>\n",
       "      <td>...</td>\n",
       "      <td>...</td>\n",
       "      <td>...</td>\n",
       "      <td>...</td>\n",
       "      <td>...</td>\n",
       "      <td>...</td>\n",
       "      <td>...</td>\n",
       "      <td>...</td>\n",
       "      <td>...</td>\n",
       "      <td>...</td>\n",
       "      <td>...</td>\n",
       "      <td>...</td>\n",
       "      <td>...</td>\n",
       "      <td>...</td>\n",
       "      <td>...</td>\n",
       "      <td>...</td>\n",
       "      <td>...</td>\n",
       "    </tr>\n",
       "    <tr>\n",
       "      <td>416643</td>\n",
       "      <td>1</td>\n",
       "      <td>3</td>\n",
       "      <td>8</td>\n",
       "      <td>0.5</td>\n",
       "      <td>0.2</td>\n",
       "      <td>0.316228</td>\n",
       "      <td>0.720637</td>\n",
       "      <td>0.294449</td>\n",
       "      <td>3.464102</td>\n",
       "      <td>0.5</td>\n",
       "      <td>...</td>\n",
       "      <td>0</td>\n",
       "      <td>0</td>\n",
       "      <td>0</td>\n",
       "      <td>0</td>\n",
       "      <td>0</td>\n",
       "      <td>0</td>\n",
       "      <td>0</td>\n",
       "      <td>0</td>\n",
       "      <td>0</td>\n",
       "      <td>0</td>\n",
       "    </tr>\n",
       "    <tr>\n",
       "      <td>416644</td>\n",
       "      <td>2</td>\n",
       "      <td>7</td>\n",
       "      <td>5</td>\n",
       "      <td>0.3</td>\n",
       "      <td>0.1</td>\n",
       "      <td>0.547723</td>\n",
       "      <td>1.382229</td>\n",
       "      <td>0.532917</td>\n",
       "      <td>3.000000</td>\n",
       "      <td>0.7</td>\n",
       "      <td>...</td>\n",
       "      <td>0</td>\n",
       "      <td>0</td>\n",
       "      <td>0</td>\n",
       "      <td>0</td>\n",
       "      <td>0</td>\n",
       "      <td>0</td>\n",
       "      <td>0</td>\n",
       "      <td>0</td>\n",
       "      <td>0</td>\n",
       "      <td>0</td>\n",
       "    </tr>\n",
       "    <tr>\n",
       "      <td>416645</td>\n",
       "      <td>1</td>\n",
       "      <td>2</td>\n",
       "      <td>8</td>\n",
       "      <td>0.4</td>\n",
       "      <td>0.0</td>\n",
       "      <td>0.374166</td>\n",
       "      <td>0.777193</td>\n",
       "      <td>0.371618</td>\n",
       "      <td>3.464102</td>\n",
       "      <td>0.5</td>\n",
       "      <td>...</td>\n",
       "      <td>0</td>\n",
       "      <td>0</td>\n",
       "      <td>0</td>\n",
       "      <td>0</td>\n",
       "      <td>0</td>\n",
       "      <td>0</td>\n",
       "      <td>0</td>\n",
       "      <td>0</td>\n",
       "      <td>0</td>\n",
       "      <td>0</td>\n",
       "    </tr>\n",
       "    <tr>\n",
       "      <td>416646</td>\n",
       "      <td>3</td>\n",
       "      <td>3</td>\n",
       "      <td>7</td>\n",
       "      <td>0.3</td>\n",
       "      <td>0.0</td>\n",
       "      <td>0.374166</td>\n",
       "      <td>0.740533</td>\n",
       "      <td>0.416653</td>\n",
       "      <td>3.162278</td>\n",
       "      <td>0.1</td>\n",
       "      <td>...</td>\n",
       "      <td>0</td>\n",
       "      <td>0</td>\n",
       "      <td>0</td>\n",
       "      <td>0</td>\n",
       "      <td>0</td>\n",
       "      <td>0</td>\n",
       "      <td>0</td>\n",
       "      <td>0</td>\n",
       "      <td>0</td>\n",
       "      <td>0</td>\n",
       "    </tr>\n",
       "    <tr>\n",
       "      <td>416647</td>\n",
       "      <td>2</td>\n",
       "      <td>7</td>\n",
       "      <td>6</td>\n",
       "      <td>0.3</td>\n",
       "      <td>0.0</td>\n",
       "      <td>0.447214</td>\n",
       "      <td>1.046926</td>\n",
       "      <td>0.429535</td>\n",
       "      <td>3.162278</td>\n",
       "      <td>0.8</td>\n",
       "      <td>...</td>\n",
       "      <td>0</td>\n",
       "      <td>0</td>\n",
       "      <td>0</td>\n",
       "      <td>0</td>\n",
       "      <td>0</td>\n",
       "      <td>0</td>\n",
       "      <td>0</td>\n",
       "      <td>0</td>\n",
       "      <td>0</td>\n",
       "      <td>1</td>\n",
       "    </tr>\n",
       "  </tbody>\n",
       "</table>\n",
       "<p>416648 rows × 150 columns</p>\n",
       "</div>"
      ],
      "text/plain": [
       "        ps_ind_01  ps_ind_03  ps_ind_15  ps_reg_01  ps_reg_02  ps_car_12  \\\n",
       "0               1          7          7        0.9        0.3   0.400000   \n",
       "1               5          3          7        0.7        0.2   0.447214   \n",
       "2               3          7         11        0.2        0.3   0.374166   \n",
       "3               2          5         11        0.6        0.2   0.316228   \n",
       "4               5          5          6        0.9        0.3   0.435890   \n",
       "...           ...        ...        ...        ...        ...        ...   \n",
       "416643          1          3          8        0.5        0.2   0.316228   \n",
       "416644          2          7          5        0.3        0.1   0.547723   \n",
       "416645          1          2          8        0.4        0.0   0.374166   \n",
       "416646          3          3          7        0.3        0.0   0.374166   \n",
       "416647          2          7          6        0.3        0.0   0.447214   \n",
       "\n",
       "        ps_car_13  ps_car_14  ps_car_15  ps_calc_03  ...  ps_car_11_cat_96  \\\n",
       "0        0.970058   0.374672   3.741657         0.2  ...                 0   \n",
       "1        0.805033   0.424617   3.000000         0.9  ...                 0   \n",
       "2        0.784443   0.390768   3.316625         0.3  ...                 0   \n",
       "3        0.757518   0.375500   3.316625         0.0  ...                 0   \n",
       "4        0.830289   0.414126   3.162278         0.5  ...                 0   \n",
       "...           ...        ...        ...         ...  ...               ...   \n",
       "416643   0.720637   0.294449   3.464102         0.5  ...                 0   \n",
       "416644   1.382229   0.532917   3.000000         0.7  ...                 0   \n",
       "416645   0.777193   0.371618   3.464102         0.5  ...                 0   \n",
       "416646   0.740533   0.416653   3.162278         0.1  ...                 0   \n",
       "416647   1.046926   0.429535   3.162278         0.8  ...                 0   \n",
       "\n",
       "        ps_car_11_cat_97  ps_car_11_cat_98  ps_car_11_cat_99  \\\n",
       "0                      0                 0                 0   \n",
       "1                      0                 0                 0   \n",
       "2                      0                 0                 0   \n",
       "3                      0                 0                 0   \n",
       "4                      0                 0                 0   \n",
       "...                  ...               ...               ...   \n",
       "416643                 0                 0                 0   \n",
       "416644                 0                 0                 0   \n",
       "416645                 0                 0                 0   \n",
       "416646                 0                 0                 0   \n",
       "416647                 0                 0                 0   \n",
       "\n",
       "        ps_car_11_cat_100  ps_car_11_cat_101  ps_car_11_cat_102  \\\n",
       "0                       0                  0                  0   \n",
       "1                       0                  0                  0   \n",
       "2                       0                  0                  0   \n",
       "3                       0                  0                  0   \n",
       "4                       0                  0                  0   \n",
       "...                   ...                ...                ...   \n",
       "416643                  0                  0                  0   \n",
       "416644                  0                  0                  0   \n",
       "416645                  0                  0                  0   \n",
       "416646                  0                  0                  0   \n",
       "416647                  0                  0                  0   \n",
       "\n",
       "        ps_car_11_cat_103  ps_car_11_cat_104  target  \n",
       "0                       0                  1       0  \n",
       "1                       0                  1       0  \n",
       "2                       0                  0       0  \n",
       "3                       0                  0       0  \n",
       "4                       0                  1       1  \n",
       "...                   ...                ...     ...  \n",
       "416643                  0                  0       0  \n",
       "416644                  0                  0       0  \n",
       "416645                  0                  0       0  \n",
       "416646                  0                  0       0  \n",
       "416647                  0                  0       1  \n",
       "\n",
       "[416648 rows x 150 columns]"
      ]
     },
     "execution_count": 71,
     "metadata": {},
     "output_type": "execute_result"
    }
   ],
   "source": [
    "merged"
   ]
  },
  {
   "cell_type": "code",
   "execution_count": 72,
   "metadata": {},
   "outputs": [],
   "source": [
    "x_1 = merged[merged[\"target\"] == 1]\n",
    "x_0 = merged[merged[\"target\"] == 0]"
   ]
  },
  {
   "cell_type": "code",
   "execution_count": 73,
   "metadata": {},
   "outputs": [],
   "source": [
    "x_0_subsampled = x_0.sample(n=len(x_1),random_state=42)"
   ]
  },
  {
   "cell_type": "code",
   "execution_count": 74,
   "metadata": {},
   "outputs": [
    {
     "data": {
      "text/html": [
       "<div>\n",
       "<style scoped>\n",
       "    .dataframe tbody tr th:only-of-type {\n",
       "        vertical-align: middle;\n",
       "    }\n",
       "\n",
       "    .dataframe tbody tr th {\n",
       "        vertical-align: top;\n",
       "    }\n",
       "\n",
       "    .dataframe thead th {\n",
       "        text-align: right;\n",
       "    }\n",
       "</style>\n",
       "<table border=\"1\" class=\"dataframe\">\n",
       "  <thead>\n",
       "    <tr style=\"text-align: right;\">\n",
       "      <th></th>\n",
       "      <th>ps_ind_01</th>\n",
       "      <th>ps_ind_03</th>\n",
       "      <th>ps_ind_15</th>\n",
       "      <th>ps_reg_01</th>\n",
       "      <th>ps_reg_02</th>\n",
       "      <th>ps_car_12</th>\n",
       "      <th>ps_car_13</th>\n",
       "      <th>ps_car_14</th>\n",
       "      <th>ps_car_15</th>\n",
       "      <th>ps_calc_03</th>\n",
       "      <th>...</th>\n",
       "      <th>ps_car_11_cat_96</th>\n",
       "      <th>ps_car_11_cat_97</th>\n",
       "      <th>ps_car_11_cat_98</th>\n",
       "      <th>ps_car_11_cat_99</th>\n",
       "      <th>ps_car_11_cat_100</th>\n",
       "      <th>ps_car_11_cat_101</th>\n",
       "      <th>ps_car_11_cat_102</th>\n",
       "      <th>ps_car_11_cat_103</th>\n",
       "      <th>ps_car_11_cat_104</th>\n",
       "      <th>target</th>\n",
       "    </tr>\n",
       "  </thead>\n",
       "  <tbody>\n",
       "    <tr>\n",
       "      <td>210390</td>\n",
       "      <td>6</td>\n",
       "      <td>9</td>\n",
       "      <td>11</td>\n",
       "      <td>0.7</td>\n",
       "      <td>0.8</td>\n",
       "      <td>0.400000</td>\n",
       "      <td>0.867074</td>\n",
       "      <td>0.369865</td>\n",
       "      <td>3.464102</td>\n",
       "      <td>0.0</td>\n",
       "      <td>...</td>\n",
       "      <td>0</td>\n",
       "      <td>0</td>\n",
       "      <td>0</td>\n",
       "      <td>0</td>\n",
       "      <td>0</td>\n",
       "      <td>0</td>\n",
       "      <td>0</td>\n",
       "      <td>0</td>\n",
       "      <td>0</td>\n",
       "      <td>0</td>\n",
       "    </tr>\n",
       "    <tr>\n",
       "      <td>133776</td>\n",
       "      <td>2</td>\n",
       "      <td>8</td>\n",
       "      <td>9</td>\n",
       "      <td>0.9</td>\n",
       "      <td>0.6</td>\n",
       "      <td>0.374166</td>\n",
       "      <td>0.726121</td>\n",
       "      <td>0.393700</td>\n",
       "      <td>2.828427</td>\n",
       "      <td>0.9</td>\n",
       "      <td>...</td>\n",
       "      <td>0</td>\n",
       "      <td>0</td>\n",
       "      <td>0</td>\n",
       "      <td>0</td>\n",
       "      <td>0</td>\n",
       "      <td>0</td>\n",
       "      <td>0</td>\n",
       "      <td>0</td>\n",
       "      <td>0</td>\n",
       "      <td>0</td>\n",
       "    </tr>\n",
       "    <tr>\n",
       "      <td>403903</td>\n",
       "      <td>0</td>\n",
       "      <td>8</td>\n",
       "      <td>5</td>\n",
       "      <td>0.9</td>\n",
       "      <td>0.2</td>\n",
       "      <td>0.424264</td>\n",
       "      <td>0.740226</td>\n",
       "      <td>0.429535</td>\n",
       "      <td>2.828427</td>\n",
       "      <td>0.4</td>\n",
       "      <td>...</td>\n",
       "      <td>0</td>\n",
       "      <td>0</td>\n",
       "      <td>0</td>\n",
       "      <td>0</td>\n",
       "      <td>0</td>\n",
       "      <td>0</td>\n",
       "      <td>0</td>\n",
       "      <td>0</td>\n",
       "      <td>0</td>\n",
       "      <td>0</td>\n",
       "    </tr>\n",
       "    <tr>\n",
       "      <td>293033</td>\n",
       "      <td>2</td>\n",
       "      <td>2</td>\n",
       "      <td>7</td>\n",
       "      <td>0.7</td>\n",
       "      <td>0.9</td>\n",
       "      <td>0.374166</td>\n",
       "      <td>0.705615</td>\n",
       "      <td>0.388716</td>\n",
       "      <td>3.316625</td>\n",
       "      <td>0.7</td>\n",
       "      <td>...</td>\n",
       "      <td>0</td>\n",
       "      <td>0</td>\n",
       "      <td>0</td>\n",
       "      <td>0</td>\n",
       "      <td>0</td>\n",
       "      <td>0</td>\n",
       "      <td>0</td>\n",
       "      <td>0</td>\n",
       "      <td>0</td>\n",
       "      <td>0</td>\n",
       "    </tr>\n",
       "    <tr>\n",
       "      <td>181842</td>\n",
       "      <td>2</td>\n",
       "      <td>4</td>\n",
       "      <td>0</td>\n",
       "      <td>0.8</td>\n",
       "      <td>0.3</td>\n",
       "      <td>0.400000</td>\n",
       "      <td>0.761157</td>\n",
       "      <td>0.379473</td>\n",
       "      <td>3.000000</td>\n",
       "      <td>0.5</td>\n",
       "      <td>...</td>\n",
       "      <td>0</td>\n",
       "      <td>0</td>\n",
       "      <td>0</td>\n",
       "      <td>0</td>\n",
       "      <td>0</td>\n",
       "      <td>0</td>\n",
       "      <td>0</td>\n",
       "      <td>0</td>\n",
       "      <td>0</td>\n",
       "      <td>0</td>\n",
       "    </tr>\n",
       "    <tr>\n",
       "      <td>...</td>\n",
       "      <td>...</td>\n",
       "      <td>...</td>\n",
       "      <td>...</td>\n",
       "      <td>...</td>\n",
       "      <td>...</td>\n",
       "      <td>...</td>\n",
       "      <td>...</td>\n",
       "      <td>...</td>\n",
       "      <td>...</td>\n",
       "      <td>...</td>\n",
       "      <td>...</td>\n",
       "      <td>...</td>\n",
       "      <td>...</td>\n",
       "      <td>...</td>\n",
       "      <td>...</td>\n",
       "      <td>...</td>\n",
       "      <td>...</td>\n",
       "      <td>...</td>\n",
       "      <td>...</td>\n",
       "      <td>...</td>\n",
       "      <td>...</td>\n",
       "    </tr>\n",
       "    <tr>\n",
       "      <td>406787</td>\n",
       "      <td>0</td>\n",
       "      <td>1</td>\n",
       "      <td>8</td>\n",
       "      <td>0.4</td>\n",
       "      <td>0.2</td>\n",
       "      <td>0.445870</td>\n",
       "      <td>0.852258</td>\n",
       "      <td>0.348855</td>\n",
       "      <td>3.000000</td>\n",
       "      <td>0.5</td>\n",
       "      <td>...</td>\n",
       "      <td>0</td>\n",
       "      <td>0</td>\n",
       "      <td>0</td>\n",
       "      <td>0</td>\n",
       "      <td>0</td>\n",
       "      <td>0</td>\n",
       "      <td>0</td>\n",
       "      <td>0</td>\n",
       "      <td>0</td>\n",
       "      <td>0</td>\n",
       "    </tr>\n",
       "    <tr>\n",
       "      <td>39033</td>\n",
       "      <td>2</td>\n",
       "      <td>4</td>\n",
       "      <td>5</td>\n",
       "      <td>0.9</td>\n",
       "      <td>1.0</td>\n",
       "      <td>0.374166</td>\n",
       "      <td>0.769337</td>\n",
       "      <td>0.384968</td>\n",
       "      <td>3.316625</td>\n",
       "      <td>0.3</td>\n",
       "      <td>...</td>\n",
       "      <td>0</td>\n",
       "      <td>0</td>\n",
       "      <td>0</td>\n",
       "      <td>0</td>\n",
       "      <td>0</td>\n",
       "      <td>1</td>\n",
       "      <td>0</td>\n",
       "      <td>0</td>\n",
       "      <td>0</td>\n",
       "      <td>0</td>\n",
       "    </tr>\n",
       "    <tr>\n",
       "      <td>3840</td>\n",
       "      <td>0</td>\n",
       "      <td>4</td>\n",
       "      <td>7</td>\n",
       "      <td>0.2</td>\n",
       "      <td>0.1</td>\n",
       "      <td>0.446990</td>\n",
       "      <td>0.767496</td>\n",
       "      <td>0.344964</td>\n",
       "      <td>2.449490</td>\n",
       "      <td>0.2</td>\n",
       "      <td>...</td>\n",
       "      <td>0</td>\n",
       "      <td>0</td>\n",
       "      <td>0</td>\n",
       "      <td>0</td>\n",
       "      <td>0</td>\n",
       "      <td>0</td>\n",
       "      <td>0</td>\n",
       "      <td>0</td>\n",
       "      <td>1</td>\n",
       "      <td>0</td>\n",
       "    </tr>\n",
       "    <tr>\n",
       "      <td>302578</td>\n",
       "      <td>5</td>\n",
       "      <td>3</td>\n",
       "      <td>11</td>\n",
       "      <td>0.9</td>\n",
       "      <td>1.2</td>\n",
       "      <td>0.424264</td>\n",
       "      <td>0.823493</td>\n",
       "      <td>0.393446</td>\n",
       "      <td>3.162278</td>\n",
       "      <td>0.5</td>\n",
       "      <td>...</td>\n",
       "      <td>0</td>\n",
       "      <td>0</td>\n",
       "      <td>0</td>\n",
       "      <td>0</td>\n",
       "      <td>0</td>\n",
       "      <td>0</td>\n",
       "      <td>0</td>\n",
       "      <td>0</td>\n",
       "      <td>1</td>\n",
       "      <td>0</td>\n",
       "    </tr>\n",
       "    <tr>\n",
       "      <td>318323</td>\n",
       "      <td>0</td>\n",
       "      <td>4</td>\n",
       "      <td>5</td>\n",
       "      <td>0.6</td>\n",
       "      <td>0.4</td>\n",
       "      <td>0.400000</td>\n",
       "      <td>0.813179</td>\n",
       "      <td>0.370810</td>\n",
       "      <td>3.162278</td>\n",
       "      <td>0.7</td>\n",
       "      <td>...</td>\n",
       "      <td>0</td>\n",
       "      <td>0</td>\n",
       "      <td>0</td>\n",
       "      <td>0</td>\n",
       "      <td>0</td>\n",
       "      <td>0</td>\n",
       "      <td>0</td>\n",
       "      <td>0</td>\n",
       "      <td>0</td>\n",
       "      <td>0</td>\n",
       "    </tr>\n",
       "  </tbody>\n",
       "</table>\n",
       "<p>15186 rows × 150 columns</p>\n",
       "</div>"
      ],
      "text/plain": [
       "        ps_ind_01  ps_ind_03  ps_ind_15  ps_reg_01  ps_reg_02  ps_car_12  \\\n",
       "210390          6          9         11        0.7        0.8   0.400000   \n",
       "133776          2          8          9        0.9        0.6   0.374166   \n",
       "403903          0          8          5        0.9        0.2   0.424264   \n",
       "293033          2          2          7        0.7        0.9   0.374166   \n",
       "181842          2          4          0        0.8        0.3   0.400000   \n",
       "...           ...        ...        ...        ...        ...        ...   \n",
       "406787          0          1          8        0.4        0.2   0.445870   \n",
       "39033           2          4          5        0.9        1.0   0.374166   \n",
       "3840            0          4          7        0.2        0.1   0.446990   \n",
       "302578          5          3         11        0.9        1.2   0.424264   \n",
       "318323          0          4          5        0.6        0.4   0.400000   \n",
       "\n",
       "        ps_car_13  ps_car_14  ps_car_15  ps_calc_03  ...  ps_car_11_cat_96  \\\n",
       "210390   0.867074   0.369865   3.464102         0.0  ...                 0   \n",
       "133776   0.726121   0.393700   2.828427         0.9  ...                 0   \n",
       "403903   0.740226   0.429535   2.828427         0.4  ...                 0   \n",
       "293033   0.705615   0.388716   3.316625         0.7  ...                 0   \n",
       "181842   0.761157   0.379473   3.000000         0.5  ...                 0   \n",
       "...           ...        ...        ...         ...  ...               ...   \n",
       "406787   0.852258   0.348855   3.000000         0.5  ...                 0   \n",
       "39033    0.769337   0.384968   3.316625         0.3  ...                 0   \n",
       "3840     0.767496   0.344964   2.449490         0.2  ...                 0   \n",
       "302578   0.823493   0.393446   3.162278         0.5  ...                 0   \n",
       "318323   0.813179   0.370810   3.162278         0.7  ...                 0   \n",
       "\n",
       "        ps_car_11_cat_97  ps_car_11_cat_98  ps_car_11_cat_99  \\\n",
       "210390                 0                 0                 0   \n",
       "133776                 0                 0                 0   \n",
       "403903                 0                 0                 0   \n",
       "293033                 0                 0                 0   \n",
       "181842                 0                 0                 0   \n",
       "...                  ...               ...               ...   \n",
       "406787                 0                 0                 0   \n",
       "39033                  0                 0                 0   \n",
       "3840                   0                 0                 0   \n",
       "302578                 0                 0                 0   \n",
       "318323                 0                 0                 0   \n",
       "\n",
       "        ps_car_11_cat_100  ps_car_11_cat_101  ps_car_11_cat_102  \\\n",
       "210390                  0                  0                  0   \n",
       "133776                  0                  0                  0   \n",
       "403903                  0                  0                  0   \n",
       "293033                  0                  0                  0   \n",
       "181842                  0                  0                  0   \n",
       "...                   ...                ...                ...   \n",
       "406787                  0                  0                  0   \n",
       "39033                   0                  1                  0   \n",
       "3840                    0                  0                  0   \n",
       "302578                  0                  0                  0   \n",
       "318323                  0                  0                  0   \n",
       "\n",
       "        ps_car_11_cat_103  ps_car_11_cat_104  target  \n",
       "210390                  0                  0       0  \n",
       "133776                  0                  0       0  \n",
       "403903                  0                  0       0  \n",
       "293033                  0                  0       0  \n",
       "181842                  0                  0       0  \n",
       "...                   ...                ...     ...  \n",
       "406787                  0                  0       0  \n",
       "39033                   0                  0       0  \n",
       "3840                    0                  1       0  \n",
       "302578                  0                  1       0  \n",
       "318323                  0                  0       0  \n",
       "\n",
       "[15186 rows x 150 columns]"
      ]
     },
     "execution_count": 74,
     "metadata": {},
     "output_type": "execute_result"
    }
   ],
   "source": [
    "x_0_subsampled"
   ]
  },
  {
   "cell_type": "code",
   "execution_count": 75,
   "metadata": {},
   "outputs": [],
   "source": [
    "under_x = x_1.append(x_0_subsampled)"
   ]
  },
  {
   "cell_type": "code",
   "execution_count": 76,
   "metadata": {},
   "outputs": [
    {
     "data": {
      "text/html": [
       "<div>\n",
       "<style scoped>\n",
       "    .dataframe tbody tr th:only-of-type {\n",
       "        vertical-align: middle;\n",
       "    }\n",
       "\n",
       "    .dataframe tbody tr th {\n",
       "        vertical-align: top;\n",
       "    }\n",
       "\n",
       "    .dataframe thead th {\n",
       "        text-align: right;\n",
       "    }\n",
       "</style>\n",
       "<table border=\"1\" class=\"dataframe\">\n",
       "  <thead>\n",
       "    <tr style=\"text-align: right;\">\n",
       "      <th></th>\n",
       "      <th>ps_ind_01</th>\n",
       "      <th>ps_ind_03</th>\n",
       "      <th>ps_ind_15</th>\n",
       "      <th>ps_reg_01</th>\n",
       "      <th>ps_reg_02</th>\n",
       "      <th>ps_car_12</th>\n",
       "      <th>ps_car_13</th>\n",
       "      <th>ps_car_14</th>\n",
       "      <th>ps_car_15</th>\n",
       "      <th>ps_calc_03</th>\n",
       "      <th>...</th>\n",
       "      <th>ps_car_11_cat_96</th>\n",
       "      <th>ps_car_11_cat_97</th>\n",
       "      <th>ps_car_11_cat_98</th>\n",
       "      <th>ps_car_11_cat_99</th>\n",
       "      <th>ps_car_11_cat_100</th>\n",
       "      <th>ps_car_11_cat_101</th>\n",
       "      <th>ps_car_11_cat_102</th>\n",
       "      <th>ps_car_11_cat_103</th>\n",
       "      <th>ps_car_11_cat_104</th>\n",
       "      <th>target</th>\n",
       "    </tr>\n",
       "  </thead>\n",
       "  <tbody>\n",
       "    <tr>\n",
       "      <td>4</td>\n",
       "      <td>5</td>\n",
       "      <td>5</td>\n",
       "      <td>6</td>\n",
       "      <td>0.9</td>\n",
       "      <td>0.3</td>\n",
       "      <td>0.435890</td>\n",
       "      <td>0.830289</td>\n",
       "      <td>0.414126</td>\n",
       "      <td>3.162278</td>\n",
       "      <td>0.5</td>\n",
       "      <td>...</td>\n",
       "      <td>0</td>\n",
       "      <td>0</td>\n",
       "      <td>0</td>\n",
       "      <td>0</td>\n",
       "      <td>0</td>\n",
       "      <td>0</td>\n",
       "      <td>0</td>\n",
       "      <td>0</td>\n",
       "      <td>1</td>\n",
       "      <td>1</td>\n",
       "    </tr>\n",
       "    <tr>\n",
       "      <td>8</td>\n",
       "      <td>5</td>\n",
       "      <td>5</td>\n",
       "      <td>1</td>\n",
       "      <td>0.1</td>\n",
       "      <td>0.2</td>\n",
       "      <td>0.547723</td>\n",
       "      <td>1.769489</td>\n",
       "      <td>0.532917</td>\n",
       "      <td>3.605551</td>\n",
       "      <td>0.5</td>\n",
       "      <td>...</td>\n",
       "      <td>0</td>\n",
       "      <td>0</td>\n",
       "      <td>0</td>\n",
       "      <td>0</td>\n",
       "      <td>0</td>\n",
       "      <td>0</td>\n",
       "      <td>0</td>\n",
       "      <td>0</td>\n",
       "      <td>0</td>\n",
       "      <td>1</td>\n",
       "    </tr>\n",
       "    <tr>\n",
       "      <td>56</td>\n",
       "      <td>2</td>\n",
       "      <td>5</td>\n",
       "      <td>0</td>\n",
       "      <td>0.3</td>\n",
       "      <td>0.4</td>\n",
       "      <td>0.424264</td>\n",
       "      <td>0.947089</td>\n",
       "      <td>0.418569</td>\n",
       "      <td>2.828427</td>\n",
       "      <td>0.8</td>\n",
       "      <td>...</td>\n",
       "      <td>0</td>\n",
       "      <td>0</td>\n",
       "      <td>0</td>\n",
       "      <td>0</td>\n",
       "      <td>0</td>\n",
       "      <td>0</td>\n",
       "      <td>0</td>\n",
       "      <td>0</td>\n",
       "      <td>0</td>\n",
       "      <td>1</td>\n",
       "    </tr>\n",
       "    <tr>\n",
       "      <td>134</td>\n",
       "      <td>1</td>\n",
       "      <td>3</td>\n",
       "      <td>4</td>\n",
       "      <td>0.4</td>\n",
       "      <td>1.0</td>\n",
       "      <td>0.447214</td>\n",
       "      <td>0.986479</td>\n",
       "      <td>0.427200</td>\n",
       "      <td>3.464102</td>\n",
       "      <td>0.5</td>\n",
       "      <td>...</td>\n",
       "      <td>0</td>\n",
       "      <td>0</td>\n",
       "      <td>0</td>\n",
       "      <td>0</td>\n",
       "      <td>0</td>\n",
       "      <td>0</td>\n",
       "      <td>0</td>\n",
       "      <td>0</td>\n",
       "      <td>0</td>\n",
       "      <td>1</td>\n",
       "    </tr>\n",
       "    <tr>\n",
       "      <td>212</td>\n",
       "      <td>7</td>\n",
       "      <td>5</td>\n",
       "      <td>13</td>\n",
       "      <td>0.9</td>\n",
       "      <td>0.8</td>\n",
       "      <td>0.400000</td>\n",
       "      <td>0.606337</td>\n",
       "      <td>0.322490</td>\n",
       "      <td>2.645751</td>\n",
       "      <td>0.8</td>\n",
       "      <td>...</td>\n",
       "      <td>0</td>\n",
       "      <td>0</td>\n",
       "      <td>0</td>\n",
       "      <td>0</td>\n",
       "      <td>0</td>\n",
       "      <td>0</td>\n",
       "      <td>0</td>\n",
       "      <td>0</td>\n",
       "      <td>1</td>\n",
       "      <td>1</td>\n",
       "    </tr>\n",
       "    <tr>\n",
       "      <td>...</td>\n",
       "      <td>...</td>\n",
       "      <td>...</td>\n",
       "      <td>...</td>\n",
       "      <td>...</td>\n",
       "      <td>...</td>\n",
       "      <td>...</td>\n",
       "      <td>...</td>\n",
       "      <td>...</td>\n",
       "      <td>...</td>\n",
       "      <td>...</td>\n",
       "      <td>...</td>\n",
       "      <td>...</td>\n",
       "      <td>...</td>\n",
       "      <td>...</td>\n",
       "      <td>...</td>\n",
       "      <td>...</td>\n",
       "      <td>...</td>\n",
       "      <td>...</td>\n",
       "      <td>...</td>\n",
       "      <td>...</td>\n",
       "      <td>...</td>\n",
       "    </tr>\n",
       "    <tr>\n",
       "      <td>406787</td>\n",
       "      <td>0</td>\n",
       "      <td>1</td>\n",
       "      <td>8</td>\n",
       "      <td>0.4</td>\n",
       "      <td>0.2</td>\n",
       "      <td>0.445870</td>\n",
       "      <td>0.852258</td>\n",
       "      <td>0.348855</td>\n",
       "      <td>3.000000</td>\n",
       "      <td>0.5</td>\n",
       "      <td>...</td>\n",
       "      <td>0</td>\n",
       "      <td>0</td>\n",
       "      <td>0</td>\n",
       "      <td>0</td>\n",
       "      <td>0</td>\n",
       "      <td>0</td>\n",
       "      <td>0</td>\n",
       "      <td>0</td>\n",
       "      <td>0</td>\n",
       "      <td>0</td>\n",
       "    </tr>\n",
       "    <tr>\n",
       "      <td>39033</td>\n",
       "      <td>2</td>\n",
       "      <td>4</td>\n",
       "      <td>5</td>\n",
       "      <td>0.9</td>\n",
       "      <td>1.0</td>\n",
       "      <td>0.374166</td>\n",
       "      <td>0.769337</td>\n",
       "      <td>0.384968</td>\n",
       "      <td>3.316625</td>\n",
       "      <td>0.3</td>\n",
       "      <td>...</td>\n",
       "      <td>0</td>\n",
       "      <td>0</td>\n",
       "      <td>0</td>\n",
       "      <td>0</td>\n",
       "      <td>0</td>\n",
       "      <td>1</td>\n",
       "      <td>0</td>\n",
       "      <td>0</td>\n",
       "      <td>0</td>\n",
       "      <td>0</td>\n",
       "    </tr>\n",
       "    <tr>\n",
       "      <td>3840</td>\n",
       "      <td>0</td>\n",
       "      <td>4</td>\n",
       "      <td>7</td>\n",
       "      <td>0.2</td>\n",
       "      <td>0.1</td>\n",
       "      <td>0.446990</td>\n",
       "      <td>0.767496</td>\n",
       "      <td>0.344964</td>\n",
       "      <td>2.449490</td>\n",
       "      <td>0.2</td>\n",
       "      <td>...</td>\n",
       "      <td>0</td>\n",
       "      <td>0</td>\n",
       "      <td>0</td>\n",
       "      <td>0</td>\n",
       "      <td>0</td>\n",
       "      <td>0</td>\n",
       "      <td>0</td>\n",
       "      <td>0</td>\n",
       "      <td>1</td>\n",
       "      <td>0</td>\n",
       "    </tr>\n",
       "    <tr>\n",
       "      <td>302578</td>\n",
       "      <td>5</td>\n",
       "      <td>3</td>\n",
       "      <td>11</td>\n",
       "      <td>0.9</td>\n",
       "      <td>1.2</td>\n",
       "      <td>0.424264</td>\n",
       "      <td>0.823493</td>\n",
       "      <td>0.393446</td>\n",
       "      <td>3.162278</td>\n",
       "      <td>0.5</td>\n",
       "      <td>...</td>\n",
       "      <td>0</td>\n",
       "      <td>0</td>\n",
       "      <td>0</td>\n",
       "      <td>0</td>\n",
       "      <td>0</td>\n",
       "      <td>0</td>\n",
       "      <td>0</td>\n",
       "      <td>0</td>\n",
       "      <td>1</td>\n",
       "      <td>0</td>\n",
       "    </tr>\n",
       "    <tr>\n",
       "      <td>318323</td>\n",
       "      <td>0</td>\n",
       "      <td>4</td>\n",
       "      <td>5</td>\n",
       "      <td>0.6</td>\n",
       "      <td>0.4</td>\n",
       "      <td>0.400000</td>\n",
       "      <td>0.813179</td>\n",
       "      <td>0.370810</td>\n",
       "      <td>3.162278</td>\n",
       "      <td>0.7</td>\n",
       "      <td>...</td>\n",
       "      <td>0</td>\n",
       "      <td>0</td>\n",
       "      <td>0</td>\n",
       "      <td>0</td>\n",
       "      <td>0</td>\n",
       "      <td>0</td>\n",
       "      <td>0</td>\n",
       "      <td>0</td>\n",
       "      <td>0</td>\n",
       "      <td>0</td>\n",
       "    </tr>\n",
       "  </tbody>\n",
       "</table>\n",
       "<p>30372 rows × 150 columns</p>\n",
       "</div>"
      ],
      "text/plain": [
       "        ps_ind_01  ps_ind_03  ps_ind_15  ps_reg_01  ps_reg_02  ps_car_12  \\\n",
       "4               5          5          6        0.9        0.3   0.435890   \n",
       "8               5          5          1        0.1        0.2   0.547723   \n",
       "56              2          5          0        0.3        0.4   0.424264   \n",
       "134             1          3          4        0.4        1.0   0.447214   \n",
       "212             7          5         13        0.9        0.8   0.400000   \n",
       "...           ...        ...        ...        ...        ...        ...   \n",
       "406787          0          1          8        0.4        0.2   0.445870   \n",
       "39033           2          4          5        0.9        1.0   0.374166   \n",
       "3840            0          4          7        0.2        0.1   0.446990   \n",
       "302578          5          3         11        0.9        1.2   0.424264   \n",
       "318323          0          4          5        0.6        0.4   0.400000   \n",
       "\n",
       "        ps_car_13  ps_car_14  ps_car_15  ps_calc_03  ...  ps_car_11_cat_96  \\\n",
       "4        0.830289   0.414126   3.162278         0.5  ...                 0   \n",
       "8        1.769489   0.532917   3.605551         0.5  ...                 0   \n",
       "56       0.947089   0.418569   2.828427         0.8  ...                 0   \n",
       "134      0.986479   0.427200   3.464102         0.5  ...                 0   \n",
       "212      0.606337   0.322490   2.645751         0.8  ...                 0   \n",
       "...           ...        ...        ...         ...  ...               ...   \n",
       "406787   0.852258   0.348855   3.000000         0.5  ...                 0   \n",
       "39033    0.769337   0.384968   3.316625         0.3  ...                 0   \n",
       "3840     0.767496   0.344964   2.449490         0.2  ...                 0   \n",
       "302578   0.823493   0.393446   3.162278         0.5  ...                 0   \n",
       "318323   0.813179   0.370810   3.162278         0.7  ...                 0   \n",
       "\n",
       "        ps_car_11_cat_97  ps_car_11_cat_98  ps_car_11_cat_99  \\\n",
       "4                      0                 0                 0   \n",
       "8                      0                 0                 0   \n",
       "56                     0                 0                 0   \n",
       "134                    0                 0                 0   \n",
       "212                    0                 0                 0   \n",
       "...                  ...               ...               ...   \n",
       "406787                 0                 0                 0   \n",
       "39033                  0                 0                 0   \n",
       "3840                   0                 0                 0   \n",
       "302578                 0                 0                 0   \n",
       "318323                 0                 0                 0   \n",
       "\n",
       "        ps_car_11_cat_100  ps_car_11_cat_101  ps_car_11_cat_102  \\\n",
       "4                       0                  0                  0   \n",
       "8                       0                  0                  0   \n",
       "56                      0                  0                  0   \n",
       "134                     0                  0                  0   \n",
       "212                     0                  0                  0   \n",
       "...                   ...                ...                ...   \n",
       "406787                  0                  0                  0   \n",
       "39033                   0                  1                  0   \n",
       "3840                    0                  0                  0   \n",
       "302578                  0                  0                  0   \n",
       "318323                  0                  0                  0   \n",
       "\n",
       "        ps_car_11_cat_103  ps_car_11_cat_104  target  \n",
       "4                       0                  1       1  \n",
       "8                       0                  0       1  \n",
       "56                      0                  0       1  \n",
       "134                     0                  0       1  \n",
       "212                     0                  1       1  \n",
       "...                   ...                ...     ...  \n",
       "406787                  0                  0       0  \n",
       "39033                   0                  0       0  \n",
       "3840                    0                  1       0  \n",
       "302578                  0                  1       0  \n",
       "318323                  0                  0       0  \n",
       "\n",
       "[30372 rows x 150 columns]"
      ]
     },
     "execution_count": 76,
     "metadata": {},
     "output_type": "execute_result"
    }
   ],
   "source": [
    "under_x"
   ]
  },
  {
   "cell_type": "code",
   "execution_count": 77,
   "metadata": {},
   "outputs": [],
   "source": [
    "under_y = under_x[\"target\"]"
   ]
  },
  {
   "cell_type": "markdown",
   "metadata": {},
   "source": [
    "Remove the target from the subsampled x dataframe"
   ]
  },
  {
   "cell_type": "code",
   "execution_count": 78,
   "metadata": {},
   "outputs": [],
   "source": [
    "under_x = under_x.drop(\"target\", axis=1)"
   ]
  },
  {
   "cell_type": "code",
   "execution_count": 79,
   "metadata": {},
   "outputs": [
    {
     "data": {
      "text/plain": [
       "(30372, 149)"
      ]
     },
     "execution_count": 79,
     "metadata": {},
     "output_type": "execute_result"
    }
   ],
   "source": [
    "under_x.shape"
   ]
  },
  {
   "cell_type": "code",
   "execution_count": 80,
   "metadata": {},
   "outputs": [
    {
     "data": {
      "text/plain": [
       "(30372,)"
      ]
     },
     "execution_count": 80,
     "metadata": {},
     "output_type": "execute_result"
    }
   ],
   "source": [
    "under_y.shape"
   ]
  },
  {
   "cell_type": "markdown",
   "metadata": {},
   "source": [
    "The data is balanced the same as oversampling, but with much less datapoints as there are only so many 0s as 1s in \n",
    "the original data"
   ]
  },
  {
   "cell_type": "code",
   "execution_count": 532,
   "metadata": {},
   "outputs": [
    {
     "data": {
      "image/png": "[encoded data removed]",
      "text/plain": [
       "<Figure size 576x576 with 1 Axes>"
      ]
     },
     "metadata": {
      "needs_background": "light"
     },
     "output_type": "display_data"
    }
   ],
   "source": [
    "plt.figure(figsize=(8, 8))\n",
    "sns.countplot(under_y)\n",
    "plt.title('Balanced Classes')\n",
    "plt.show()"
   ]
  },
  {
   "cell_type": "markdown",
   "metadata": {},
   "source": [
    "## Running Logistic Regression on the Over and Under Sampled data"
   ]
  },
  {
   "cell_type": "markdown",
   "metadata": {},
   "source": [
    "The logistic regression ran the best, and thus was tested in the same pattern, where the data (in this case over or undersampled)\n",
    "was first fit and then cross validated using the AUC metric, and then the confusion matrix and the gini metric was \n",
    "displayed for the test data\n",
    "\n",
    "The important caveat with this is that there is no class weights applied, as the training data is balanced now.\n",
    "\n",
    "NB: For time reasons this was (like the previous model) restricted to 500 iteration."
   ]
  },
  {
   "cell_type": "markdown",
   "metadata": {},
   "source": [
    "### Oversampling run"
   ]
  },
  {
   "cell_type": "code",
   "execution_count": 82,
   "metadata": {},
   "outputs": [
    {
     "name": "stderr",
     "output_type": "stream",
     "text": [
      "/Users/jalajkhandelwal/Library/Python/3.7/lib/python/site-packages/sklearn/linear_model/_logistic.py:940: ConvergenceWarning: lbfgs failed to converge (status=1):\n",
      "STOP: TOTAL NO. of ITERATIONS REACHED LIMIT.\n",
      "\n",
      "Increase the number of iterations (max_iter) or scale the data as shown in:\n",
      "    https://scikit-learn.org/stable/modules/preprocessing.html\n",
      "Please also refer to the documentation for alternative solver options:\n",
      "    https://scikit-learn.org/stable/modules/linear_model.html#logistic-regression\n",
      "  extra_warning_msg=_LOGISTIC_SOLVER_CONVERGENCE_MSG)\n",
      "/Users/jalajkhandelwal/Library/Python/3.7/lib/python/site-packages/sklearn/utils/validation.py:760: DataConversionWarning: A column-vector y was passed when a 1d array was expected. Please change the shape of y to (n_samples, ), for example using ravel().\n",
      "  y = column_or_1d(y, warn=True)\n",
      "/Users/jalajkhandelwal/Library/Python/3.7/lib/python/site-packages/sklearn/linear_model/_logistic.py:940: ConvergenceWarning: lbfgs failed to converge (status=1):\n",
      "STOP: TOTAL NO. of ITERATIONS REACHED LIMIT.\n",
      "\n",
      "Increase the number of iterations (max_iter) or scale the data as shown in:\n",
      "    https://scikit-learn.org/stable/modules/preprocessing.html\n",
      "Please also refer to the documentation for alternative solver options:\n",
      "    https://scikit-learn.org/stable/modules/linear_model.html#logistic-regression\n",
      "  extra_warning_msg=_LOGISTIC_SOLVER_CONVERGENCE_MSG)\n",
      "/Users/jalajkhandelwal/Library/Python/3.7/lib/python/site-packages/sklearn/utils/validation.py:760: DataConversionWarning: A column-vector y was passed when a 1d array was expected. Please change the shape of y to (n_samples, ), for example using ravel().\n",
      "  y = column_or_1d(y, warn=True)\n",
      "/Users/jalajkhandelwal/Library/Python/3.7/lib/python/site-packages/sklearn/linear_model/_logistic.py:940: ConvergenceWarning: lbfgs failed to converge (status=1):\n",
      "STOP: TOTAL NO. of ITERATIONS REACHED LIMIT.\n",
      "\n",
      "Increase the number of iterations (max_iter) or scale the data as shown in:\n",
      "    https://scikit-learn.org/stable/modules/preprocessing.html\n",
      "Please also refer to the documentation for alternative solver options:\n",
      "    https://scikit-learn.org/stable/modules/linear_model.html#logistic-regression\n",
      "  extra_warning_msg=_LOGISTIC_SOLVER_CONVERGENCE_MSG)\n",
      "/Users/jalajkhandelwal/Library/Python/3.7/lib/python/site-packages/sklearn/utils/validation.py:760: DataConversionWarning: A column-vector y was passed when a 1d array was expected. Please change the shape of y to (n_samples, ), for example using ravel().\n",
      "  y = column_or_1d(y, warn=True)\n",
      "/Users/jalajkhandelwal/Library/Python/3.7/lib/python/site-packages/sklearn/linear_model/_logistic.py:940: ConvergenceWarning: lbfgs failed to converge (status=1):\n",
      "STOP: TOTAL NO. of ITERATIONS REACHED LIMIT.\n",
      "\n",
      "Increase the number of iterations (max_iter) or scale the data as shown in:\n",
      "    https://scikit-learn.org/stable/modules/preprocessing.html\n",
      "Please also refer to the documentation for alternative solver options:\n",
      "    https://scikit-learn.org/stable/modules/linear_model.html#logistic-regression\n",
      "  extra_warning_msg=_LOGISTIC_SOLVER_CONVERGENCE_MSG)\n",
      "/Users/jalajkhandelwal/Library/Python/3.7/lib/python/site-packages/sklearn/utils/validation.py:760: DataConversionWarning: A column-vector y was passed when a 1d array was expected. Please change the shape of y to (n_samples, ), for example using ravel().\n",
      "  y = column_or_1d(y, warn=True)\n",
      "/Users/jalajkhandelwal/Library/Python/3.7/lib/python/site-packages/sklearn/linear_model/_logistic.py:940: ConvergenceWarning: lbfgs failed to converge (status=1):\n",
      "STOP: TOTAL NO. of ITERATIONS REACHED LIMIT.\n",
      "\n",
      "Increase the number of iterations (max_iter) or scale the data as shown in:\n",
      "    https://scikit-learn.org/stable/modules/preprocessing.html\n",
      "Please also refer to the documentation for alternative solver options:\n",
      "    https://scikit-learn.org/stable/modules/linear_model.html#logistic-regression\n",
      "  extra_warning_msg=_LOGISTIC_SOLVER_CONVERGENCE_MSG)\n",
      "/Users/jalajkhandelwal/Library/Python/3.7/lib/python/site-packages/sklearn/utils/validation.py:760: DataConversionWarning: A column-vector y was passed when a 1d array was expected. Please change the shape of y to (n_samples, ), for example using ravel().\n",
      "  y = column_or_1d(y, warn=True)\n",
      "/Users/jalajkhandelwal/Library/Python/3.7/lib/python/site-packages/sklearn/linear_model/_logistic.py:940: ConvergenceWarning: lbfgs failed to converge (status=1):\n",
      "STOP: TOTAL NO. of ITERATIONS REACHED LIMIT.\n",
      "\n",
      "Increase the number of iterations (max_iter) or scale the data as shown in:\n",
      "    https://scikit-learn.org/stable/modules/preprocessing.html\n",
      "Please also refer to the documentation for alternative solver options:\n",
      "    https://scikit-learn.org/stable/modules/linear_model.html#logistic-regression\n",
      "  extra_warning_msg=_LOGISTIC_SOLVER_CONVERGENCE_MSG)\n"
     ]
    },
    {
     "name": "stdout",
     "output_type": "stream",
     "text": [
      "[0.87753608 0.95947841 0.96016835 0.96012312 0.96032143]\n"
     ]
    },
    {
     "data": {
      "image/png": "[encoded data removed]",
      "text/plain": [
       "<Figure size 576x504 with 3 Axes>"
      ]
     },
     "metadata": {
      "needs_background": "light"
     },
     "output_type": "display_data"
    },
    {
     "name": "stdout",
     "output_type": "stream",
     "text": [
      "0.002658319618012106\n"
     ]
    }
   ],
   "source": [
    "regr = LogisticRegression(max_iter=500)\n",
    "regr.fit(over_x, np.ravel(over_y))\n",
    "\n",
    "K = 5\n",
    "scores = cross_val_score(regr, over_x, over_y, scoring=\"roc_auc\", cv=K)\n",
    "print(scores)\n",
    "\n",
    "pred_regr = regr.predict(X_Test_Shaped)\n",
    "make_confusion_matrix(Y_Test, pred_regr)\n",
    "\n",
    "get_gini(Y_Test, pred_regr)"
   ]
  },
  {
   "cell_type": "markdown",
   "metadata": {},
   "source": [
    "This model performs significantly worse than the class weights model. The accuracy is high but again thats due to it entirely \n",
    "predicting almost entirely 0s. \n",
    "\n",
    "Notably, the cross validation scores of the AUC are very high ([0.88 0.96 0.96 0.96 0.96]), but that translates extremely poorly to the gini \n",
    "of 0.00266. This is most likely caused by the makeup of the test set not being that balanced, and thus the model overfit \n",
    "considerably, and not generalising at all well. Thus since the models are being compared on generalisation error, this \n",
    "is much worse than the initial logistic regression model."
   ]
  },
  {
   "cell_type": "markdown",
   "metadata": {},
   "source": [
    "### Undersampling Run"
   ]
  },
  {
   "cell_type": "code",
   "execution_count": 533,
   "metadata": {},
   "outputs": [
    {
     "name": "stdout",
     "output_type": "stream",
     "text": [
      "[0.60301042 0.61536128 0.60469878 0.59814185 0.59454804]\n"
     ]
    },
    {
     "data": {
      "image/png": "[encoded data removed]",
      "text/plain": [
       "<Figure size 576x504 with 3 Axes>"
      ]
     },
     "metadata": {
      "needs_background": "light"
     },
     "output_type": "display_data"
    },
    {
     "name": "stdout",
     "output_type": "stream",
     "text": [
      "0.1460482206319298\n"
     ]
    }
   ],
   "source": [
    "regr = LogisticRegression(max_iter=500)\n",
    "regr.fit(under_x, under_y)\n",
    "\n",
    "K = 5\n",
    "scores = cross_val_score(regr, under_x, under_y, scoring=\"roc_auc\", cv=K)\n",
    "print(scores)\n",
    "\n",
    "pred_regr = regr.predict(X_Test_Shaped)\n",
    "make_confusion_matrix(Y_Test, pred_regr)\n",
    "\n",
    "get_gini(Y_Test, pred_regr)"
   ]
  },
  {
   "cell_type": "markdown",
   "metadata": {},
   "source": [
    "This model is similar if slightly worse than the original logistic regression, this is most likely because this isn't \n",
    "doing anything in particular to account for extra 0s in the test set. There are large numbers of false positives and \n",
    "the gini is slightly worse"
   ]
  },
  {
   "cell_type": "markdown",
   "metadata": {},
   "source": [
    "# Using Algorithms designed for unbalanced datasets"
   ]
  },
  {
   "cell_type": "markdown",
   "metadata": {},
   "source": [
    "There were 2 algorithms tried which were designed for unbalanced data. They were both from the imblearn package\n",
    "(https://imbalanced-learn.readthedocs.io/en/stable/api.html#module-imblearn.ensemble)\n",
    "\n",
    "One algorithm was to try a different approach, Bagging, and the other was to try the random forest\n",
    " \n",
    "They were run in the same manner as the algorithms above, where it was trained and cross validated on the training \n",
    "data (in this case the normal unbalanced data with no class weights added) and then evaluated on the test set"
   ]
  },
  {
   "cell_type": "markdown",
   "metadata": {},
   "source": [
    "## Bagging "
   ]
  },
  {
   "cell_type": "code",
   "execution_count": 84,
   "metadata": {},
   "outputs": [],
   "source": [
    "from sklearn.model_selection import RepeatedStratifiedKFold\n",
    "from imblearn.ensemble import BalancedBaggingClassifier"
   ]
  },
  {
   "cell_type": "code",
   "execution_count": 85,
   "metadata": {},
   "outputs": [
    {
     "data": {
      "text/plain": [
       "BalancedBaggingClassifier(base_estimator=None, bootstrap=True,\n",
       "                          bootstrap_features=False, max_features=1.0,\n",
       "                          max_samples=1.0, n_estimators=10, n_jobs=None,\n",
       "                          oob_score=False, random_state=None, replacement=False,\n",
       "                          sampling_strategy='auto', verbose=0,\n",
       "                          warm_start=False)"
      ]
     },
     "execution_count": 85,
     "metadata": {},
     "output_type": "execute_result"
    }
   ],
   "source": [
    "bagging_model = BalancedBaggingClassifier()\n",
    "bagging_model.fit(X_Train_Shaped, Y_Train)"
   ]
  },
  {
   "cell_type": "code",
   "execution_count": 86,
   "metadata": {},
   "outputs": [
    {
     "data": {
      "text/plain": [
       "array([0.56249599, 0.5597653 , 0.55498336, 0.56122885, 0.55928103])"
      ]
     },
     "execution_count": 86,
     "metadata": {},
     "output_type": "execute_result"
    }
   ],
   "source": [
    "scores = cross_val_score(bagging_model, X_Train_Shaped, Y_Train, scoring='roc_auc', cv=5)\n",
    "scores"
   ]
  },
  {
   "cell_type": "code",
   "execution_count": 87,
   "metadata": {},
   "outputs": [
    {
     "data": {
      "image/png": "[encoded data removed]",
      "text/plain": [
       "<Figure size 576x504 with 3 Axes>"
      ]
     },
     "metadata": {
      "needs_background": "light"
     },
     "output_type": "display_data"
    }
   ],
   "source": [
    "predicted_bagging = bagging_model.predict(X_Test_Shaped)\n",
    "make_confusion_matrix(Y_Test, predicted_bagging)"
   ]
  },
  {
   "cell_type": "code",
   "execution_count": 88,
   "metadata": {},
   "outputs": [
    {
     "name": "stdout",
     "output_type": "stream",
     "text": [
      "0.058878323202271154\n"
     ]
    }
   ],
   "source": [
    "get_gini(Y_Test, predicted_bagging)"
   ]
  },
  {
   "cell_type": "markdown",
   "metadata": {},
   "source": [
    "This performs fairly in the middle with respect to the algorithms tried out thus far, its not as good as the logistic regression for either the confusion matrix or the gini, and its not as bad as the worst results seen thus far"
   ]
  },
  {
   "cell_type": "markdown",
   "metadata": {},
   "source": [
    "## Balanced RandomForestClassifier"
   ]
  },
  {
   "cell_type": "code",
   "execution_count": 89,
   "metadata": {},
   "outputs": [],
   "source": [
    "from imblearn.ensemble import BalancedRandomForestClassifier"
   ]
  },
  {
   "cell_type": "code",
   "execution_count": 90,
   "metadata": {},
   "outputs": [
    {
     "data": {
      "text/plain": [
       "BalancedRandomForestClassifier(bootstrap=True, ccp_alpha=0.0, class_weight=None,\n",
       "                               criterion='gini', max_depth=None,\n",
       "                               max_features='auto', max_leaf_nodes=None,\n",
       "                               max_samples=None, min_impurity_decrease=0.0,\n",
       "                               min_samples_leaf=2, min_samples_split=2,\n",
       "                               min_weight_fraction_leaf=0.0, n_estimators=100,\n",
       "                               n_jobs=None, oob_score=False, random_state=None,\n",
       "                               replacement=False, sampling_strategy='auto',\n",
       "                               verbose=0, warm_start=False)"
      ]
     },
     "execution_count": 90,
     "metadata": {},
     "output_type": "execute_result"
    }
   ],
   "source": [
    "balanced_random_forest = BalancedRandomForestClassifier(n_estimators=100)\n",
    "balanced_random_forest.fit(X_Train_Shaped, Y_Train)"
   ]
  },
  {
   "cell_type": "code",
   "execution_count": 91,
   "metadata": {},
   "outputs": [
    {
     "data": {
      "text/plain": [
       "array([0.61244255, 0.61159717, 0.6141127 , 0.61018161, 0.60460037])"
      ]
     },
     "execution_count": 91,
     "metadata": {},
     "output_type": "execute_result"
    }
   ],
   "source": [
    "scores = cross_val_score(balanced_random_forest, X_Train_Shaped, Y_Train, scoring='roc_auc', cv=5)\n",
    "scores"
   ]
  },
  {
   "cell_type": "code",
   "execution_count": 92,
   "metadata": {},
   "outputs": [],
   "source": [
    "pred_balanced_rf = balanced_random_forest.predict(X_Test_Shaped)"
   ]
  },
  {
   "cell_type": "code",
   "execution_count": 93,
   "metadata": {},
   "outputs": [
    {
     "data": {
      "image/png": "[encoded data removed]",
      "text/plain": [
       "<Figure size 576x504 with 3 Axes>"
      ]
     },
     "metadata": {
      "needs_background": "light"
     },
     "output_type": "display_data"
    }
   ],
   "source": [
    "make_confusion_matrix(Y_Test, pred_balanced_rf)"
   ]
  },
  {
   "cell_type": "code",
   "execution_count": 94,
   "metadata": {},
   "outputs": [
    {
     "name": "stdout",
     "output_type": "stream",
     "text": [
      "0.15190218796133026\n"
     ]
    }
   ],
   "source": [
    "get_gini(Y_Test, pred_balanced_rf)"
   ]
  },
  {
   "cell_type": "markdown",
   "metadata": {},
   "source": [
    "This performed slightly better than the logistic regression on the gini value on the test set. The AUC scores on the training set are in keeping with the trend of being around 0.6 (aside from the oversampled data where is was closer to 0.9, however that was most likely overfitting) but the test set results are varying considerably."
   ]
  },
  {
   "cell_type": "markdown",
   "metadata": {},
   "source": [
    "\n",
    "# Neural Network Based Approach"
   ]
  },
  {
   "cell_type": "markdown",
   "metadata": {},
   "source": [
    "The neural network used was implemented in Keras"
   ]
  },
  {
   "cell_type": "code",
   "execution_count": 200,
   "metadata": {},
   "outputs": [],
   "source": [
    "import tensorflow as tf \n",
    "from tensorflow import keras\n",
    "from sklearn.preprocessing import StandardScaler"
   ]
  },
  {
   "cell_type": "code",
   "execution_count": 201,
   "metadata": {},
   "outputs": [],
   "source": [
    "np.random.seed(42) \n",
    "tf.random.set_seed(42)"
   ]
  },
  {
   "cell_type": "markdown",
   "metadata": {},
   "source": [
    "The model was made up of 3 dense layers, an input, one hidden, and an output layer. Initially the neurons were set to a large number (512) and a dropout layer was added between each pair of dense layers(this would allow the removal of neuron output being passed into the next layer). \n",
    "\n",
    "A batch normalisation layer was also added to speed up network training and avoid issues such as covariate shift.\n"
   ]
  },
  {
   "cell_type": "code",
   "execution_count": 202,
   "metadata": {},
   "outputs": [],
   "source": [
    "def make_model(train_x):\n",
    "    dropout_threshold = 0.5\n",
    "    model = keras.models.Sequential([\n",
    "        keras.layers.Dense(512, activation=\"relu\", \n",
    "                           input_shape=train_x.shape[1:]),\n",
    "        keras.layers.Dropout(dropout_threshold),\n",
    "        keras.layers.BatchNormalization(),\n",
    "        keras.layers.Dense(512, activation=\"relu\"), \n",
    "        keras.layers.Dropout(dropout_threshold),\n",
    "        keras.layers.BatchNormalization(),\n",
    "        keras.layers.Dense(1, activation=\"sigmoid\")\n",
    "    ]) \n",
    "    return model"
   ]
  },
  {
   "cell_type": "markdown",
   "metadata": {},
   "source": [
    "The loss used in the data was the Binary Cross entropy loss, which was used in the Tensorflow example\n",
    "https://www.tensorflow.org/tutorials/structured_data/imbalanced_data \n",
    "\n",
    "The main metrics which were tracked were the AUC and the accuracy on the training set. The epochs were set to 30, but the network usually converged before then even with the patience set to 5"
   ]
  },
  {
   "cell_type": "code",
   "execution_count": 203,
   "metadata": {},
   "outputs": [],
   "source": [
    "def compile_and_run(model, x_train, y_train, \n",
    "                    x_valid, y_valid, class_weights):\n",
    "    model.compile(loss=\"binary_crossentropy\", \n",
    "                  optimizer=\"sgd\", \n",
    "                  metrics=['accuracy', tf.keras.metrics.AUC(name='auc')])\n",
    "    \n",
    "    early_stopping_cb = keras.callbacks.EarlyStopping(patience=5, \n",
    "                                                      restore_best_weights=True)\n",
    "    \n",
    "    history = model.fit(x_train, y_train, epochs=30, \n",
    "                        verbose=0, \n",
    "                        validation_data=(x_valid,y_valid), \n",
    "                        callbacks=[early_stopping_cb],\n",
    "                        class_weight=class_weights)\n",
    "    return history\n"
   ]
  },
  {
   "cell_type": "markdown",
   "metadata": {},
   "source": [
    "The Roc curve was plotted for the NN output, which would also print the Gini metric"
   ]
  },
  {
   "cell_type": "code",
   "execution_count": 204,
   "metadata": {},
   "outputs": [],
   "source": [
    "def plot_roc_curve(Y_Test, pred):\n",
    "    \n",
    "    y_pred_keras = pred.ravel()\n",
    "    fpr_keras, tpr_keras, thresholds_keras = roc_curve(Y_Test, \n",
    "                                                       y_pred_keras)\n",
    "    auc_keras = auc(fpr_keras, tpr_keras)\n",
    "    print(\"GINI \" + str(2*auc_keras -1))\n",
    "    \n",
    "    plt.figure(1)\n",
    "    plt.plot([0, 1], [0, 1], 'k--')\n",
    "    plt.plot(fpr_keras, tpr_keras, label='Keras (area = {:.3f})'.format(auc_keras))\n",
    "    plt.xlabel('False positive rate')\n",
    "    plt.ylabel('True positive rate')\n",
    "    plt.title('ROC curve')\n",
    "    plt.legend(loc='best')\n",
    "    plt.show()"
   ]
  },
  {
   "cell_type": "markdown",
   "metadata": {},
   "source": [
    "This was used initially to figure out when covergence was happening"
   ]
  },
  {
   "cell_type": "code",
   "execution_count": 205,
   "metadata": {},
   "outputs": [],
   "source": [
    "def plot_history(history):\n",
    "    pd.DataFrame(history.history).plot(figsize=(12,8)) \n",
    "    plt.xlabel(\"epoch\") \n",
    "    plt.grid(True) \n",
    "    plt.gca().set_ylim(0,1) \n",
    "    plt.show()"
   ]
  },
  {
   "cell_type": "markdown",
   "metadata": {},
   "source": [
    "## Initial Run"
   ]
  },
  {
   "cell_type": "markdown",
   "metadata": {},
   "source": [
    "The data is imbalanced, and thus as in the examples above, the class weights were added to the keras model. This runs on the initial data itself"
   ]
  },
  {
   "cell_type": "code",
   "execution_count": 540,
   "metadata": {},
   "outputs": [],
   "source": [
    "x_train, x_valid, \\\n",
    "y_train, y_valid = train_test_split(X_Train_Shaped, \n",
    "                                    Y_Train, \n",
    "                                    random_state=42, \n",
    "                                    test_size=0.20,\n",
    "                                    stratify=Y_Train)"
   ]
  },
  {
   "cell_type": "code",
   "execution_count": 541,
   "metadata": {},
   "outputs": [],
   "source": [
    "scaler = StandardScaler() \n",
    "x_train = scaler.fit_transform(x_train) \n",
    "x_valid = scaler.transform(x_valid) \n",
    "x_test = scaler.transform(X_Test_Shaped)"
   ]
  },
  {
   "cell_type": "markdown",
   "metadata": {},
   "source": [
    "Calculate the class weights"
   ]
  },
  {
   "cell_type": "code",
   "execution_count": 542,
   "metadata": {
    "scrolled": true
   },
   "outputs": [
    {
     "name": "stdout",
     "output_type": "stream",
     "text": [
      "[ 0.51891372 13.71791917]\n"
     ]
    }
   ],
   "source": [
    "from sklearn.utils import class_weight\n",
    "class_weights = class_weight.compute_class_weight('balanced',\n",
    "                                                 np.unique(y_train),\n",
    "                                                 y_train)\n",
    "\n",
    "print(class_weights)"
   ]
  },
  {
   "cell_type": "code",
   "execution_count": 543,
   "metadata": {},
   "outputs": [],
   "source": [
    "class_weights = dict(enumerate(class_weights))"
   ]
  },
  {
   "cell_type": "markdown",
   "metadata": {},
   "source": [
    "Make the model"
   ]
  },
  {
   "cell_type": "code",
   "execution_count": 544,
   "metadata": {
    "scrolled": true
   },
   "outputs": [
    {
     "name": "stdout",
     "output_type": "stream",
     "text": [
      "Model: \"sequential_41\"\n",
      "_________________________________________________________________\n",
      "Layer (type)                 Output Shape              Param #   \n",
      "=================================================================\n",
      "dense_123 (Dense)            (None, 512)               76800     \n",
      "_________________________________________________________________\n",
      "dropout_82 (Dropout)         (None, 512)               0         \n",
      "_________________________________________________________________\n",
      "batch_normalization_82 (Batc (None, 512)               2048      \n",
      "_________________________________________________________________\n",
      "dense_124 (Dense)            (None, 512)               262656    \n",
      "_________________________________________________________________\n",
      "dropout_83 (Dropout)         (None, 512)               0         \n",
      "_________________________________________________________________\n",
      "batch_normalization_83 (Batc (None, 512)               2048      \n",
      "_________________________________________________________________\n",
      "dense_125 (Dense)            (None, 1)                 513       \n",
      "=================================================================\n",
      "Total params: 344,065\n",
      "Trainable params: 342,017\n",
      "Non-trainable params: 2,048\n",
      "_________________________________________________________________\n"
     ]
    }
   ],
   "source": [
    "basic_model = make_model(x_train)\n",
    "basic_model.summary()"
   ]
  },
  {
   "cell_type": "markdown",
   "metadata": {},
   "source": [
    "Run the model"
   ]
  },
  {
   "cell_type": "code",
   "execution_count": null,
   "metadata": {
    "scrolled": true
   },
   "outputs": [
    {
     "name": "stdout",
     "output_type": "stream",
     "text": [
      "WARNING:tensorflow:sample_weight modes were coerced from\n",
      "  ...\n",
      "    to  \n",
      "  ['...']\n",
      "WARNING:tensorflow:sample_weight modes were coerced from\n",
      "  ...\n",
      "    to  \n",
      "  ['...']\n"
     ]
    }
   ],
   "source": [
    "basic_model_history = compile_and_run(basic_model, x_train, y_train, \n",
    "                           x_valid, y_valid, class_weights)"
   ]
  },
  {
   "cell_type": "markdown",
   "metadata": {},
   "source": [
    "Get the Binary Cross Entropy loss, accuracy and the AUC values on the test set "
   ]
  },
  {
   "cell_type": "code",
   "execution_count": null,
   "metadata": {
    "scrolled": true
   },
   "outputs": [],
   "source": [
    "basic_model.evaluate(x_test, Y_Test)"
   ]
  },
  {
   "cell_type": "markdown",
   "metadata": {},
   "source": [
    "Predict the probabilities on the test data"
   ]
  },
  {
   "cell_type": "code",
   "execution_count": null,
   "metadata": {},
   "outputs": [],
   "source": [
    "pred = basic_model.predict(x_test)"
   ]
  },
  {
   "cell_type": "markdown",
   "metadata": {},
   "source": [
    "Make the confusion matrix on the predicted classes, \n",
    "\n",
    "NB: the probability threshold on which it decides 0 or 1, can be designed manually by using tf.greater \n",
    "on the probablity output"
   ]
  },
  {
   "cell_type": "code",
   "execution_count": null,
   "metadata": {
    "scrolled": false
   },
   "outputs": [],
   "source": [
    "make_confusion_matrix(Y_Test, basic_model.predict_classes(x_test))"
   ]
  },
  {
   "cell_type": "markdown",
   "metadata": {},
   "source": [
    "Plot the ROC curve and get the Gini on the test set"
   ]
  },
  {
   "cell_type": "code",
   "execution_count": null,
   "metadata": {},
   "outputs": [],
   "source": [
    "plot_roc_curve(Y_Test, pred)"
   ]
  },
  {
   "cell_type": "markdown",
   "metadata": {},
   "source": [
    "Immediately it is noticeable there is an improvement on any of the classifiers before on the gini, the AUC (denoted by area) in the plot is 0.59 on the test data. \n",
    "\n",
    "NB: The history stored the loss/Accuracy/AUC values for the training data, but the classifiers were compared on the testing data, so analysis was not done on the training data results."
   ]
  },
  {
   "cell_type": "markdown",
   "metadata": {},
   "source": [
    "## Oversampled Data \n"
   ]
  },
  {
   "cell_type": "markdown",
   "metadata": {},
   "source": [
    "The same process was repeated on the oversampled data, however with one important caveat that the class weights were \n",
    "each 1, as the oversampled data training data was evenly distributed."
   ]
  },
  {
   "cell_type": "code",
   "execution_count": 238,
   "metadata": {},
   "outputs": [],
   "source": [
    "x_train_over, x_valid_over, \\\n",
    "y_train_over, y_valid_over  = train_test_split(over_x, \n",
    "                                               over_y, \n",
    "                                               random_state=42, \n",
    "                                               test_size=0.20,\n",
    "                                               stratify=over_y)"
   ]
  },
  {
   "cell_type": "code",
   "execution_count": 239,
   "metadata": {},
   "outputs": [],
   "source": [
    "over_sampled_scaler = StandardScaler() \n",
    "x_train_over = over_sampled_scaler.fit_transform(x_train_over) \n",
    "x_valid_over = over_sampled_scaler.transform(x_valid_over) \n",
    "x_test_over = over_sampled_scaler.transform(X_Test_Shaped)"
   ]
  },
  {
   "cell_type": "code",
   "execution_count": 240,
   "metadata": {},
   "outputs": [
    {
     "name": "stdout",
     "output_type": "stream",
     "text": [
      "Model: \"sequential_15\"\n",
      "_________________________________________________________________\n",
      "Layer (type)                 Output Shape              Param #   \n",
      "=================================================================\n",
      "dense_45 (Dense)             (None, 512)               76800     \n",
      "_________________________________________________________________\n",
      "dropout_30 (Dropout)         (None, 512)               0         \n",
      "_________________________________________________________________\n",
      "batch_normalization_30 (Batc (None, 512)               2048      \n",
      "_________________________________________________________________\n",
      "dense_46 (Dense)             (None, 512)               262656    \n",
      "_________________________________________________________________\n",
      "dropout_31 (Dropout)         (None, 512)               0         \n",
      "_________________________________________________________________\n",
      "batch_normalization_31 (Batc (None, 512)               2048      \n",
      "_________________________________________________________________\n",
      "dense_47 (Dense)             (None, 1)                 513       \n",
      "=================================================================\n",
      "Total params: 344,065\n",
      "Trainable params: 342,017\n",
      "Non-trainable params: 2,048\n",
      "_________________________________________________________________\n"
     ]
    }
   ],
   "source": [
    "class_weights = {0:1, 1:1}\n",
    "\n",
    "oversampled_model = make_model(x_train_over)\n",
    "oversampled_model.summary()"
   ]
  },
  {
   "cell_type": "code",
   "execution_count": 241,
   "metadata": {},
   "outputs": [
    {
     "name": "stdout",
     "output_type": "stream",
     "text": [
      "WARNING:tensorflow:sample_weight modes were coerced from\n",
      "  ...\n",
      "    to  \n",
      "  ['...']\n",
      "WARNING:tensorflow:sample_weight modes were coerced from\n",
      "  ...\n",
      "    to  \n",
      "  ['...']\n"
     ]
    }
   ],
   "source": [
    "oversampled_history = compile_and_run(oversampled_model, \n",
    "                                      x_train_over, \n",
    "                                      y_train_over, \n",
    "                                      x_valid_over, \n",
    "                                      y_valid_over, \n",
    "                                      class_weights)"
   ]
  },
  {
   "cell_type": "code",
   "execution_count": 242,
   "metadata": {},
   "outputs": [
    {
     "name": "stdout",
     "output_type": "stream",
     "text": [
      "178564/178564 [==============================] - 6s 35us/sample - loss: 0.2232 - accuracy: 0.9528 - auc: 0.5283\n"
     ]
    },
    {
     "data": {
      "text/plain": [
       "[0.22322678364831186, 0.95282924, 0.5282898]"
      ]
     },
     "execution_count": 242,
     "metadata": {},
     "output_type": "execute_result"
    }
   ],
   "source": [
    "oversampled_model.evaluate(x_test_over, Y_Test)"
   ]
  },
  {
   "cell_type": "code",
   "execution_count": 243,
   "metadata": {},
   "outputs": [],
   "source": [
    "pred_over = oversampled_model.predict(x_test_over)"
   ]
  },
  {
   "cell_type": "code",
   "execution_count": 534,
   "metadata": {},
   "outputs": [
    {
     "data": {
      "image/png": "[encoded data removed]",
      "text/plain": [
       "<Figure size 576x504 with 3 Axes>"
      ]
     },
     "metadata": {
      "needs_background": "light"
     },
     "output_type": "display_data"
    }
   ],
   "source": [
    "make_confusion_matrix(Y_Test, oversampled_model.predict_classes(x_test_over))"
   ]
  },
  {
   "cell_type": "code",
   "execution_count": 246,
   "metadata": {},
   "outputs": [
    {
     "name": "stdout",
     "output_type": "stream",
     "text": [
      "GINI 0.056681570370493706\n"
     ]
    },
    {
     "data": {
      "image/png": "[encoded data removed]",
      "text/plain": [
       "<Figure size 432x288 with 1 Axes>"
      ]
     },
     "metadata": {
      "needs_background": "light"
     },
     "output_type": "display_data"
    }
   ],
   "source": [
    "plot_roc_curve(Y_Test, pred_over)"
   ]
  },
  {
   "cell_type": "markdown",
   "metadata": {},
   "source": [
    "Compared to the initial model, and in line with past results, the oversampled data performs much more poorly on the test data with a gini of 0.057 compared to 0.19 for the initial model, furthermore there is evidence its overfitting on the training set, as the AUC values are close to 0.96 as shown below."
   ]
  },
  {
   "cell_type": "code",
   "execution_count": null,
   "metadata": {},
   "outputs": [],
   "source": [
    "oversampled_history.history[\"auc\"][0:5]"
   ]
  },
  {
   "cell_type": "markdown",
   "metadata": {},
   "source": [
    "## Undersampling"
   ]
  },
  {
   "cell_type": "markdown",
   "metadata": {},
   "source": [
    "The final neural network was trained on the undersampled data, as above, the class weights are both set to 1 for this run"
   ]
  },
  {
   "cell_type": "code",
   "execution_count": 247,
   "metadata": {},
   "outputs": [],
   "source": [
    "x_train_under, x_valid_under, \\\n",
    "y_train_under, y_valid_under = train_test_split(under_x, \n",
    "                                    under_y, \n",
    "                                    random_state=42, \n",
    "                                    test_size=0.20,\n",
    "                                    stratify=under_y)"
   ]
  },
  {
   "cell_type": "code",
   "execution_count": 248,
   "metadata": {},
   "outputs": [],
   "source": [
    "under_sampled_scaler = StandardScaler() \n",
    "x_train_under = under_sampled_scaler.fit_transform(x_train_under) \n",
    "x_valid_under = under_sampled_scaler.transform(x_valid_under) \n",
    "x_test_under = under_sampled_scaler.transform(X_Test_Shaped)"
   ]
  },
  {
   "cell_type": "code",
   "execution_count": 249,
   "metadata": {},
   "outputs": [
    {
     "name": "stdout",
     "output_type": "stream",
     "text": [
      "Model: \"sequential_16\"\n",
      "_________________________________________________________________\n",
      "Layer (type)                 Output Shape              Param #   \n",
      "=================================================================\n",
      "dense_48 (Dense)             (None, 512)               76800     \n",
      "_________________________________________________________________\n",
      "dropout_32 (Dropout)         (None, 512)               0         \n",
      "_________________________________________________________________\n",
      "batch_normalization_32 (Batc (None, 512)               2048      \n",
      "_________________________________________________________________\n",
      "dense_49 (Dense)             (None, 512)               262656    \n",
      "_________________________________________________________________\n",
      "dropout_33 (Dropout)         (None, 512)               0         \n",
      "_________________________________________________________________\n",
      "batch_normalization_33 (Batc (None, 512)               2048      \n",
      "_________________________________________________________________\n",
      "dense_50 (Dense)             (None, 1)                 513       \n",
      "=================================================================\n",
      "Total params: 344,065\n",
      "Trainable params: 342,017\n",
      "Non-trainable params: 2,048\n",
      "_________________________________________________________________\n"
     ]
    }
   ],
   "source": [
    "class_weights = {0:1, 1:1}\n",
    "\n",
    "undersampled_model = make_model(x_train_under)\n",
    "undersampled_model.summary()"
   ]
  },
  {
   "cell_type": "code",
   "execution_count": 250,
   "metadata": {},
   "outputs": [
    {
     "name": "stdout",
     "output_type": "stream",
     "text": [
      "WARNING:tensorflow:sample_weight modes were coerced from\n",
      "  ...\n",
      "    to  \n",
      "  ['...']\n",
      "WARNING:tensorflow:sample_weight modes were coerced from\n",
      "  ...\n",
      "    to  \n",
      "  ['...']\n"
     ]
    }
   ],
   "source": [
    "undersampled_history = compile_and_run(undersampled_model, \n",
    "                                       x_train_under, \n",
    "                                       y_train_under, \n",
    "                                       x_valid_under, \n",
    "                                       y_valid_under, \n",
    "                                       class_weights)"
   ]
  },
  {
   "cell_type": "code",
   "execution_count": 251,
   "metadata": {},
   "outputs": [
    {
     "name": "stdout",
     "output_type": "stream",
     "text": [
      "178564/178564 [==============================] - 6s 34us/sample - loss: 0.6703 - accuracy: 0.6223 - auc: 0.5937\n"
     ]
    },
    {
     "data": {
      "text/plain": [
       "[0.6702910067720499, 0.62225866, 0.59372073]"
      ]
     },
     "execution_count": 251,
     "metadata": {},
     "output_type": "execute_result"
    }
   ],
   "source": [
    "undersampled_model.evaluate(x_test_under, Y_Test)"
   ]
  },
  {
   "cell_type": "code",
   "execution_count": 252,
   "metadata": {},
   "outputs": [],
   "source": [
    "pred_under = undersampled_model.predict(x_test_under)"
   ]
  },
  {
   "cell_type": "code",
   "execution_count": 253,
   "metadata": {},
   "outputs": [],
   "source": [
    "class_predictions_under = [int(i) for i in list(tf.greater(pred_under, 0.5))]"
   ]
  },
  {
   "cell_type": "code",
   "execution_count": 254,
   "metadata": {},
   "outputs": [
    {
     "data": {
      "image/png": "[encoded data removed]",
      "text/plain": [
       "<Figure size 576x504 with 3 Axes>"
      ]
     },
     "metadata": {
      "needs_background": "light"
     },
     "output_type": "display_data"
    }
   ],
   "source": [
    "make_confusion_matrix(Y_Test, class_predictions_under)"
   ]
  },
  {
   "cell_type": "code",
   "execution_count": 255,
   "metadata": {},
   "outputs": [
    {
     "name": "stdout",
     "output_type": "stream",
     "text": [
      "GINI 0.18786019686590794\n"
     ]
    },
    {
     "data": {
      "image/png": "[encoded data removed]",
      "text/plain": [
       "<Figure size 432x288 with 1 Axes>"
      ]
     },
     "metadata": {
      "needs_background": "light"
     },
     "output_type": "display_data"
    }
   ],
   "source": [
    "plot_roc_curve(Y_Test, pred_under)"
   ]
  },
  {
   "cell_type": "markdown",
   "metadata": {},
   "source": [
    "As in the Logistic Regression, the undersampled results are extremely close (and slightly worse) than the initial model with class weight, and the AUC results on the training data (shown below) are much closer to the test data, which shows that it isn't overfitting."
   ]
  },
  {
   "cell_type": "code",
   "execution_count": 539,
   "metadata": {},
   "outputs": [
    {
     "data": {
      "text/plain": [
       "[0.52225405,\n",
       " 0.5450734,\n",
       " 0.5518004,\n",
       " 0.55306804,\n",
       " 0.5551746,\n",
       " 0.5598378,\n",
       " 0.56572765,\n",
       " 0.56417155,\n",
       " 0.5603025,\n",
       " 0.5670876,\n",
       " 0.571925,\n",
       " 0.5704243,\n",
       " 0.5723467,\n",
       " 0.57433665,\n",
       " 0.57391715]"
      ]
     },
     "execution_count": 539,
     "metadata": {},
     "output_type": "execute_result"
    }
   ],
   "source": [
    "undersampled_history.history[\"auc\"]"
   ]
  },
  {
   "cell_type": "markdown",
   "metadata": {},
   "source": [
    "## Parameter Tuning"
   ]
  },
  {
   "cell_type": "markdown",
   "metadata": {},
   "source": [
    "The best model out of the the three tried was the initial model where the class weights were set. Thus a small amoung of tuning was tried to see if there might be an improvement in the test set output. (The final parameter configuration was picked to be the one which had the highest gini on the __test__ set, not the validation set, to allow a fairer comparison between the best Neural Network Model and the other models tried) "
   ]
  },
  {
   "cell_type": "markdown",
   "metadata": {},
   "source": [
    "The model code was rewritten to be paramaterised as opposed to fixed values"
   ]
  },
  {
   "cell_type": "code",
   "execution_count": 256,
   "metadata": {},
   "outputs": [],
   "source": [
    "from tensorflow.keras import optimizers\n"
   ]
  },
  {
   "cell_type": "code",
   "execution_count": 257,
   "metadata": {},
   "outputs": [],
   "source": [
    "def make_tuned_model(train_x, dropout_threshold, neurons):\n",
    "    model = keras.models.Sequential([\n",
    "        keras.layers.Dense(neurons, activation=\"relu\", \n",
    "                           input_shape=train_x.shape[1:]),\n",
    "        keras.layers.Dropout(dropout_threshold),\n",
    "        keras.layers.BatchNormalization(),\n",
    "        keras.layers.Dense(neurons, activation=\"relu\"), \n",
    "        keras.layers.Dropout(dropout_threshold),\n",
    "        keras.layers.BatchNormalization(),\n",
    "        keras.layers.Dense(1, activation=\"sigmoid\")\n",
    "    ]) \n",
    "    return model"
   ]
  },
  {
   "cell_type": "code",
   "execution_count": 258,
   "metadata": {},
   "outputs": [],
   "source": [
    "def compile_and_run_tuned(model, x_train, y_train, \n",
    "                    x_valid, y_valid, class_weights, \n",
    "                    lr, verbose, epochs):\n",
    "    opt = optimizers.SGD(lr=lr)\n",
    "    model.compile(loss=\"binary_crossentropy\", \n",
    "                  optimizer=opt, \n",
    "                  metrics=['accuracy', tf.keras.metrics.AUC(name='auc')]) \n",
    "    early_stopping_cb = keras.callbacks.EarlyStopping(patience=5, \n",
    "                                                      restore_best_weights=True)\n",
    "    history = model.fit(x_train, y_train, epochs=epochs, \n",
    "                        verbose=verbose, \n",
    "                        validation_data=(x_valid,y_valid), \n",
    "                        callbacks=[early_stopping_cb],\n",
    "                        class_weight=class_weights)\n",
    "    return history"
   ]
  },
  {
   "cell_type": "code",
   "execution_count": 259,
   "metadata": {},
   "outputs": [],
   "source": [
    "def get_gini_keras(Y_Test, pred):\n",
    "    fpr_keras, tpr_keras, thresholds_keras = roc_curve(Y_Test, pred.ravel())\n",
    "    auc_keras = auc(fpr_keras, tpr_keras)\n",
    "    return (2 * auc_keras - 1)"
   ]
  },
  {
   "cell_type": "markdown",
   "metadata": {},
   "source": [
    "The 3 params which were \"tuned\" were the dropout percentage, the number of neurons, and the learning rate"
   ]
  },
  {
   "cell_type": "code",
   "execution_count": 260,
   "metadata": {},
   "outputs": [],
   "source": [
    "params = {\n",
    "    \"dropout\":[0,0.2,0.5],\n",
    "    \"neurons\":[256, 512],\n",
    "    \"lr\":[1, 0.1, 0.01, 0.001],\n",
    "}"
   ]
  },
  {
   "cell_type": "markdown",
   "metadata": {},
   "source": [
    "Re-calculate the class weights"
   ]
  },
  {
   "cell_type": "code",
   "execution_count": 261,
   "metadata": {
    "scrolled": true
   },
   "outputs": [
    {
     "data": {
      "text/plain": [
       "{0: 0.5189137183227522, 1: 13.717919170302082}"
      ]
     },
     "execution_count": 261,
     "metadata": {},
     "output_type": "execute_result"
    }
   ],
   "source": [
    "from sklearn.utils import class_weight\n",
    "class_weights = class_weight.compute_class_weight('balanced',\n",
    "                                                 np.unique(y_train),\n",
    "                                                 y_train)\n",
    "\n",
    "class_weights = dict(enumerate(class_weights))\n",
    "class_weights"
   ]
  },
  {
   "cell_type": "markdown",
   "metadata": {},
   "source": [
    "Rescale the data"
   ]
  },
  {
   "cell_type": "code",
   "execution_count": 262,
   "metadata": {},
   "outputs": [],
   "source": [
    "x_train, x_valid, y_train, y_valid = train_test_split(X_Train_Shaped, Y_Train, random_state=42, test_size=0.20,stratify=Y_Train)\n",
    "\n",
    "scaler = StandardScaler() \n",
    "x_train = scaler.fit_transform(x_train) \n",
    "x_valid = scaler.transform(x_valid) \n",
    "x_test = scaler.transform(X_Test_Shaped)"
   ]
  },
  {
   "cell_type": "markdown",
   "metadata": {},
   "source": [
    "Run the tuning, this was written manually as I wanted to compare on the results of the test set, which meant using my own functions. This would store the paramaters used, the highest AUC achieved on the training set, and Gini value on the training set, and the history for each model for each parameter combination. This would also track the best model tried thus far, so that it can be used for "
   ]
  },
  {
   "cell_type": "code",
   "execution_count": 263,
   "metadata": {},
   "outputs": [
    {
     "name": "stdout",
     "output_type": "stream",
     "text": [
      "WARNING:tensorflow:sample_weight modes were coerced from\n",
      "  ...\n",
      "    to  \n",
      "  ['...']\n",
      "WARNING:tensorflow:sample_weight modes were coerced from\n",
      "  ...\n",
      "    to  \n",
      "  ['...']\n",
      "WARNING:tensorflow:sample_weight modes were coerced from\n",
      "  ...\n",
      "    to  \n",
      "  ['...']\n",
      "WARNING:tensorflow:sample_weight modes were coerced from\n",
      "  ...\n",
      "    to  \n",
      "  ['...']\n",
      "WARNING:tensorflow:sample_weight modes were coerced from\n",
      "  ...\n",
      "    to  \n",
      "  ['...']\n",
      "WARNING:tensorflow:sample_weight modes were coerced from\n",
      "  ...\n",
      "    to  \n",
      "  ['...']\n",
      "WARNING:tensorflow:sample_weight modes were coerced from\n",
      "  ...\n",
      "    to  \n",
      "  ['...']\n",
      "WARNING:tensorflow:sample_weight modes were coerced from\n",
      "  ...\n",
      "    to  \n",
      "  ['...']\n",
      "WARNING:tensorflow:sample_weight modes were coerced from\n",
      "  ...\n",
      "    to  \n",
      "  ['...']\n",
      "WARNING:tensorflow:sample_weight modes were coerced from\n",
      "  ...\n",
      "    to  \n",
      "  ['...']\n",
      "WARNING:tensorflow:sample_weight modes were coerced from\n",
      "  ...\n",
      "    to  \n",
      "  ['...']\n",
      "WARNING:tensorflow:sample_weight modes were coerced from\n",
      "  ...\n",
      "    to  \n",
      "  ['...']\n",
      "WARNING:tensorflow:sample_weight modes were coerced from\n",
      "  ...\n",
      "    to  \n",
      "  ['...']\n",
      "WARNING:tensorflow:sample_weight modes were coerced from\n",
      "  ...\n",
      "    to  \n",
      "  ['...']\n",
      "WARNING:tensorflow:sample_weight modes were coerced from\n",
      "  ...\n",
      "    to  \n",
      "  ['...']\n",
      "WARNING:tensorflow:sample_weight modes were coerced from\n",
      "  ...\n",
      "    to  \n",
      "  ['...']\n",
      "WARNING:tensorflow:sample_weight modes were coerced from\n",
      "  ...\n",
      "    to  \n",
      "  ['...']\n",
      "WARNING:tensorflow:sample_weight modes were coerced from\n",
      "  ...\n",
      "    to  \n",
      "  ['...']\n",
      "WARNING:tensorflow:sample_weight modes were coerced from\n",
      "  ...\n",
      "    to  \n",
      "  ['...']\n",
      "WARNING:tensorflow:sample_weight modes were coerced from\n",
      "  ...\n",
      "    to  \n",
      "  ['...']\n",
      "WARNING:tensorflow:sample_weight modes were coerced from\n",
      "  ...\n",
      "    to  \n",
      "  ['...']\n",
      "WARNING:tensorflow:sample_weight modes were coerced from\n",
      "  ...\n",
      "    to  \n",
      "  ['...']\n",
      "WARNING:tensorflow:sample_weight modes were coerced from\n",
      "  ...\n",
      "    to  \n",
      "  ['...']\n",
      "WARNING:tensorflow:sample_weight modes were coerced from\n",
      "  ...\n",
      "    to  \n",
      "  ['...']\n",
      "WARNING:tensorflow:sample_weight modes were coerced from\n",
      "  ...\n",
      "    to  \n",
      "  ['...']\n",
      "WARNING:tensorflow:sample_weight modes were coerced from\n",
      "  ...\n",
      "    to  \n",
      "  ['...']\n",
      "WARNING:tensorflow:sample_weight modes were coerced from\n",
      "  ...\n",
      "    to  \n",
      "  ['...']\n",
      "WARNING:tensorflow:sample_weight modes were coerced from\n",
      "  ...\n",
      "    to  \n",
      "  ['...']\n",
      "WARNING:tensorflow:sample_weight modes were coerced from\n",
      "  ...\n",
      "    to  \n",
      "  ['...']\n",
      "WARNING:tensorflow:sample_weight modes were coerced from\n",
      "  ...\n",
      "    to  \n",
      "  ['...']\n",
      "WARNING:tensorflow:sample_weight modes were coerced from\n",
      "  ...\n",
      "    to  \n",
      "  ['...']\n",
      "WARNING:tensorflow:sample_weight modes were coerced from\n",
      "  ...\n",
      "    to  \n",
      "  ['...']\n",
      "WARNING:tensorflow:sample_weight modes were coerced from\n",
      "  ...\n",
      "    to  \n",
      "  ['...']\n",
      "WARNING:tensorflow:sample_weight modes were coerced from\n",
      "  ...\n",
      "    to  \n",
      "  ['...']\n",
      "WARNING:tensorflow:sample_weight modes were coerced from\n",
      "  ...\n",
      "    to  \n",
      "  ['...']\n",
      "WARNING:tensorflow:sample_weight modes were coerced from\n",
      "  ...\n",
      "    to  \n",
      "  ['...']\n",
      "WARNING:tensorflow:sample_weight modes were coerced from\n",
      "  ...\n",
      "    to  \n",
      "  ['...']\n",
      "WARNING:tensorflow:sample_weight modes were coerced from\n",
      "  ...\n",
      "    to  \n",
      "  ['...']\n",
      "WARNING:tensorflow:sample_weight modes were coerced from\n",
      "  ...\n",
      "    to  \n",
      "  ['...']\n",
      "WARNING:tensorflow:sample_weight modes were coerced from\n",
      "  ...\n",
      "    to  \n",
      "  ['...']\n",
      "WARNING:tensorflow:sample_weight modes were coerced from\n",
      "  ...\n",
      "    to  \n",
      "  ['...']\n",
      "WARNING:tensorflow:sample_weight modes were coerced from\n",
      "  ...\n",
      "    to  \n",
      "  ['...']\n",
      "WARNING:tensorflow:sample_weight modes were coerced from\n",
      "  ...\n",
      "    to  \n",
      "  ['...']\n",
      "WARNING:tensorflow:sample_weight modes were coerced from\n",
      "  ...\n",
      "    to  \n",
      "  ['...']\n",
      "WARNING:tensorflow:sample_weight modes were coerced from\n",
      "  ...\n",
      "    to  \n",
      "  ['...']\n",
      "WARNING:tensorflow:sample_weight modes were coerced from\n",
      "  ...\n",
      "    to  \n",
      "  ['...']\n",
      "WARNING:tensorflow:sample_weight modes were coerced from\n",
      "  ...\n",
      "    to  \n",
      "  ['...']\n",
      "WARNING:tensorflow:sample_weight modes were coerced from\n",
      "  ...\n",
      "    to  \n",
      "  ['...']\n"
     ]
    }
   ],
   "source": [
    "combination = []\n",
    "best_model = None\n",
    "best_gini = 0\n",
    "for dropout in params[\"dropout\"]:\n",
    "    for neurons in params[\"neurons\"]:\n",
    "        for learning_rate in params[\"lr\"]:\n",
    "            model = make_tuned_model(x_train, dropout, neurons)\n",
    "            history = compile_and_run_tuned(model,\n",
    "                                            x_train, \n",
    "                                            y_train, \n",
    "                                            x_valid, \n",
    "                                            y_valid, \n",
    "                                            class_weights,\n",
    "                                            learning_rate, \n",
    "                                            verbose=0, \n",
    "                                            epochs=30)\n",
    "            \n",
    "            training_auc = history.history[\"auc\"][-1]\n",
    "            prediction = model.predict(x_test)\n",
    "            gini_metric = get_gini_keras(Y_Test, prediction)\n",
    "            \n",
    "            if gini_metric > best_gini:\n",
    "                best_model = model\n",
    "            \n",
    "            thing = history\n",
    "            combination.append(({\n",
    "                                    \"dropout\":dropout,\n",
    "                                    \"neurons\":neurons,\n",
    "                                    \"lr\":learning_rate,\n",
    "                                },\n",
    "                                training_auc,\n",
    "                                gini_metric, \n",
    "                                history))"
   ]
  },
  {
   "cell_type": "code",
   "execution_count": 264,
   "metadata": {},
   "outputs": [
    {
     "data": {
      "text/plain": [
       "[({'dropout': 0, 'neurons': 256, 'lr': 1},\n",
       "  0.54878545,\n",
       "  0.20798517586461251,\n",
       "  <tensorflow.python.keras.callbacks.History at 0x212adc290>),\n",
       " ({'dropout': 0, 'neurons': 256, 'lr': 0.1},\n",
       "  0.6201801,\n",
       "  0.21069878954662902,\n",
       "  <tensorflow.python.keras.callbacks.History at 0x20b99bc90>),\n",
       " ({'dropout': 0, 'neurons': 256, 'lr': 0.01},\n",
       "  0.62826943,\n",
       "  0.18206160754853795,\n",
       "  <tensorflow.python.keras.callbacks.History at 0x20bf14c90>),\n",
       " ({'dropout': 0, 'neurons': 256, 'lr': 0.001},\n",
       "  0.62594986,\n",
       "  0.1871835489861664,\n",
       "  <tensorflow.python.keras.callbacks.History at 0x214c2cd90>),\n",
       " ({'dropout': 0, 'neurons': 512, 'lr': 1},\n",
       "  0.5590878,\n",
       "  0.20985620231877178,\n",
       "  <tensorflow.python.keras.callbacks.History at 0x2127ada50>),\n",
       " ({'dropout': 0, 'neurons': 512, 'lr': 0.1},\n",
       "  0.6208578,\n",
       "  0.20516030336344504,\n",
       "  <tensorflow.python.keras.callbacks.History at 0x2160a4f10>),\n",
       " ({'dropout': 0, 'neurons': 512, 'lr': 0.01},\n",
       "  0.64381087,\n",
       "  0.14770605928848246,\n",
       "  <tensorflow.python.keras.callbacks.History at 0x2175c5e10>),\n",
       " ({'dropout': 0, 'neurons': 512, 'lr': 0.001},\n",
       "  0.63055503,\n",
       "  0.17870937444246016,\n",
       "  <tensorflow.python.keras.callbacks.History at 0x2190e6e50>),\n",
       " ({'dropout': 0.2, 'neurons': 256, 'lr': 1},\n",
       "  0.5237919,\n",
       "  0.17858408380010582,\n",
       "  <tensorflow.python.keras.callbacks.History at 0x2183bff10>),\n",
       " ({'dropout': 0.2, 'neurons': 256, 'lr': 0.1},\n",
       "  0.61090946,\n",
       "  0.20726997619362564,\n",
       "  <tensorflow.python.keras.callbacks.History at 0x2178faed0>),\n",
       " ({'dropout': 0.2, 'neurons': 256, 'lr': 0.01},\n",
       "  0.62524915,\n",
       "  0.19818230411910598,\n",
       "  <tensorflow.python.keras.callbacks.History at 0x21882eed0>),\n",
       " ({'dropout': 0.2, 'neurons': 256, 'lr': 0.001},\n",
       "  0.602801,\n",
       "  0.20672078195749877,\n",
       "  <tensorflow.python.keras.callbacks.History at 0x21973ad90>),\n",
       " ({'dropout': 0.2, 'neurons': 512, 'lr': 1},\n",
       "  0.52850074,\n",
       "  0.20660328955090135,\n",
       "  <tensorflow.python.keras.callbacks.History at 0x21bf63ad0>),\n",
       " ({'dropout': 0.2, 'neurons': 512, 'lr': 0.1},\n",
       "  0.6158447,\n",
       "  0.20926037941964215,\n",
       "  <tensorflow.python.keras.callbacks.History at 0x21cc6b3d0>),\n",
       " ({'dropout': 0.2, 'neurons': 512, 'lr': 0.01},\n",
       "  0.6250669,\n",
       "  0.18278865103567288,\n",
       "  <tensorflow.python.keras.callbacks.History at 0x2198fc250>),\n",
       " ({'dropout': 0.2, 'neurons': 512, 'lr': 0.001},\n",
       "  0.59520054,\n",
       "  0.1870265036634633,\n",
       "  <tensorflow.python.keras.callbacks.History at 0x21c2b6dd0>),\n",
       " ({'dropout': 0.5, 'neurons': 256, 'lr': 1},\n",
       "  0.50399816,\n",
       "  0.0,\n",
       "  <tensorflow.python.keras.callbacks.History at 0x23c870c90>),\n",
       " ({'dropout': 0.5, 'neurons': 256, 'lr': 0.1},\n",
       "  0.59860104,\n",
       "  0.20731920903155587,\n",
       "  <tensorflow.python.keras.callbacks.History at 0x24945b610>),\n",
       " ({'dropout': 0.5, 'neurons': 256, 'lr': 0.01},\n",
       "  0.5876293,\n",
       "  0.20520086901424484,\n",
       "  <tensorflow.python.keras.callbacks.History at 0x242e70f10>),\n",
       " ({'dropout': 0.5, 'neurons': 256, 'lr': 0.001},\n",
       "  0.5887207,\n",
       "  0.20765449208815223,\n",
       "  <tensorflow.python.keras.callbacks.History at 0x26e0c7ed0>),\n",
       " ({'dropout': 0.5, 'neurons': 512, 'lr': 1},\n",
       "  0.50386375,\n",
       "  -0.005106088656717023,\n",
       "  <tensorflow.python.keras.callbacks.History at 0x21277cf10>),\n",
       " ({'dropout': 0.5, 'neurons': 512, 'lr': 0.1},\n",
       "  0.60512733,\n",
       "  0.21074131815232966,\n",
       "  <tensorflow.python.keras.callbacks.History at 0x242e33ad0>),\n",
       " ({'dropout': 0.5, 'neurons': 512, 'lr': 0.01},\n",
       "  0.5941415,\n",
       "  0.19936165063852385,\n",
       "  <tensorflow.python.keras.callbacks.History at 0x21bc9bb50>),\n",
       " ({'dropout': 0.5, 'neurons': 512, 'lr': 0.001},\n",
       "  0.5832305,\n",
       "  0.20170955635604582,\n",
       "  <tensorflow.python.keras.callbacks.History at 0x23dba3b90>)]"
      ]
     },
     "execution_count": 264,
     "metadata": {},
     "output_type": "execute_result"
    }
   ],
   "source": [
    "combination"
   ]
  },
  {
   "cell_type": "code",
   "execution_count": 269,
   "metadata": {},
   "outputs": [],
   "source": [
    "sortedlist = sorted(combination, key=lambda x: x[2], reverse=True)"
   ]
  },
  {
   "cell_type": "code",
   "execution_count": 460,
   "metadata": {},
   "outputs": [
    {
     "data": {
      "text/plain": [
       "({'dropout': 0.5, 'neurons': 512, 'lr': 0.1},\n",
       " 0.60512733,\n",
       " 0.21074131815232966,\n",
       " <tensorflow.python.keras.callbacks.History at 0x242e33ad0>)"
      ]
     },
     "execution_count": 460,
     "metadata": {},
     "output_type": "execute_result"
    }
   ],
   "source": [
    "sortedlist[0]"
   ]
  },
  {
   "cell_type": "code",
   "execution_count": 272,
   "metadata": {},
   "outputs": [
    {
     "name": "stdout",
     "output_type": "stream",
     "text": [
      "GINI 0.21074131815232966\n"
     ]
    }
   ],
   "source": [
    "print(\"GINI \" + str(sortedlist[0][2]))"
   ]
  },
  {
   "cell_type": "code",
   "execution_count": 278,
   "metadata": {},
   "outputs": [
    {
     "data": {
      "text/plain": [
       "<tensorflow.python.keras.engine.sequential.Sequential at 0x23d16c350>"
      ]
     },
     "execution_count": 278,
     "metadata": {},
     "output_type": "execute_result"
    }
   ],
   "source": [
    "best_model"
   ]
  },
  {
   "cell_type": "code",
   "execution_count": 459,
   "metadata": {},
   "outputs": [
    {
     "data": {
      "image/png": "[encoded data removed]",
      "text/plain": [
       "<Figure size 576x432 with 1 Axes>"
      ]
     },
     "metadata": {
      "needs_background": "light"
     },
     "output_type": "display_data"
    }
   ],
   "source": [
    "y_pred_keras = best_model.predict(x_test).ravel()\n",
    "fpr_keras, tpr_keras, thresholds_keras = roc_curve(Y_Test, \n",
    "                                                       y_pred_keras)\n",
    "auc_keras = auc(fpr_keras, tpr_keras)\n",
    "\n",
    "plt.figure(1, figsize=(8,6))\n",
    "plt.plot([0, 1], [0, 1], 'k--')\n",
    "plt.plot(fpr_keras, tpr_keras, label='Keras (AUC = {:.3f})'.format(auc_keras))\n",
    "plt.xlabel('False positive rate')\n",
    "plt.ylabel('True positive rate')\n",
    "plt.title('ROC curve for Tuned Neural Network')\n",
    "plt.legend(loc='best')\n",
    "plt.savefig(\"final_roc.png\")"
   ]
  },
  {
   "cell_type": "markdown",
   "metadata": {},
   "source": [
    "# Load in the prediction data"
   ]
  },
  {
   "cell_type": "code",
   "execution_count": 420,
   "metadata": {},
   "outputs": [],
   "source": [
    "Test_Set = pd.read_csv(\"test.csv\")"
   ]
  },
  {
   "cell_type": "code",
   "execution_count": 421,
   "metadata": {},
   "outputs": [],
   "source": [
    "test_id = Test_Set[\"id\"]"
   ]
  },
  {
   "cell_type": "code",
   "execution_count": 422,
   "metadata": {},
   "outputs": [
    {
     "data": {
      "text/html": [
       "<div>\n",
       "<style scoped>\n",
       "    .dataframe tbody tr th:only-of-type {\n",
       "        vertical-align: middle;\n",
       "    }\n",
       "\n",
       "    .dataframe tbody tr th {\n",
       "        vertical-align: top;\n",
       "    }\n",
       "\n",
       "    .dataframe thead th {\n",
       "        text-align: right;\n",
       "    }\n",
       "</style>\n",
       "<table border=\"1\" class=\"dataframe\">\n",
       "  <thead>\n",
       "    <tr style=\"text-align: right;\">\n",
       "      <th></th>\n",
       "      <th>ps_ind_01</th>\n",
       "      <th>ps_ind_02_cat</th>\n",
       "      <th>ps_ind_03</th>\n",
       "      <th>ps_ind_04_cat</th>\n",
       "      <th>ps_ind_05_cat</th>\n",
       "      <th>ps_ind_06_bin</th>\n",
       "      <th>ps_ind_07_bin</th>\n",
       "      <th>ps_ind_08_bin</th>\n",
       "      <th>ps_ind_09_bin</th>\n",
       "      <th>ps_ind_10_bin</th>\n",
       "      <th>...</th>\n",
       "      <th>ps_calc_11</th>\n",
       "      <th>ps_calc_12</th>\n",
       "      <th>ps_calc_13</th>\n",
       "      <th>ps_calc_14</th>\n",
       "      <th>ps_calc_15_bin</th>\n",
       "      <th>ps_calc_16_bin</th>\n",
       "      <th>ps_calc_17_bin</th>\n",
       "      <th>ps_calc_18_bin</th>\n",
       "      <th>ps_calc_19_bin</th>\n",
       "      <th>ps_calc_20_bin</th>\n",
       "    </tr>\n",
       "  </thead>\n",
       "  <tbody>\n",
       "    <tr>\n",
       "      <td>0</td>\n",
       "      <td>0</td>\n",
       "      <td>1</td>\n",
       "      <td>8</td>\n",
       "      <td>1</td>\n",
       "      <td>0</td>\n",
       "      <td>0</td>\n",
       "      <td>1</td>\n",
       "      <td>0</td>\n",
       "      <td>0</td>\n",
       "      <td>0</td>\n",
       "      <td>...</td>\n",
       "      <td>1</td>\n",
       "      <td>1</td>\n",
       "      <td>1</td>\n",
       "      <td>12</td>\n",
       "      <td>0</td>\n",
       "      <td>1</td>\n",
       "      <td>1</td>\n",
       "      <td>0</td>\n",
       "      <td>0</td>\n",
       "      <td>1</td>\n",
       "    </tr>\n",
       "    <tr>\n",
       "      <td>1</td>\n",
       "      <td>4</td>\n",
       "      <td>2</td>\n",
       "      <td>5</td>\n",
       "      <td>1</td>\n",
       "      <td>0</td>\n",
       "      <td>0</td>\n",
       "      <td>0</td>\n",
       "      <td>0</td>\n",
       "      <td>1</td>\n",
       "      <td>0</td>\n",
       "      <td>...</td>\n",
       "      <td>2</td>\n",
       "      <td>0</td>\n",
       "      <td>3</td>\n",
       "      <td>10</td>\n",
       "      <td>0</td>\n",
       "      <td>0</td>\n",
       "      <td>1</td>\n",
       "      <td>1</td>\n",
       "      <td>0</td>\n",
       "      <td>1</td>\n",
       "    </tr>\n",
       "    <tr>\n",
       "      <td>2</td>\n",
       "      <td>5</td>\n",
       "      <td>1</td>\n",
       "      <td>3</td>\n",
       "      <td>0</td>\n",
       "      <td>0</td>\n",
       "      <td>0</td>\n",
       "      <td>0</td>\n",
       "      <td>0</td>\n",
       "      <td>1</td>\n",
       "      <td>0</td>\n",
       "      <td>...</td>\n",
       "      <td>4</td>\n",
       "      <td>0</td>\n",
       "      <td>2</td>\n",
       "      <td>4</td>\n",
       "      <td>0</td>\n",
       "      <td>0</td>\n",
       "      <td>0</td>\n",
       "      <td>0</td>\n",
       "      <td>0</td>\n",
       "      <td>0</td>\n",
       "    </tr>\n",
       "    <tr>\n",
       "      <td>3</td>\n",
       "      <td>0</td>\n",
       "      <td>1</td>\n",
       "      <td>6</td>\n",
       "      <td>0</td>\n",
       "      <td>0</td>\n",
       "      <td>1</td>\n",
       "      <td>0</td>\n",
       "      <td>0</td>\n",
       "      <td>0</td>\n",
       "      <td>0</td>\n",
       "      <td>...</td>\n",
       "      <td>5</td>\n",
       "      <td>1</td>\n",
       "      <td>0</td>\n",
       "      <td>5</td>\n",
       "      <td>1</td>\n",
       "      <td>0</td>\n",
       "      <td>1</td>\n",
       "      <td>0</td>\n",
       "      <td>0</td>\n",
       "      <td>0</td>\n",
       "    </tr>\n",
       "    <tr>\n",
       "      <td>4</td>\n",
       "      <td>5</td>\n",
       "      <td>1</td>\n",
       "      <td>7</td>\n",
       "      <td>0</td>\n",
       "      <td>0</td>\n",
       "      <td>0</td>\n",
       "      <td>0</td>\n",
       "      <td>0</td>\n",
       "      <td>1</td>\n",
       "      <td>0</td>\n",
       "      <td>...</td>\n",
       "      <td>4</td>\n",
       "      <td>0</td>\n",
       "      <td>0</td>\n",
       "      <td>4</td>\n",
       "      <td>0</td>\n",
       "      <td>1</td>\n",
       "      <td>1</td>\n",
       "      <td>0</td>\n",
       "      <td>0</td>\n",
       "      <td>1</td>\n",
       "    </tr>\n",
       "    <tr>\n",
       "      <td>...</td>\n",
       "      <td>...</td>\n",
       "      <td>...</td>\n",
       "      <td>...</td>\n",
       "      <td>...</td>\n",
       "      <td>...</td>\n",
       "      <td>...</td>\n",
       "      <td>...</td>\n",
       "      <td>...</td>\n",
       "      <td>...</td>\n",
       "      <td>...</td>\n",
       "      <td>...</td>\n",
       "      <td>...</td>\n",
       "      <td>...</td>\n",
       "      <td>...</td>\n",
       "      <td>...</td>\n",
       "      <td>...</td>\n",
       "      <td>...</td>\n",
       "      <td>...</td>\n",
       "      <td>...</td>\n",
       "      <td>...</td>\n",
       "      <td>...</td>\n",
       "    </tr>\n",
       "    <tr>\n",
       "      <td>892811</td>\n",
       "      <td>0</td>\n",
       "      <td>1</td>\n",
       "      <td>6</td>\n",
       "      <td>0</td>\n",
       "      <td>0</td>\n",
       "      <td>0</td>\n",
       "      <td>1</td>\n",
       "      <td>0</td>\n",
       "      <td>0</td>\n",
       "      <td>0</td>\n",
       "      <td>...</td>\n",
       "      <td>4</td>\n",
       "      <td>2</td>\n",
       "      <td>3</td>\n",
       "      <td>4</td>\n",
       "      <td>0</td>\n",
       "      <td>1</td>\n",
       "      <td>0</td>\n",
       "      <td>0</td>\n",
       "      <td>1</td>\n",
       "      <td>0</td>\n",
       "    </tr>\n",
       "    <tr>\n",
       "      <td>892812</td>\n",
       "      <td>5</td>\n",
       "      <td>3</td>\n",
       "      <td>5</td>\n",
       "      <td>1</td>\n",
       "      <td>0</td>\n",
       "      <td>0</td>\n",
       "      <td>0</td>\n",
       "      <td>1</td>\n",
       "      <td>0</td>\n",
       "      <td>0</td>\n",
       "      <td>...</td>\n",
       "      <td>6</td>\n",
       "      <td>2</td>\n",
       "      <td>2</td>\n",
       "      <td>11</td>\n",
       "      <td>0</td>\n",
       "      <td>0</td>\n",
       "      <td>1</td>\n",
       "      <td>1</td>\n",
       "      <td>0</td>\n",
       "      <td>0</td>\n",
       "    </tr>\n",
       "    <tr>\n",
       "      <td>892813</td>\n",
       "      <td>0</td>\n",
       "      <td>1</td>\n",
       "      <td>5</td>\n",
       "      <td>0</td>\n",
       "      <td>0</td>\n",
       "      <td>1</td>\n",
       "      <td>0</td>\n",
       "      <td>0</td>\n",
       "      <td>0</td>\n",
       "      <td>0</td>\n",
       "      <td>...</td>\n",
       "      <td>5</td>\n",
       "      <td>2</td>\n",
       "      <td>2</td>\n",
       "      <td>11</td>\n",
       "      <td>0</td>\n",
       "      <td>1</td>\n",
       "      <td>1</td>\n",
       "      <td>0</td>\n",
       "      <td>0</td>\n",
       "      <td>0</td>\n",
       "    </tr>\n",
       "    <tr>\n",
       "      <td>892814</td>\n",
       "      <td>6</td>\n",
       "      <td>1</td>\n",
       "      <td>5</td>\n",
       "      <td>1</td>\n",
       "      <td>0</td>\n",
       "      <td>0</td>\n",
       "      <td>0</td>\n",
       "      <td>0</td>\n",
       "      <td>1</td>\n",
       "      <td>0</td>\n",
       "      <td>...</td>\n",
       "      <td>1</td>\n",
       "      <td>1</td>\n",
       "      <td>2</td>\n",
       "      <td>7</td>\n",
       "      <td>1</td>\n",
       "      <td>1</td>\n",
       "      <td>0</td>\n",
       "      <td>0</td>\n",
       "      <td>0</td>\n",
       "      <td>0</td>\n",
       "    </tr>\n",
       "    <tr>\n",
       "      <td>892815</td>\n",
       "      <td>7</td>\n",
       "      <td>1</td>\n",
       "      <td>4</td>\n",
       "      <td>1</td>\n",
       "      <td>0</td>\n",
       "      <td>0</td>\n",
       "      <td>0</td>\n",
       "      <td>0</td>\n",
       "      <td>1</td>\n",
       "      <td>0</td>\n",
       "      <td>...</td>\n",
       "      <td>5</td>\n",
       "      <td>2</td>\n",
       "      <td>2</td>\n",
       "      <td>7</td>\n",
       "      <td>0</td>\n",
       "      <td>1</td>\n",
       "      <td>1</td>\n",
       "      <td>1</td>\n",
       "      <td>0</td>\n",
       "      <td>0</td>\n",
       "    </tr>\n",
       "  </tbody>\n",
       "</table>\n",
       "<p>892816 rows × 57 columns</p>\n",
       "</div>"
      ],
      "text/plain": [
       "        ps_ind_01  ps_ind_02_cat  ps_ind_03  ps_ind_04_cat  ps_ind_05_cat  \\\n",
       "0               0              1          8              1              0   \n",
       "1               4              2          5              1              0   \n",
       "2               5              1          3              0              0   \n",
       "3               0              1          6              0              0   \n",
       "4               5              1          7              0              0   \n",
       "...           ...            ...        ...            ...            ...   \n",
       "892811          0              1          6              0              0   \n",
       "892812          5              3          5              1              0   \n",
       "892813          0              1          5              0              0   \n",
       "892814          6              1          5              1              0   \n",
       "892815          7              1          4              1              0   \n",
       "\n",
       "        ps_ind_06_bin  ps_ind_07_bin  ps_ind_08_bin  ps_ind_09_bin  \\\n",
       "0                   0              1              0              0   \n",
       "1                   0              0              0              1   \n",
       "2                   0              0              0              1   \n",
       "3                   1              0              0              0   \n",
       "4                   0              0              0              1   \n",
       "...               ...            ...            ...            ...   \n",
       "892811              0              1              0              0   \n",
       "892812              0              0              1              0   \n",
       "892813              1              0              0              0   \n",
       "892814              0              0              0              1   \n",
       "892815              0              0              0              1   \n",
       "\n",
       "        ps_ind_10_bin  ...  ps_calc_11  ps_calc_12  ps_calc_13  ps_calc_14  \\\n",
       "0                   0  ...           1           1           1          12   \n",
       "1                   0  ...           2           0           3          10   \n",
       "2                   0  ...           4           0           2           4   \n",
       "3                   0  ...           5           1           0           5   \n",
       "4                   0  ...           4           0           0           4   \n",
       "...               ...  ...         ...         ...         ...         ...   \n",
       "892811              0  ...           4           2           3           4   \n",
       "892812              0  ...           6           2           2          11   \n",
       "892813              0  ...           5           2           2          11   \n",
       "892814              0  ...           1           1           2           7   \n",
       "892815              0  ...           5           2           2           7   \n",
       "\n",
       "        ps_calc_15_bin  ps_calc_16_bin  ps_calc_17_bin  ps_calc_18_bin  \\\n",
       "0                    0               1               1               0   \n",
       "1                    0               0               1               1   \n",
       "2                    0               0               0               0   \n",
       "3                    1               0               1               0   \n",
       "4                    0               1               1               0   \n",
       "...                ...             ...             ...             ...   \n",
       "892811               0               1               0               0   \n",
       "892812               0               0               1               1   \n",
       "892813               0               1               1               0   \n",
       "892814               1               1               0               0   \n",
       "892815               0               1               1               1   \n",
       "\n",
       "        ps_calc_19_bin  ps_calc_20_bin  \n",
       "0                    0               1  \n",
       "1                    0               1  \n",
       "2                    0               0  \n",
       "3                    0               0  \n",
       "4                    0               1  \n",
       "...                ...             ...  \n",
       "892811               1               0  \n",
       "892812               0               0  \n",
       "892813               0               0  \n",
       "892814               0               0  \n",
       "892815               0               0  \n",
       "\n",
       "[892816 rows x 57 columns]"
      ]
     },
     "execution_count": 422,
     "metadata": {},
     "output_type": "execute_result"
    }
   ],
   "source": [
    "Test_Set.drop(\"id\", axis=1)"
   ]
  },
  {
   "cell_type": "code",
   "execution_count": 423,
   "metadata": {},
   "outputs": [],
   "source": [
    "Test_Set_filtered = Test_Set[submission_test_columns]"
   ]
  },
  {
   "cell_type": "code",
   "execution_count": 428,
   "metadata": {},
   "outputs": [
    {
     "data": {
      "text/plain": [
       "(892816, 14)"
      ]
     },
     "execution_count": 428,
     "metadata": {},
     "output_type": "execute_result"
    }
   ],
   "source": [
    "Test_Set_filtered.shape"
   ]
  },
  {
   "cell_type": "code",
   "execution_count": 425,
   "metadata": {},
   "outputs": [
    {
     "data": {
      "text/plain": [
       "['ps_car_01_cat', 'ps_car_06_cat', 'ps_car_09_cat', 'ps_car_11_cat']"
      ]
     },
     "execution_count": 425,
     "metadata": {},
     "output_type": "execute_result"
    }
   ],
   "source": [
    "list_of_cols"
   ]
  },
  {
   "cell_type": "code",
   "execution_count": 430,
   "metadata": {},
   "outputs": [],
   "source": [
    "minus_list = []\n",
    "for col in Test_Set_filtered.columns:       \n",
    "    total = Test_Set_filtered[Test_Set_filtered[col] == -1].count()\n",
    "    if total[0] > 0: \n",
    "        minus_list.append(col)"
   ]
  },
  {
   "cell_type": "code",
   "execution_count": 431,
   "metadata": {},
   "outputs": [
    {
     "data": {
      "text/plain": [
       "['ps_car_01_cat', 'ps_car_09_cat', 'ps_car_14']"
      ]
     },
     "execution_count": 431,
     "metadata": {},
     "output_type": "execute_result"
    }
   ],
   "source": [
    "minus_list"
   ]
  },
  {
   "cell_type": "code",
   "execution_count": 432,
   "metadata": {},
   "outputs": [
    {
     "name": "stderr",
     "output_type": "stream",
     "text": [
      "/Users/jalajkhandelwal/Library/Python/3.7/lib/python/site-packages/ipykernel_launcher.py:3: SettingWithCopyWarning: \n",
      "A value is trying to be set on a copy of a slice from a DataFrame.\n",
      "Try using .loc[row_indexer,col_indexer] = value instead\n",
      "\n",
      "See the caveats in the documentation: http://pandas.pydata.org/pandas-docs/stable/user_guide/indexing.html#returning-a-view-versus-a-copy\n",
      "  This is separate from the ipykernel package so we can avoid doing imports until\n",
      "/Users/jalajkhandelwal/Library/Python/3.7/lib/python/site-packages/ipykernel_launcher.py:3: SettingWithCopyWarning: \n",
      "A value is trying to be set on a copy of a slice from a DataFrame.\n",
      "Try using .loc[row_indexer,col_indexer] = value instead\n",
      "\n",
      "See the caveats in the documentation: http://pandas.pydata.org/pandas-docs/stable/user_guide/indexing.html#returning-a-view-versus-a-copy\n",
      "  This is separate from the ipykernel package so we can avoid doing imports until\n",
      "/Users/jalajkhandelwal/Library/Python/3.7/lib/python/site-packages/ipykernel_launcher.py:3: SettingWithCopyWarning: \n",
      "A value is trying to be set on a copy of a slice from a DataFrame.\n",
      "Try using .loc[row_indexer,col_indexer] = value instead\n",
      "\n",
      "See the caveats in the documentation: http://pandas.pydata.org/pandas-docs/stable/user_guide/indexing.html#returning-a-view-versus-a-copy\n",
      "  This is separate from the ipykernel package so we can avoid doing imports until\n"
     ]
    }
   ],
   "source": [
    "for col in minus_list:\n",
    "    Test_Set_filtered[col] = imputer_list[col]\\\n",
    "                                .transform(Test_Set_filtered[[col]])"
   ]
  },
  {
   "cell_type": "code",
   "execution_count": 433,
   "metadata": {},
   "outputs": [],
   "source": [
    "minus_list = []\n",
    "for col in Test_Set_filtered.columns:       \n",
    "    total = Test_Set_filtered[Test_Set_filtered[col] == -1].count()\n",
    "    if total[0] > 0: \n",
    "        minus_list.append(col)"
   ]
  },
  {
   "cell_type": "code",
   "execution_count": 435,
   "metadata": {},
   "outputs": [],
   "source": [
    "Test_Set_Final = pd.get_dummies(Test_Set_filtered, \n",
    "                               columns=list_of_cols) "
   ]
  },
  {
   "cell_type": "code",
   "execution_count": 436,
   "metadata": {},
   "outputs": [
    {
     "data": {
      "text/plain": [
       "(892816, 149)"
      ]
     },
     "execution_count": 436,
     "metadata": {},
     "output_type": "execute_result"
    }
   ],
   "source": [
    "Test_Set_Final.shape"
   ]
  },
  {
   "cell_type": "code",
   "execution_count": 437,
   "metadata": {},
   "outputs": [],
   "source": [
    "scaled_test = scaler.transform(Test_Set_Final)"
   ]
  },
  {
   "cell_type": "code",
   "execution_count": 438,
   "metadata": {},
   "outputs": [],
   "source": [
    "probabilities = best_model.predict_proba(scaled_test)"
   ]
  },
  {
   "cell_type": "code",
   "execution_count": 442,
   "metadata": {},
   "outputs": [],
   "source": [
    "output_list = [i[0] for i in probabilities]"
   ]
  },
  {
   "cell_type": "code",
   "execution_count": 444,
   "metadata": {},
   "outputs": [],
   "source": [
    "output_dataframe = pd.DataFrame(data={\"id\": test_id, \"target\": output_list})"
   ]
  },
  {
   "cell_type": "code",
   "execution_count": 446,
   "metadata": {},
   "outputs": [],
   "source": [
    "output_dataframe.to_csv(\"output.csv\", index=False)"
   ]
  },
  {
   "cell_type": "code",
   "execution_count": null,
   "metadata": {},
   "outputs": [],
   "source": []
  }
 ],
 "metadata": {
  "kernelspec": {
   "display_name": "Python 3",
   "language": "python",
   "name": "python3"
  },
  "language_info": {
   "codemirror_mode": {
    "name": "ipython",
    "version": 3
   },
   "file_extension": ".py",
   "mimetype": "text/x-python",
   "name": "python",
   "nbconvert_exporter": "python",
   "pygments_lexer": "ipython3",
   "version": "3.7.6"
  }
 },
 "nbformat": 4,
 "nbformat_minor": 4
}
